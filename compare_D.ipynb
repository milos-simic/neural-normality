{
 "cells": [
  {
   "cell_type": "markdown",
   "id": "3799a433",
   "metadata": {},
   "source": [
    "# Compare the DBNNs to Other Tests on Set $\\mathcal{D}$"
   ]
  },
  {
   "cell_type": "markdown",
   "id": "42badb11",
   "metadata": {},
   "source": [
    "## Set up The Environment"
   ]
  },
  {
   "cell_type": "code",
   "execution_count": 1,
   "id": "55c528c6",
   "metadata": {
    "ExecuteTime": {
     "end_time": "2021-04-30T03:28:08.350802Z",
     "start_time": "2021-04-30T03:27:49.486413Z"
    }
   },
   "outputs": [],
   "source": [
    "# Import everything that's needed to run the notebook\n",
    "import os\n",
    "import pickle\n",
    "import dill\n",
    "import pathlib\n",
    "import datetime\n",
    "import random\n",
    "\n",
    "from IPython.display import display, Markdown, Latex\n",
    "import pandas as pd\n",
    "import numpy as np\n",
    "import sklearn\n",
    "from sklearn.pipeline import Pipeline\n",
    "from sklearn.base import BaseEstimator, TransformerMixin\n",
    "from sklearn.ensemble import RandomForestClassifier\n",
    "from sklearn.impute import SimpleImputer\n",
    "from sklearn.neural_network import MLPClassifier\n",
    "import scipy.stats\n",
    "import matplotlib.pyplot as plt\n",
    "from matplotlib.lines import Line2D\n",
    "\n",
    "import util\n",
    "import robust\n",
    "from ipynb.fs.defs.descriptor_based_neural_networks import DescriptorBuilder, dbnn_output, prepare_input\n",
    "from ipynb.fs.defs.construct_sbnn import SBNNPreprocessor\n",
    "from sklearn.model_selection import learning_curve\n",
    "\n",
    "plt.rc('xtick',labelsize=13)\n",
    "plt.rc('ytick',labelsize=13)"
   ]
  },
  {
   "cell_type": "code",
   "execution_count": 2,
   "id": "9a075909",
   "metadata": {
    "ExecuteTime": {
     "end_time": "2021-04-30T03:28:08.404553Z",
     "start_time": "2021-04-30T03:28:08.359360Z"
    }
   },
   "outputs": [],
   "source": [
    "# Define the path to the configuration dictionary\n",
    "config_path = 'configuration.p'\n",
    "\n",
    "# Load the configuration dictionary\n",
    "with open(config_path, 'rb') as f:\n",
    "    configuration = pickle.load(f)\n",
    "    \n",
    "# Get the paths to the relevant directories \n",
    "data_directory_path = configuration['data']['directory_path']\n",
    "classifiers_directory_path = configuration['classifiers']['directory_path']"
   ]
  },
  {
   "cell_type": "markdown",
   "id": "065df7ea",
   "metadata": {
    "ExecuteTime": {
     "end_time": "2021-04-26T02:18:25.325548Z",
     "start_time": "2021-04-26T02:18:25.322244Z"
    }
   },
   "source": [
    "## Load and Prepare Set $\\mathcal{D}$"
   ]
  },
  {
   "cell_type": "code",
   "execution_count": 4,
   "id": "151a5143",
   "metadata": {
    "ExecuteTime": {
     "end_time": "2021-04-28T18:09:48.052097Z",
     "start_time": "2021-04-28T18:09:47.049568Z"
    }
   },
   "outputs": [
    {
     "name": "stdout",
     "output_type": "stream",
     "text": [
      "Loading D from data/D.data\n",
      "Done.\n"
     ]
    }
   ],
   "source": [
    "# Define the dictionary to store the actual datasets, indexed by their names\n",
    "datasets = {}\n",
    "\n",
    "# Load the dataset\n",
    "set_path = configuration['data']['datasets']['D']['path']\n",
    "print('Loading {} from {}'.format('D', set_path))\n",
    "set_D = util.load_from_file(set_path)\n",
    "\n",
    "# Separate the labels from the samples\n",
    "labels = [sample.pop() for sample in set_D]\n",
    "samples = set_D\n",
    "\n",
    "print('Done.')"
   ]
  },
  {
   "cell_type": "markdown",
   "id": "af97b840",
   "metadata": {},
   "source": [
    "## Load the Storages of Results and Reports"
   ]
  },
  {
   "cell_type": "code",
   "execution_count": 3,
   "id": "cad83a53",
   "metadata": {
    "ExecuteTime": {
     "end_time": "2021-04-30T03:28:10.155983Z",
     "start_time": "2021-04-30T03:28:08.406253Z"
    }
   },
   "outputs": [],
   "source": [
    "dbnn_storage = {}\n",
    "\n",
    "results_directory_path = configuration['results']['directory_path']\n",
    "path = os.path.join(results_directory_path, 'dbnn_results.p')\n",
    "with open(path, 'rb') as f:\n",
    "    dbnn_storage['results'] = pickle.load(f)\n",
    "\n",
    "reports_directory_path = configuration['reports']['directory_path']\n",
    "path = os.path.join(reports_directory_path, 'dbnn')\n",
    "path = os.path.join(path, 'dbnn_reports.p')\n",
    "with open(path, 'rb') as f:\n",
    "    dbnn_storage['reports'] = pickle.load(f)"
   ]
  },
  {
   "cell_type": "markdown",
   "id": "79a1b65c",
   "metadata": {},
   "source": [
    "## Load the Tests"
   ]
  },
  {
   "cell_type": "code",
   "execution_count": 6,
   "id": "76789748",
   "metadata": {
    "ExecuteTime": {
     "end_time": "2021-04-28T18:09:58.565336Z",
     "start_time": "2021-04-28T18:09:58.371590Z"
    }
   },
   "outputs": [],
   "source": [
    "# Make a dictionary to hold the tests\n",
    "test_classifiers = {}\n",
    "\n",
    "# Specify the classical tests\n",
    "codes = ['SW', 'SF', 'LF', 'JB', 'DP', 'AD', 'CVM', 'FSSD']\n",
    "\n",
    "# Load the classical tests\n",
    "for test_code in codes:\n",
    "    test, statistic = util.get_test(test_code)\n",
    "    for alpha in [0.01, 0.05]:\n",
    "        test_classifiers[(test_code, alpha)] = util.TestClassifier(test, statistic, alpha)\n",
    "\n",
    "# Although SBNN is not technically a test, consider it too.\n",
    "with open(os.path.join('classifiers', 'sbnn.p'), 'rb') as f:\n",
    "    sbnn = pickle.load(f)\n",
    "\n",
    "test_classifiers[('SBNN', '')] = sbnn\n",
    "codes += ['SBNN']\n",
    "\n",
    "# Specify the robustified tests\n",
    "robust_codes = ['MMRT1', 'MMRT2', 'TTRT1', 'TTRT2', 'RSW', 'RLM']\n",
    "\n",
    "# Load the robustified tests\n",
    "for test_code in robust_codes:\n",
    "    test, statistic = robust.get_robust_test(test_code)\n",
    "    for alpha in [0.01, 0.05]:\n",
    "        test_classifiers[(test_code, alpha)] = util.TestClassifier(test, statistic, alpha)"
   ]
  },
  {
   "cell_type": "markdown",
   "id": "cd13ecdb",
   "metadata": {},
   "source": [
    "## Load the DBNNs"
   ]
  },
  {
   "cell_type": "code",
   "execution_count": 14,
   "id": "44edeb5c",
   "metadata": {
    "ExecuteTime": {
     "end_time": "2021-04-28T18:47:44.498526Z",
     "start_time": "2021-04-28T18:47:44.224194Z"
    }
   },
   "outputs": [],
   "source": [
    "with open('dbnns1.p', 'rb') as f:\n",
    "    dbnns = dill.load(f)\n",
    "\n",
    "dbnn = dbnns['DBNN']"
   ]
  },
  {
   "cell_type": "markdown",
   "id": "1b197be4",
   "metadata": {},
   "source": [
    "## Compare by TPR, PPV, TNR, NPV, and F1"
   ]
  },
  {
   "cell_type": "code",
   "execution_count": 18,
   "id": "3e831274",
   "metadata": {
    "ExecuteTime": {
     "end_time": "2021-04-28T18:58:51.711527Z",
     "start_time": "2021-04-28T18:58:51.702625Z"
    }
   },
   "outputs": [],
   "source": [
    "dbnn_storage['results']['comparison']['D'] = {}"
   ]
  },
  {
   "cell_type": "code",
   "execution_count": 19,
   "id": "4eeeb07c",
   "metadata": {
    "ExecuteTime": {
     "end_time": "2021-04-28T19:09:20.372721Z",
     "start_time": "2021-04-28T18:59:04.188105Z"
    }
   },
   "outputs": [
    {
     "name": "stdout",
     "output_type": "stream",
     "text": [
      "SW 0.01\n"
     ]
    },
    {
     "name": "stderr",
     "output_type": "stream",
     "text": [
      "/home/milos/statisticka_klasifikacija/p39normal/lib/python3.9/site-packages/scipy/stats/morestats.py:1678: UserWarning: Input data for shapiro has range zero. The results may not be accurate.\n",
      "  warnings.warn(\"Input data for shapiro has range zero. The results \"\n"
     ]
    },
    {
     "name": "stdout",
     "output_type": "stream",
     "text": [
      "SW 0.05\n"
     ]
    },
    {
     "name": "stderr",
     "output_type": "stream",
     "text": [
      "/home/milos/statisticka_klasifikacija/p39normal/lib/python3.9/site-packages/scipy/stats/morestats.py:1678: UserWarning: Input data for shapiro has range zero. The results may not be accurate.\n",
      "  warnings.warn(\"Input data for shapiro has range zero. The results \"\n"
     ]
    },
    {
     "name": "stdout",
     "output_type": "stream",
     "text": [
      "SF 0.01\n",
      "SF 0.05\n",
      "LF 0.01\n",
      "LF 0.05\n",
      "JB 0.01\n"
     ]
    },
    {
     "name": "stderr",
     "output_type": "stream",
     "text": [
      "/home/milos/statisticka_klasifikacija/p39normal/lib/python3.9/site-packages/scipy/stats/stats.py:1762: RuntimeWarning: invalid value encountered in double_scalars\n",
      "  skewness = (1 / n * np.sum(diffx**3)) / (1 / n * np.sum(diffx**2))**(3 / 2.)\n",
      "/home/milos/statisticka_klasifikacija/p39normal/lib/python3.9/site-packages/scipy/stats/stats.py:1763: RuntimeWarning: invalid value encountered in double_scalars\n",
      "  kurtosis = (1 / n * np.sum(diffx**4)) / (1 / n * np.sum(diffx**2))**2\n"
     ]
    },
    {
     "name": "stdout",
     "output_type": "stream",
     "text": [
      "JB 0.05\n"
     ]
    },
    {
     "name": "stderr",
     "output_type": "stream",
     "text": [
      "/home/milos/statisticka_klasifikacija/p39normal/lib/python3.9/site-packages/scipy/stats/stats.py:1762: RuntimeWarning: invalid value encountered in double_scalars\n",
      "  skewness = (1 / n * np.sum(diffx**3)) / (1 / n * np.sum(diffx**2))**(3 / 2.)\n",
      "/home/milos/statisticka_klasifikacija/p39normal/lib/python3.9/site-packages/scipy/stats/stats.py:1763: RuntimeWarning: invalid value encountered in double_scalars\n",
      "  kurtosis = (1 / n * np.sum(diffx**4)) / (1 / n * np.sum(diffx**2))**2\n"
     ]
    },
    {
     "name": "stdout",
     "output_type": "stream",
     "text": [
      "DP 0.01\n"
     ]
    },
    {
     "name": "stderr",
     "output_type": "stream",
     "text": [
      "/home/milos/statisticka_klasifikacija/p39normal/lib/python3.9/site-packages/scipy/stats/stats.py:1603: UserWarning: kurtosistest only valid for n>=20 ... continuing anyway, n=10\n",
      "  warnings.warn(\"kurtosistest only valid for n>=20 ... continuing \"\n"
     ]
    },
    {
     "name": "stdout",
     "output_type": "stream",
     "text": [
      "DP 0.05\n"
     ]
    },
    {
     "name": "stderr",
     "output_type": "stream",
     "text": [
      "/home/milos/statisticka_klasifikacija/p39normal/lib/python3.9/site-packages/scipy/stats/stats.py:1603: UserWarning: kurtosistest only valid for n>=20 ... continuing anyway, n=10\n",
      "  warnings.warn(\"kurtosistest only valid for n>=20 ... continuing \"\n"
     ]
    },
    {
     "name": "stdout",
     "output_type": "stream",
     "text": [
      "AD 0.01\n"
     ]
    },
    {
     "name": "stderr",
     "output_type": "stream",
     "text": [
      "/home/milos/statisticka_klasifikacija/p39normal/lib/python3.9/site-packages/scipy/stats/morestats.py:1785: RuntimeWarning: invalid value encountered in true_divide\n",
      "  w = (y - xbar) / s\n"
     ]
    },
    {
     "name": "stdout",
     "output_type": "stream",
     "text": [
      "AD 0.05\n"
     ]
    },
    {
     "name": "stderr",
     "output_type": "stream",
     "text": [
      "/home/milos/statisticka_klasifikacija/p39normal/lib/python3.9/site-packages/scipy/stats/morestats.py:1785: RuntimeWarning: invalid value encountered in true_divide\n",
      "  w = (y - xbar) / s\n"
     ]
    },
    {
     "name": "stdout",
     "output_type": "stream",
     "text": [
      "CVM 0.01\n",
      "CVM 0.05\n",
      "FSSD 0.01\n",
      "sigma2 must be > 0. Was 0.0\n",
      "sigma2 must be > 0. Was 0.0\n",
      "sigma2 must be > 0. Was 0.0\n",
      "sigma2 must be > 0. Was 0.0\n",
      "sigma2 must be > 0. Was 0.0\n",
      "sigma2 must be > 0. Was 0.0\n",
      "sigma2 must be > 0. Was 0.0\n",
      "sigma2 must be > 0. Was 0.0\n",
      "sigma2 must be > 0. Was 0.0\n",
      "sigma2 must be > 0. Was 0.0\n",
      "sigma2 must be > 0. Was 0.0\n",
      "sigma2 must be > 0. Was 0.0\n",
      "sigma2 must be > 0. Was 0.0\n",
      "sigma2 must be > 0. Was 0.0\n",
      "sigma2 must be > 0. Was 0.0\n",
      "sigma2 must be > 0. Was 0.0\n",
      "sigma2 must be > 0. Was 0.0\n",
      "sigma2 must be > 0. Was 0.0\n",
      "sigma2 must be > 0. Was 0.0\n",
      "sigma2 must be > 0. Was 0.0\n",
      "sigma2 must be > 0. Was 0.0\n",
      "sigma2 must be > 0. Was 0.0\n",
      "sigma2 must be > 0. Was 0.0\n",
      "sigma2 must be > 0. Was 0.0\n",
      "sigma2 must be > 0. Was 0.0\n",
      "sigma2 must be > 0. Was 0.0\n",
      "sigma2 must be > 0. Was 0.0\n",
      "sigma2 must be > 0. Was 0.0\n",
      "sigma2 must be > 0. Was 0.0\n",
      "sigma2 must be > 0. Was 0.0\n",
      "sigma2 must be > 0. Was 0.0\n",
      "sigma2 must be > 0. Was 0.0\n",
      "sigma2 must be > 0. Was 0.0\n",
      "sigma2 must be > 0. Was 0.0\n",
      "sigma2 must be > 0. Was 0.0\n",
      "sigma2 must be > 0. Was 0.0\n",
      "sigma2 must be > 0. Was 0.0\n",
      "sigma2 must be > 0. Was 0.0\n",
      "sigma2 must be > 0. Was 0.0\n",
      "sigma2 must be > 0. Was 0.0\n",
      "sigma2 must be > 0. Was 0.0\n",
      "sigma2 must be > 0. Was 0.0\n",
      "sigma2 must be > 0. Was 0.0\n",
      "sigma2 must be > 0. Was 0.0\n",
      "sigma2 must be > 0. Was 0.0\n",
      "sigma2 must be > 0. Was 0.0\n",
      "sigma2 must be > 0. Was 0.0\n",
      "sigma2 must be > 0. Was 0.0\n",
      "sigma2 must be > 0. Was 0.0\n",
      "sigma2 must be > 0. Was 0.0\n",
      "sigma2 must be > 0. Was 0.0\n",
      "sigma2 must be > 0. Was 0.0\n",
      "sigma2 must be > 0. Was 0.0\n",
      "sigma2 must be > 0. Was 0.0\n",
      "sigma2 must be > 0. Was 0.0\n",
      "sigma2 must be > 0. Was 0.0\n",
      "sigma2 must be > 0. Was 0.0\n",
      "sigma2 must be > 0. Was 0.0\n",
      "sigma2 must be > 0. Was 0.0\n",
      "sigma2 must be > 0. Was 0.0\n",
      "sigma2 must be > 0. Was 0.0\n",
      "sigma2 must be > 0. Was 0.0\n",
      "sigma2 must be > 0. Was 0.0\n",
      "sigma2 must be > 0. Was 0.0\n",
      "sigma2 must be > 0. Was 0.0\n",
      "sigma2 must be > 0. Was 0.0\n",
      "sigma2 must be > 0. Was 0.0\n",
      "sigma2 must be > 0. Was 0.0\n",
      "sigma2 must be > 0. Was 0.0\n",
      "sigma2 must be > 0. Was 0.0\n",
      "sigma2 must be > 0. Was 0.0\n",
      "sigma2 must be > 0. Was 0.0\n",
      "sigma2 must be > 0. Was 0.0\n",
      "sigma2 must be > 0. Was 0.0\n",
      "sigma2 must be > 0. Was 0.0\n",
      "sigma2 must be > 0. Was 0.0\n",
      "sigma2 must be > 0. Was 0.0\n",
      "sigma2 must be > 0. Was 0.0\n",
      "sigma2 must be > 0. Was 0.0\n",
      "sigma2 must be > 0. Was 0.0\n",
      "sigma2 must be > 0. Was 0.0\n",
      "sigma2 must be > 0. Was 0.0\n",
      "sigma2 must be > 0. Was 0.0\n",
      "sigma2 must be > 0. Was 0.0\n",
      "sigma2 must be > 0. Was 0.0\n",
      "sigma2 must be > 0. Was 0.0\n",
      "sigma2 must be > 0. Was 0.0\n",
      "sigma2 must be > 0. Was 0.0\n",
      "sigma2 must be > 0. Was 0.0\n",
      "sigma2 must be > 0. Was 0.0\n",
      "sigma2 must be > 0. Was 0.0\n",
      "sigma2 must be > 0. Was 0.0\n",
      "sigma2 must be > 0. Was 0.0\n",
      "sigma2 must be > 0. Was 0.0\n",
      "sigma2 must be > 0. Was 0.0\n",
      "sigma2 must be > 0. Was 0.0\n",
      "sigma2 must be > 0. Was 0.0\n",
      "sigma2 must be > 0. Was 0.0\n",
      "sigma2 must be > 0. Was 0.0\n",
      "sigma2 must be > 0. Was 0.0\n",
      "sigma2 must be > 0. Was 0.0\n",
      "sigma2 must be > 0. Was 0.0\n",
      "sigma2 must be > 0. Was 0.0\n",
      "sigma2 must be > 0. Was 0.0\n",
      "sigma2 must be > 0. Was 0.0\n",
      "sigma2 must be > 0. Was 0.0\n",
      "sigma2 must be > 0. Was 0.0\n",
      "sigma2 must be > 0. Was 0.0\n",
      "sigma2 must be > 0. Was 0.0\n",
      "sigma2 must be > 0. Was 0.0\n",
      "sigma2 must be > 0. Was 0.0\n",
      "sigma2 must be > 0. Was 0.0\n",
      "sigma2 must be > 0. Was 0.0\n",
      "sigma2 must be > 0. Was 0.0\n",
      "sigma2 must be > 0. Was 0.0\n",
      "sigma2 must be > 0. Was 0.0\n",
      "sigma2 must be > 0. Was 0.0\n",
      "sigma2 must be > 0. Was 0.0\n",
      "sigma2 must be > 0. Was 0.0\n",
      "sigma2 must be > 0. Was 0.0\n",
      "sigma2 must be > 0. Was 0.0\n",
      "sigma2 must be > 0. Was 0.0\n",
      "sigma2 must be > 0. Was 0.0\n",
      "sigma2 must be > 0. Was 0.0\n",
      "sigma2 must be > 0. Was 0.0\n",
      "sigma2 must be > 0. Was 0.0\n",
      "sigma2 must be > 0. Was 0.0\n",
      "sigma2 must be > 0. Was 0.0\n",
      "sigma2 must be > 0. Was 0.0\n",
      "sigma2 must be > 0. Was 0.0\n",
      "sigma2 must be > 0. Was 0.0\n",
      "sigma2 must be > 0. Was 0.0\n",
      "sigma2 must be > 0. Was 0.0\n",
      "sigma2 must be > 0. Was 0.0\n",
      "sigma2 must be > 0. Was 0.0\n",
      "sigma2 must be > 0. Was 0.0\n",
      "sigma2 must be > 0. Was 0.0\n",
      "sigma2 must be > 0. Was 0.0\n",
      "sigma2 must be > 0. Was 0.0\n",
      "sigma2 must be > 0. Was 0.0\n",
      "sigma2 must be > 0. Was 0.0\n",
      "sigma2 must be > 0. Was 0.0\n",
      "sigma2 must be > 0. Was 0.0\n",
      "sigma2 must be > 0. Was 0.0\n",
      "sigma2 must be > 0. Was 0.0\n",
      "sigma2 must be > 0. Was 0.0\n",
      "sigma2 must be > 0. Was 0.0\n",
      "sigma2 must be > 0. Was 0.0\n",
      "sigma2 must be > 0. Was 0.0\n",
      "sigma2 must be > 0. Was 0.0\n",
      "sigma2 must be > 0. Was 0.0\n",
      "sigma2 must be > 0. Was 0.0\n",
      "sigma2 must be > 0. Was 0.0\n",
      "sigma2 must be > 0. Was 0.0\n",
      "sigma2 must be > 0. Was 0.0\n",
      "sigma2 must be > 0. Was 0.0\n",
      "sigma2 must be > 0. Was 0.0\n",
      "sigma2 must be > 0. Was 0.0\n",
      "sigma2 must be > 0. Was 0.0\n",
      "sigma2 must be > 0. Was 0.0\n",
      "sigma2 must be > 0. Was 0.0\n",
      "sigma2 must be > 0. Was 0.0\n",
      "sigma2 must be > 0. Was 0.0\n",
      "sigma2 must be > 0. Was 0.0\n",
      "sigma2 must be > 0. Was 0.0\n",
      "sigma2 must be > 0. Was 0.0\n",
      "sigma2 must be > 0. Was 0.0\n",
      "sigma2 must be > 0. Was 0.0\n",
      "sigma2 must be > 0. Was 0.0\n",
      "sigma2 must be > 0. Was 0.0\n",
      "sigma2 must be > 0. Was 0.0\n",
      "sigma2 must be > 0. Was 0.0\n",
      "sigma2 must be > 0. Was 0.0\n",
      "sigma2 must be > 0. Was 0.0\n",
      "sigma2 must be > 0. Was 0.0\n",
      "sigma2 must be > 0. Was 0.0\n",
      "sigma2 must be > 0. Was 0.0\n",
      "sigma2 must be > 0. Was 0.0\n",
      "sigma2 must be > 0. Was 0.0\n",
      "sigma2 must be > 0. Was 0.0\n",
      "sigma2 must be > 0. Was 0.0\n",
      "sigma2 must be > 0. Was 0.0\n",
      "sigma2 must be > 0. Was 0.0\n",
      "sigma2 must be > 0. Was 0.0\n",
      "sigma2 must be > 0. Was 0.0\n",
      "sigma2 must be > 0. Was 0.0\n",
      "sigma2 must be > 0. Was 0.0\n",
      "sigma2 must be > 0. Was 0.0\n",
      "sigma2 must be > 0. Was 0.0\n",
      "sigma2 must be > 0. Was 0.0\n",
      "sigma2 must be > 0. Was 0.0\n",
      "sigma2 must be > 0. Was 0.0\n",
      "sigma2 must be > 0. Was 0.0\n",
      "sigma2 must be > 0. Was 0.0\n",
      "sigma2 must be > 0. Was 0.0\n",
      "sigma2 must be > 0. Was 0.0\n",
      "sigma2 must be > 0. Was 0.0\n",
      "sigma2 must be > 0. Was 0.0\n",
      "sigma2 must be > 0. Was 0.0\n",
      "sigma2 must be > 0. Was 0.0\n",
      "sigma2 must be > 0. Was 0.0\n",
      "sigma2 must be > 0. Was 0.0\n",
      "sigma2 must be > 0. Was 0.0\n",
      "sigma2 must be > 0. Was 0.0\n",
      "sigma2 must be > 0. Was 0.0\n",
      "sigma2 must be > 0. Was 0.0\n",
      "sigma2 must be > 0. Was 0.0\n",
      "sigma2 must be > 0. Was 0.0\n",
      "sigma2 must be > 0. Was 0.0\n",
      "sigma2 must be > 0. Was 0.0\n",
      "sigma2 must be > 0. Was 0.0\n",
      "sigma2 must be > 0. Was 0.0\n",
      "sigma2 must be > 0. Was 0.0\n",
      "sigma2 must be > 0. Was 0.0\n",
      "sigma2 must be > 0. Was 0.0\n",
      "sigma2 must be > 0. Was 0.0\n",
      "sigma2 must be > 0. Was 0.0\n",
      "sigma2 must be > 0. Was 0.0\n",
      "sigma2 must be > 0. Was 0.0\n",
      "sigma2 must be > 0. Was 0.0\n",
      "sigma2 must be > 0. Was 0.0\n",
      "sigma2 must be > 0. Was 0.0\n",
      "sigma2 must be > 0. Was 0.0\n",
      "sigma2 must be > 0. Was 0.0\n",
      "sigma2 must be > 0. Was 0.0\n",
      "sigma2 must be > 0. Was 0.0\n",
      "sigma2 must be > 0. Was 0.0\n",
      "FSSD 0.05\n",
      "sigma2 must be > 0. Was 0.0\n",
      "sigma2 must be > 0. Was 0.0\n",
      "sigma2 must be > 0. Was 0.0\n",
      "sigma2 must be > 0. Was 0.0\n",
      "sigma2 must be > 0. Was 0.0\n",
      "sigma2 must be > 0. Was 0.0\n",
      "sigma2 must be > 0. Was 0.0\n",
      "sigma2 must be > 0. Was 0.0\n",
      "sigma2 must be > 0. Was 0.0\n",
      "sigma2 must be > 0. Was 0.0\n",
      "sigma2 must be > 0. Was 0.0\n",
      "sigma2 must be > 0. Was 0.0\n",
      "sigma2 must be > 0. Was 0.0\n",
      "sigma2 must be > 0. Was 0.0\n",
      "sigma2 must be > 0. Was 0.0\n",
      "sigma2 must be > 0. Was 0.0\n",
      "sigma2 must be > 0. Was 0.0\n",
      "sigma2 must be > 0. Was 0.0\n",
      "sigma2 must be > 0. Was 0.0\n",
      "sigma2 must be > 0. Was 0.0\n",
      "sigma2 must be > 0. Was 0.0\n",
      "sigma2 must be > 0. Was 0.0\n",
      "sigma2 must be > 0. Was 0.0\n",
      "sigma2 must be > 0. Was 0.0\n",
      "sigma2 must be > 0. Was 0.0\n",
      "sigma2 must be > 0. Was 0.0\n",
      "sigma2 must be > 0. Was 0.0\n",
      "sigma2 must be > 0. Was 0.0\n",
      "sigma2 must be > 0. Was 0.0\n",
      "sigma2 must be > 0. Was 0.0\n",
      "sigma2 must be > 0. Was 0.0\n",
      "sigma2 must be > 0. Was 0.0\n",
      "sigma2 must be > 0. Was 0.0\n",
      "sigma2 must be > 0. Was 0.0\n",
      "sigma2 must be > 0. Was 0.0\n",
      "sigma2 must be > 0. Was 0.0\n",
      "sigma2 must be > 0. Was 0.0\n",
      "sigma2 must be > 0. Was 0.0\n",
      "sigma2 must be > 0. Was 0.0\n",
      "sigma2 must be > 0. Was 0.0\n",
      "sigma2 must be > 0. Was 0.0\n",
      "sigma2 must be > 0. Was 0.0\n",
      "sigma2 must be > 0. Was 0.0\n",
      "sigma2 must be > 0. Was 0.0\n",
      "sigma2 must be > 0. Was 0.0\n",
      "sigma2 must be > 0. Was 0.0\n",
      "sigma2 must be > 0. Was 0.0\n",
      "sigma2 must be > 0. Was 0.0\n",
      "sigma2 must be > 0. Was 0.0\n",
      "sigma2 must be > 0. Was 0.0\n",
      "sigma2 must be > 0. Was 0.0\n",
      "sigma2 must be > 0. Was 0.0\n",
      "sigma2 must be > 0. Was 0.0\n",
      "sigma2 must be > 0. Was 0.0\n",
      "sigma2 must be > 0. Was 0.0\n",
      "sigma2 must be > 0. Was 0.0\n",
      "sigma2 must be > 0. Was 0.0\n",
      "sigma2 must be > 0. Was 0.0\n",
      "sigma2 must be > 0. Was 0.0\n",
      "sigma2 must be > 0. Was 0.0\n",
      "sigma2 must be > 0. Was 0.0\n",
      "sigma2 must be > 0. Was 0.0\n",
      "sigma2 must be > 0. Was 0.0\n",
      "sigma2 must be > 0. Was 0.0\n",
      "sigma2 must be > 0. Was 0.0\n",
      "sigma2 must be > 0. Was 0.0\n",
      "sigma2 must be > 0. Was 0.0\n",
      "sigma2 must be > 0. Was 0.0\n",
      "sigma2 must be > 0. Was 0.0\n",
      "sigma2 must be > 0. Was 0.0\n",
      "sigma2 must be > 0. Was 0.0\n",
      "sigma2 must be > 0. Was 0.0\n",
      "sigma2 must be > 0. Was 0.0\n",
      "sigma2 must be > 0. Was 0.0\n"
     ]
    },
    {
     "name": "stdout",
     "output_type": "stream",
     "text": [
      "sigma2 must be > 0. Was 0.0\n",
      "sigma2 must be > 0. Was 0.0\n",
      "sigma2 must be > 0. Was 0.0\n",
      "sigma2 must be > 0. Was 0.0\n",
      "sigma2 must be > 0. Was 0.0\n",
      "sigma2 must be > 0. Was 0.0\n",
      "sigma2 must be > 0. Was 0.0\n",
      "sigma2 must be > 0. Was 0.0\n",
      "sigma2 must be > 0. Was 0.0\n",
      "sigma2 must be > 0. Was 0.0\n",
      "sigma2 must be > 0. Was 0.0\n",
      "sigma2 must be > 0. Was 0.0\n",
      "sigma2 must be > 0. Was 0.0\n",
      "sigma2 must be > 0. Was 0.0\n",
      "sigma2 must be > 0. Was 0.0\n",
      "sigma2 must be > 0. Was 0.0\n",
      "sigma2 must be > 0. Was 0.0\n",
      "sigma2 must be > 0. Was 0.0\n",
      "sigma2 must be > 0. Was 0.0\n",
      "sigma2 must be > 0. Was 0.0\n",
      "sigma2 must be > 0. Was 0.0\n",
      "sigma2 must be > 0. Was 0.0\n",
      "sigma2 must be > 0. Was 0.0\n",
      "sigma2 must be > 0. Was 0.0\n",
      "sigma2 must be > 0. Was 0.0\n",
      "sigma2 must be > 0. Was 0.0\n",
      "sigma2 must be > 0. Was 0.0\n",
      "sigma2 must be > 0. Was 0.0\n",
      "sigma2 must be > 0. Was 0.0\n",
      "sigma2 must be > 0. Was 0.0\n",
      "sigma2 must be > 0. Was 0.0\n",
      "sigma2 must be > 0. Was 0.0\n",
      "sigma2 must be > 0. Was 0.0\n",
      "sigma2 must be > 0. Was 0.0\n",
      "sigma2 must be > 0. Was 0.0\n",
      "sigma2 must be > 0. Was 0.0\n",
      "sigma2 must be > 0. Was 0.0\n",
      "sigma2 must be > 0. Was 0.0\n",
      "sigma2 must be > 0. Was 0.0\n",
      "sigma2 must be > 0. Was 0.0\n",
      "sigma2 must be > 0. Was 0.0\n",
      "sigma2 must be > 0. Was 0.0\n",
      "sigma2 must be > 0. Was 0.0\n",
      "sigma2 must be > 0. Was 0.0\n",
      "sigma2 must be > 0. Was 0.0\n",
      "sigma2 must be > 0. Was 0.0\n",
      "sigma2 must be > 0. Was 0.0\n",
      "sigma2 must be > 0. Was 0.0\n",
      "sigma2 must be > 0. Was 0.0\n",
      "sigma2 must be > 0. Was 0.0\n",
      "sigma2 must be > 0. Was 0.0\n",
      "sigma2 must be > 0. Was 0.0\n",
      "sigma2 must be > 0. Was 0.0\n",
      "sigma2 must be > 0. Was 0.0\n",
      "sigma2 must be > 0. Was 0.0\n",
      "sigma2 must be > 0. Was 0.0\n",
      "sigma2 must be > 0. Was 0.0\n",
      "sigma2 must be > 0. Was 0.0\n",
      "sigma2 must be > 0. Was 0.0\n",
      "sigma2 must be > 0. Was 0.0\n",
      "sigma2 must be > 0. Was 0.0\n",
      "sigma2 must be > 0. Was 0.0\n",
      "sigma2 must be > 0. Was 0.0\n",
      "sigma2 must be > 0. Was 0.0\n",
      "sigma2 must be > 0. Was 0.0\n",
      "sigma2 must be > 0. Was 0.0\n",
      "sigma2 must be > 0. Was 0.0\n",
      "sigma2 must be > 0. Was 0.0\n",
      "sigma2 must be > 0. Was 0.0\n",
      "sigma2 must be > 0. Was 0.0\n",
      "sigma2 must be > 0. Was 0.0\n",
      "sigma2 must be > 0. Was 0.0\n",
      "sigma2 must be > 0. Was 0.0\n",
      "sigma2 must be > 0. Was 0.0\n",
      "sigma2 must be > 0. Was 0.0\n",
      "sigma2 must be > 0. Was 0.0\n",
      "sigma2 must be > 0. Was 0.0\n",
      "sigma2 must be > 0. Was 0.0\n",
      "sigma2 must be > 0. Was 0.0\n",
      "sigma2 must be > 0. Was 0.0\n",
      "sigma2 must be > 0. Was 0.0\n",
      "sigma2 must be > 0. Was 0.0\n",
      "sigma2 must be > 0. Was 0.0\n",
      "sigma2 must be > 0. Was 0.0\n",
      "sigma2 must be > 0. Was 0.0\n",
      "sigma2 must be > 0. Was 0.0\n",
      "sigma2 must be > 0. Was 0.0\n",
      "sigma2 must be > 0. Was 0.0\n",
      "sigma2 must be > 0. Was 0.0\n",
      "sigma2 must be > 0. Was 0.0\n",
      "sigma2 must be > 0. Was 0.0\n",
      "sigma2 must be > 0. Was 0.0\n",
      "sigma2 must be > 0. Was 0.0\n",
      "sigma2 must be > 0. Was 0.0\n",
      "sigma2 must be > 0. Was 0.0\n",
      "sigma2 must be > 0. Was 0.0\n",
      "sigma2 must be > 0. Was 0.0\n",
      "sigma2 must be > 0. Was 0.0\n",
      "sigma2 must be > 0. Was 0.0\n",
      "sigma2 must be > 0. Was 0.0\n",
      "sigma2 must be > 0. Was 0.0\n",
      "sigma2 must be > 0. Was 0.0\n",
      "sigma2 must be > 0. Was 0.0\n",
      "sigma2 must be > 0. Was 0.0\n",
      "sigma2 must be > 0. Was 0.0\n",
      "sigma2 must be > 0. Was 0.0\n",
      "sigma2 must be > 0. Was 0.0\n",
      "sigma2 must be > 0. Was 0.0\n",
      "sigma2 must be > 0. Was 0.0\n",
      "sigma2 must be > 0. Was 0.0\n",
      "sigma2 must be > 0. Was 0.0\n",
      "sigma2 must be > 0. Was 0.0\n",
      "sigma2 must be > 0. Was 0.0\n",
      "sigma2 must be > 0. Was 0.0\n",
      "sigma2 must be > 0. Was 0.0\n",
      "sigma2 must be > 0. Was 0.0\n",
      "sigma2 must be > 0. Was 0.0\n",
      "sigma2 must be > 0. Was 0.0\n",
      "sigma2 must be > 0. Was 0.0\n",
      "sigma2 must be > 0. Was 0.0\n",
      "sigma2 must be > 0. Was 0.0\n",
      "sigma2 must be > 0. Was 0.0\n",
      "sigma2 must be > 0. Was 0.0\n",
      "sigma2 must be > 0. Was 0.0\n",
      "sigma2 must be > 0. Was 0.0\n",
      "sigma2 must be > 0. Was 0.0\n",
      "sigma2 must be > 0. Was 0.0\n",
      "sigma2 must be > 0. Was 0.0\n",
      "sigma2 must be > 0. Was 0.0\n",
      "sigma2 must be > 0. Was 0.0\n",
      "sigma2 must be > 0. Was 0.0\n",
      "sigma2 must be > 0. Was 0.0\n",
      "sigma2 must be > 0. Was 0.0\n",
      "sigma2 must be > 0. Was 0.0\n",
      "sigma2 must be > 0. Was 0.0\n",
      "sigma2 must be > 0. Was 0.0\n",
      "sigma2 must be > 0. Was 0.0\n",
      "sigma2 must be > 0. Was 0.0\n",
      "sigma2 must be > 0. Was 0.0\n",
      "sigma2 must be > 0. Was 0.0\n",
      "sigma2 must be > 0. Was 0.0\n",
      "sigma2 must be > 0. Was 0.0\n",
      "sigma2 must be > 0. Was 0.0\n",
      "sigma2 must be > 0. Was 0.0\n",
      "sigma2 must be > 0. Was 0.0\n",
      "sigma2 must be > 0. Was 0.0\n",
      "sigma2 must be > 0. Was 0.0\n",
      "sigma2 must be > 0. Was 0.0\n",
      "sigma2 must be > 0. Was 0.0\n",
      "sigma2 must be > 0. Was 0.0\n",
      "sigma2 must be > 0. Was 0.0\n",
      "sigma2 must be > 0. Was 0.0\n",
      "sigma2 must be > 0. Was 0.0\n",
      "SBNN \n"
     ]
    },
    {
     "name": "stderr",
     "output_type": "stream",
     "text": [
      "/home/milos/statisticka_klasifikacija/p39normal/lib/python3.9/site-packages/scipy/stats/morestats.py:1678: UserWarning: Input data for shapiro has range zero. The results may not be accurate.\n",
      "  warnings.warn(\"Input data for shapiro has range zero. The results \"\n",
      "/home/milos/statisticka_klasifikacija/p39normal/lib/python3.9/site-packages/numpy/lib/function_base.py:2642: RuntimeWarning: invalid value encountered in true_divide\n",
      "  c /= stddev[:, None]\n",
      "/home/milos/statisticka_klasifikacija/p39normal/lib/python3.9/site-packages/numpy/lib/function_base.py:2643: RuntimeWarning: invalid value encountered in true_divide\n",
      "  c /= stddev[None, :]\n",
      "/home/milos/statisticka_klasifikacija/2020/github/construct_sbnn.ipynb:152: RuntimeWarning: divide by zero encountered in double_scalars\n",
      "  \"end_time\": \"2021-04-27T18:30:42.794129Z\",\n",
      "/home/milos/statisticka_klasifikacija/2020/github/construct_sbnn.ipynb:152: RuntimeWarning: invalid value encountered in double_scalars\n",
      "  \"end_time\": \"2021-04-27T18:30:42.794129Z\",\n"
     ]
    },
    {
     "name": "stdout",
     "output_type": "stream",
     "text": [
      "MMRT1 0.01\n"
     ]
    },
    {
     "name": "stderr",
     "output_type": "stream",
     "text": [
      "/home/milos/statisticka_klasifikacija/2020/github/robust.py:54: RuntimeWarning: invalid value encountered in double_scalars\n",
      "  skewness_estimate = (numerator_1 ** a1) / (denominator_1 ** a2) - k1\n",
      "/home/milos/statisticka_klasifikacija/2020/github/robust.py:55: RuntimeWarning: invalid value encountered in double_scalars\n",
      "  kurtosis_estimate = (numerator_2 ** a3) / (denominator_2 ** a4) - k2\n"
     ]
    },
    {
     "name": "stdout",
     "output_type": "stream",
     "text": [
      "MMRT1 0.05\n"
     ]
    },
    {
     "name": "stderr",
     "output_type": "stream",
     "text": [
      "/home/milos/statisticka_klasifikacija/2020/github/robust.py:54: RuntimeWarning: invalid value encountered in double_scalars\n",
      "  skewness_estimate = (numerator_1 ** a1) / (denominator_1 ** a2) - k1\n",
      "/home/milos/statisticka_klasifikacija/2020/github/robust.py:55: RuntimeWarning: invalid value encountered in double_scalars\n",
      "  kurtosis_estimate = (numerator_2 ** a3) / (denominator_2 ** a4) - k2\n"
     ]
    },
    {
     "name": "stdout",
     "output_type": "stream",
     "text": [
      "MMRT2 0.01\n"
     ]
    },
    {
     "name": "stderr",
     "output_type": "stream",
     "text": [
      "/home/milos/statisticka_klasifikacija/2020/github/robust.py:54: RuntimeWarning: invalid value encountered in double_scalars\n",
      "  skewness_estimate = (numerator_1 ** a1) / (denominator_1 ** a2) - k1\n",
      "/home/milos/statisticka_klasifikacija/2020/github/robust.py:55: RuntimeWarning: invalid value encountered in double_scalars\n",
      "  kurtosis_estimate = (numerator_2 ** a3) / (denominator_2 ** a4) - k2\n",
      "/home/milos/statisticka_klasifikacija/2020/github/robust.py:55: RuntimeWarning: divide by zero encountered in double_scalars\n",
      "  kurtosis_estimate = (numerator_2 ** a3) / (denominator_2 ** a4) - k2\n"
     ]
    },
    {
     "name": "stdout",
     "output_type": "stream",
     "text": [
      "MMRT2 0.05\n"
     ]
    },
    {
     "name": "stderr",
     "output_type": "stream",
     "text": [
      "/home/milos/statisticka_klasifikacija/2020/github/robust.py:54: RuntimeWarning: invalid value encountered in double_scalars\n",
      "  skewness_estimate = (numerator_1 ** a1) / (denominator_1 ** a2) - k1\n",
      "/home/milos/statisticka_klasifikacija/2020/github/robust.py:55: RuntimeWarning: invalid value encountered in double_scalars\n",
      "  kurtosis_estimate = (numerator_2 ** a3) / (denominator_2 ** a4) - k2\n",
      "/home/milos/statisticka_klasifikacija/2020/github/robust.py:55: RuntimeWarning: divide by zero encountered in double_scalars\n",
      "  kurtosis_estimate = (numerator_2 ** a3) / (denominator_2 ** a4) - k2\n"
     ]
    },
    {
     "name": "stdout",
     "output_type": "stream",
     "text": [
      "TTRT1 0.01\n"
     ]
    },
    {
     "name": "stderr",
     "output_type": "stream",
     "text": [
      "/home/milos/statisticka_klasifikacija/2020/github/robust.py:54: RuntimeWarning: invalid value encountered in double_scalars\n",
      "  skewness_estimate = (numerator_1 ** a1) / (denominator_1 ** a2) - k1\n",
      "/home/milos/statisticka_klasifikacija/2020/github/robust.py:55: RuntimeWarning: invalid value encountered in double_scalars\n",
      "  kurtosis_estimate = (numerator_2 ** a3) / (denominator_2 ** a4) - k2\n"
     ]
    },
    {
     "name": "stdout",
     "output_type": "stream",
     "text": [
      "TTRT1 0.05\n"
     ]
    },
    {
     "name": "stderr",
     "output_type": "stream",
     "text": [
      "/home/milos/statisticka_klasifikacija/2020/github/robust.py:54: RuntimeWarning: invalid value encountered in double_scalars\n",
      "  skewness_estimate = (numerator_1 ** a1) / (denominator_1 ** a2) - k1\n",
      "/home/milos/statisticka_klasifikacija/2020/github/robust.py:55: RuntimeWarning: invalid value encountered in double_scalars\n",
      "  kurtosis_estimate = (numerator_2 ** a3) / (denominator_2 ** a4) - k2\n"
     ]
    },
    {
     "name": "stdout",
     "output_type": "stream",
     "text": [
      "TTRT2 0.01\n"
     ]
    },
    {
     "name": "stderr",
     "output_type": "stream",
     "text": [
      "/home/milos/statisticka_klasifikacija/2020/github/robust.py:54: RuntimeWarning: invalid value encountered in double_scalars\n",
      "  skewness_estimate = (numerator_1 ** a1) / (denominator_1 ** a2) - k1\n",
      "/home/milos/statisticka_klasifikacija/2020/github/robust.py:55: RuntimeWarning: invalid value encountered in double_scalars\n",
      "  kurtosis_estimate = (numerator_2 ** a3) / (denominator_2 ** a4) - k2\n",
      "/home/milos/statisticka_klasifikacija/2020/github/robust.py:55: RuntimeWarning: divide by zero encountered in double_scalars\n",
      "  kurtosis_estimate = (numerator_2 ** a3) / (denominator_2 ** a4) - k2\n"
     ]
    },
    {
     "name": "stdout",
     "output_type": "stream",
     "text": [
      "TTRT2 0.05\n"
     ]
    },
    {
     "name": "stderr",
     "output_type": "stream",
     "text": [
      "/home/milos/statisticka_klasifikacija/2020/github/robust.py:54: RuntimeWarning: invalid value encountered in double_scalars\n",
      "  skewness_estimate = (numerator_1 ** a1) / (denominator_1 ** a2) - k1\n",
      "/home/milos/statisticka_klasifikacija/2020/github/robust.py:55: RuntimeWarning: invalid value encountered in double_scalars\n",
      "  kurtosis_estimate = (numerator_2 ** a3) / (denominator_2 ** a4) - k2\n",
      "/home/milos/statisticka_klasifikacija/2020/github/robust.py:55: RuntimeWarning: divide by zero encountered in double_scalars\n",
      "  kurtosis_estimate = (numerator_2 ** a3) / (denominator_2 ** a4) - k2\n"
     ]
    },
    {
     "name": "stdout",
     "output_type": "stream",
     "text": [
      "RSW 0.01\n",
      "RSW 0.05\n",
      "RLM 0.01\n"
     ]
    },
    {
     "name": "stderr",
     "output_type": "stream",
     "text": [
      "/home/milos/statisticka_klasifikacija/2020/github/robust.py:117: RuntimeWarning: invalid value encountered in double_scalars\n",
      "  skewness_estimate = numerator_1 / (denominator_1 ** 1.5)\n",
      "/home/milos/statisticka_klasifikacija/2020/github/robust.py:122: RuntimeWarning: invalid value encountered in double_scalars\n",
      "  kurtosis_estimate = max(-2, numerator_2 / (denominator_2 ** 4) - 3)\n",
      "/home/milos/statisticka_klasifikacija/2020/github/robust.py:117: RuntimeWarning: divide by zero encountered in double_scalars\n",
      "  skewness_estimate = numerator_1 / (denominator_1 ** 1.5)\n"
     ]
    },
    {
     "name": "stdout",
     "output_type": "stream",
     "text": [
      "RLM 0.05\n"
     ]
    },
    {
     "name": "stderr",
     "output_type": "stream",
     "text": [
      "/home/milos/statisticka_klasifikacija/2020/github/robust.py:117: RuntimeWarning: invalid value encountered in double_scalars\n",
      "  skewness_estimate = numerator_1 / (denominator_1 ** 1.5)\n",
      "/home/milos/statisticka_klasifikacija/2020/github/robust.py:122: RuntimeWarning: invalid value encountered in double_scalars\n",
      "  kurtosis_estimate = max(-2, numerator_2 / (denominator_2 ** 4) - 3)\n",
      "/home/milos/statisticka_klasifikacija/2020/github/robust.py:117: RuntimeWarning: divide by zero encountered in double_scalars\n",
      "  skewness_estimate = numerator_1 / (denominator_1 ** 1.5)\n"
     ]
    }
   ],
   "source": [
    "#dbnn_storage['results']['comparison']['D'] = {}\n",
    "\n",
    "metrics = ['A', 'TPR', 'PPV', 'TNR', 'NPV', 'F1']\n",
    "\n",
    "for (code, alpha) in test_classifiers:\n",
    "    print(code, alpha)\n",
    "    if (code, alpha) not in dbnn_storage['results']['comparison']['D']:\n",
    "        classifier = test_classifiers[(code, alpha)]\n",
    "        results_df = util.evaluate_pretty(samples, labels, classifier, metrics=metrics)\n",
    "        dbnn_storage['results']['comparison']['D'][(code, alpha)] = results_df"
   ]
  },
  {
   "cell_type": "code",
   "execution_count": 20,
   "id": "2ff014aa",
   "metadata": {
    "ExecuteTime": {
     "end_time": "2021-04-28T19:40:25.951717Z",
     "start_time": "2021-04-28T19:09:20.374182Z"
    }
   },
   "outputs": [
    {
     "name": "stdout",
     "output_type": "stream",
     "text": [
      "('DBNN', 0.01)\n",
      "('DBNN', 0.05)\n",
      "('DBNN', 0.1)\n",
      "('DBNN', '')\n",
      "('DBNN', 'opt')\n"
     ]
    }
   ],
   "source": [
    "results_dict = dbnn_storage['results']['comparison']['D']\n",
    "\n",
    "for name in dbnns:\n",
    "    if 'opt' in name:\n",
    "        alpha = 'opt'\n",
    "    elif not '(' in name:\n",
    "        alpha = ''\n",
    "    elif '0.01' in name:\n",
    "        alpha = 0.01\n",
    "    elif '0.05' in name:\n",
    "        alpha = 0.05\n",
    "    elif '0.1' in name:\n",
    "        alpha = 0.1\n",
    "        \n",
    "    key = ('DBNN', alpha)\n",
    "    \n",
    "        \n",
    "    print(key)\n",
    "    \n",
    "    results_dict[key] = util.evaluate_pretty(samples, labels, dbnns[name],\n",
    "                                                      metrics=metrics)"
   ]
  },
  {
   "cell_type": "code",
   "execution_count": 23,
   "id": "bd7f0976",
   "metadata": {
    "ExecuteTime": {
     "end_time": "2021-04-28T19:41:27.505225Z",
     "start_time": "2021-04-28T19:41:27.458710Z"
    }
   },
   "outputs": [
    {
     "data": {
      "text/html": [
       "<div>\n",
       "<style scoped>\n",
       "    .dataframe tbody tr th:only-of-type {\n",
       "        vertical-align: middle;\n",
       "    }\n",
       "\n",
       "    .dataframe tbody tr th {\n",
       "        vertical-align: top;\n",
       "    }\n",
       "\n",
       "    .dataframe thead th {\n",
       "        text-align: right;\n",
       "    }\n",
       "</style>\n",
       "<table border=\"1\" class=\"dataframe\">\n",
       "  <thead>\n",
       "    <tr style=\"text-align: right;\">\n",
       "      <th></th>\n",
       "      <th></th>\n",
       "      <th>A</th>\n",
       "      <th>TPR</th>\n",
       "      <th>PPV</th>\n",
       "      <th>TNR</th>\n",
       "      <th>NPV</th>\n",
       "      <th>F1</th>\n",
       "    </tr>\n",
       "  </thead>\n",
       "  <tbody>\n",
       "    <tr>\n",
       "      <th rowspan=\"2\" valign=\"top\">SW</th>\n",
       "      <th>0.01</th>\n",
       "      <td>0.816130</td>\n",
       "      <td>0.989962</td>\n",
       "      <td>0.734577</td>\n",
       "      <td>0.642299</td>\n",
       "      <td>0.984612</td>\n",
       "      <td>0.843359</td>\n",
       "    </tr>\n",
       "    <tr>\n",
       "      <th>0.05</th>\n",
       "      <td>0.834330</td>\n",
       "      <td>0.948889</td>\n",
       "      <td>0.772007</td>\n",
       "      <td>0.719770</td>\n",
       "      <td>0.933698</td>\n",
       "      <td>0.851358</td>\n",
       "    </tr>\n",
       "    <tr>\n",
       "      <th rowspan=\"2\" valign=\"top\">SF</th>\n",
       "      <th>0.01</th>\n",
       "      <td>0.819693</td>\n",
       "      <td>0.988812</td>\n",
       "      <td>0.738891</td>\n",
       "      <td>0.650575</td>\n",
       "      <td>0.983094</td>\n",
       "      <td>0.845776</td>\n",
       "    </tr>\n",
       "    <tr>\n",
       "      <th>0.05</th>\n",
       "      <td>0.843602</td>\n",
       "      <td>0.946973</td>\n",
       "      <td>0.784735</td>\n",
       "      <td>0.740230</td>\n",
       "      <td>0.933153</td>\n",
       "      <td>0.858254</td>\n",
       "    </tr>\n",
       "    <tr>\n",
       "      <th rowspan=\"2\" valign=\"top\">LF</th>\n",
       "      <th>0.01</th>\n",
       "      <td>0.756169</td>\n",
       "      <td>0.991264</td>\n",
       "      <td>0.674242</td>\n",
       "      <td>0.521073</td>\n",
       "      <td>0.983512</td>\n",
       "      <td>0.802581</td>\n",
       "    </tr>\n",
       "    <tr>\n",
       "      <th>0.05</th>\n",
       "      <td>0.790498</td>\n",
       "      <td>0.951801</td>\n",
       "      <td>0.719641</td>\n",
       "      <td>0.629195</td>\n",
       "      <td>0.928846</td>\n",
       "      <td>0.819597</td>\n",
       "    </tr>\n",
       "    <tr>\n",
       "      <th rowspan=\"2\" valign=\"top\">JB</th>\n",
       "      <th>0.01</th>\n",
       "      <td>0.807701</td>\n",
       "      <td>0.984521</td>\n",
       "      <td>0.727314</td>\n",
       "      <td>0.630881</td>\n",
       "      <td>0.976052</td>\n",
       "      <td>0.836594</td>\n",
       "    </tr>\n",
       "    <tr>\n",
       "      <th>0.05</th>\n",
       "      <td>0.825939</td>\n",
       "      <td>0.966667</td>\n",
       "      <td>0.754350</td>\n",
       "      <td>0.685211</td>\n",
       "      <td>0.953610</td>\n",
       "      <td>0.847412</td>\n",
       "    </tr>\n",
       "    <tr>\n",
       "      <th rowspan=\"2\" valign=\"top\">DP</th>\n",
       "      <th>0.01</th>\n",
       "      <td>0.809923</td>\n",
       "      <td>0.980000</td>\n",
       "      <td>0.731260</td>\n",
       "      <td>0.639847</td>\n",
       "      <td>0.969690</td>\n",
       "      <td>0.837552</td>\n",
       "    </tr>\n",
       "    <tr>\n",
       "      <th>0.05</th>\n",
       "      <td>0.828851</td>\n",
       "      <td>0.944674</td>\n",
       "      <td>0.767001</td>\n",
       "      <td>0.713027</td>\n",
       "      <td>0.927994</td>\n",
       "      <td>0.846616</td>\n",
       "    </tr>\n",
       "    <tr>\n",
       "      <th rowspan=\"2\" valign=\"top\">AD</th>\n",
       "      <th>0.01</th>\n",
       "      <td>0.797701</td>\n",
       "      <td>0.990038</td>\n",
       "      <td>0.714997</td>\n",
       "      <td>0.605364</td>\n",
       "      <td>0.983811</td>\n",
       "      <td>0.830334</td>\n",
       "    </tr>\n",
       "    <tr>\n",
       "      <th>0.05</th>\n",
       "      <td>0.824789</td>\n",
       "      <td>0.947969</td>\n",
       "      <td>0.760590</td>\n",
       "      <td>0.701609</td>\n",
       "      <td>0.930961</td>\n",
       "      <td>0.844005</td>\n",
       "    </tr>\n",
       "    <tr>\n",
       "      <th rowspan=\"2\" valign=\"top\">CVM</th>\n",
       "      <th>0.01</th>\n",
       "      <td>0.786437</td>\n",
       "      <td>0.989119</td>\n",
       "      <td>0.703817</td>\n",
       "      <td>0.583755</td>\n",
       "      <td>0.981701</td>\n",
       "      <td>0.822428</td>\n",
       "    </tr>\n",
       "    <tr>\n",
       "      <th>0.05</th>\n",
       "      <td>0.814521</td>\n",
       "      <td>0.948123</td>\n",
       "      <td>0.748201</td>\n",
       "      <td>0.680920</td>\n",
       "      <td>0.929206</td>\n",
       "      <td>0.836381</td>\n",
       "    </tr>\n",
       "    <tr>\n",
       "      <th rowspan=\"2\" valign=\"top\">FSSD</th>\n",
       "      <th>0.01</th>\n",
       "      <td>0.484018</td>\n",
       "      <td>0.692261</td>\n",
       "      <td>0.491834</td>\n",
       "      <td>0.272089</td>\n",
       "      <td>0.464890</td>\n",
       "      <td>0.575084</td>\n",
       "    </tr>\n",
       "    <tr>\n",
       "      <th>0.05</th>\n",
       "      <td>0.510764</td>\n",
       "      <td>0.679387</td>\n",
       "      <td>0.511303</td>\n",
       "      <td>0.339156</td>\n",
       "      <td>0.509668</td>\n",
       "      <td>0.583481</td>\n",
       "    </tr>\n",
       "    <tr>\n",
       "      <th>SBNN</th>\n",
       "      <th></th>\n",
       "      <td>0.847318</td>\n",
       "      <td>0.920843</td>\n",
       "      <td>0.802792</td>\n",
       "      <td>0.773793</td>\n",
       "      <td>0.907196</td>\n",
       "      <td>0.857775</td>\n",
       "    </tr>\n",
       "    <tr>\n",
       "      <th rowspan=\"2\" valign=\"top\">MMRT1</th>\n",
       "      <th>0.01</th>\n",
       "      <td>0.807433</td>\n",
       "      <td>0.989579</td>\n",
       "      <td>0.725343</td>\n",
       "      <td>0.625287</td>\n",
       "      <td>0.983607</td>\n",
       "      <td>0.837104</td>\n",
       "    </tr>\n",
       "    <tr>\n",
       "      <th>0.05</th>\n",
       "      <td>0.836590</td>\n",
       "      <td>0.946437</td>\n",
       "      <td>0.775963</td>\n",
       "      <td>0.726743</td>\n",
       "      <td>0.931356</td>\n",
       "      <td>0.852763</td>\n",
       "    </tr>\n",
       "    <tr>\n",
       "      <th rowspan=\"2\" valign=\"top\">MMRT2</th>\n",
       "      <th>0.01</th>\n",
       "      <td>0.798391</td>\n",
       "      <td>0.989579</td>\n",
       "      <td>0.715854</td>\n",
       "      <td>0.607203</td>\n",
       "      <td>0.983127</td>\n",
       "      <td>0.830749</td>\n",
       "    </tr>\n",
       "    <tr>\n",
       "      <th>0.05</th>\n",
       "      <td>0.834674</td>\n",
       "      <td>0.947663</td>\n",
       "      <td>0.772986</td>\n",
       "      <td>0.721686</td>\n",
       "      <td>0.932383</td>\n",
       "      <td>0.851458</td>\n",
       "    </tr>\n",
       "    <tr>\n",
       "      <th rowspan=\"2\" valign=\"top\">TTRT1</th>\n",
       "      <th>0.01</th>\n",
       "      <td>0.645747</td>\n",
       "      <td>0.990038</td>\n",
       "      <td>0.586313</td>\n",
       "      <td>0.301456</td>\n",
       "      <td>0.968012</td>\n",
       "      <td>0.736476</td>\n",
       "    </tr>\n",
       "    <tr>\n",
       "      <th>0.05</th>\n",
       "      <td>0.688467</td>\n",
       "      <td>0.952031</td>\n",
       "      <td>0.623413</td>\n",
       "      <td>0.424904</td>\n",
       "      <td>0.898558</td>\n",
       "      <td>0.753449</td>\n",
       "    </tr>\n",
       "    <tr>\n",
       "      <th rowspan=\"2\" valign=\"top\">TTRT2</th>\n",
       "      <th>0.01</th>\n",
       "      <td>0.784866</td>\n",
       "      <td>0.988506</td>\n",
       "      <td>0.702423</td>\n",
       "      <td>0.581226</td>\n",
       "      <td>0.980608</td>\n",
       "      <td>0.821264</td>\n",
       "    </tr>\n",
       "    <tr>\n",
       "      <th>0.05</th>\n",
       "      <td>0.811149</td>\n",
       "      <td>0.949502</td>\n",
       "      <td>0.743713</td>\n",
       "      <td>0.672797</td>\n",
       "      <td>0.930183</td>\n",
       "      <td>0.834102</td>\n",
       "    </tr>\n",
       "    <tr>\n",
       "      <th rowspan=\"2\" valign=\"top\">RSW</th>\n",
       "      <th>0.01</th>\n",
       "      <td>0.776092</td>\n",
       "      <td>0.989655</td>\n",
       "      <td>0.693460</td>\n",
       "      <td>0.562529</td>\n",
       "      <td>0.981942</td>\n",
       "      <td>0.815495</td>\n",
       "    </tr>\n",
       "    <tr>\n",
       "      <th>0.05</th>\n",
       "      <td>0.806284</td>\n",
       "      <td>0.950728</td>\n",
       "      <td>0.737634</td>\n",
       "      <td>0.661839</td>\n",
       "      <td>0.930711</td>\n",
       "      <td>0.830733</td>\n",
       "    </tr>\n",
       "    <tr>\n",
       "      <th rowspan=\"2\" valign=\"top\">RLM</th>\n",
       "      <th>0.01</th>\n",
       "      <td>0.548046</td>\n",
       "      <td>0.990192</td>\n",
       "      <td>0.525498</td>\n",
       "      <td>0.105900</td>\n",
       "      <td>0.915232</td>\n",
       "      <td>0.686610</td>\n",
       "    </tr>\n",
       "    <tr>\n",
       "      <th>0.05</th>\n",
       "      <td>0.579617</td>\n",
       "      <td>0.949272</td>\n",
       "      <td>0.545775</td>\n",
       "      <td>0.209962</td>\n",
       "      <td>0.805409</td>\n",
       "      <td>0.693074</td>\n",
       "    </tr>\n",
       "    <tr>\n",
       "      <th rowspan=\"5\" valign=\"top\">DBNN</th>\n",
       "      <th>0.01</th>\n",
       "      <td>0.853372</td>\n",
       "      <td>0.990498</td>\n",
       "      <td>0.777317</td>\n",
       "      <td>0.716245</td>\n",
       "      <td>0.986907</td>\n",
       "      <td>0.871054</td>\n",
       "    </tr>\n",
       "    <tr>\n",
       "      <th>0.05</th>\n",
       "      <td>0.897050</td>\n",
       "      <td>0.949579</td>\n",
       "      <td>0.859302</td>\n",
       "      <td>0.844521</td>\n",
       "      <td>0.943660</td>\n",
       "      <td>0.902188</td>\n",
       "    </tr>\n",
       "    <tr>\n",
       "      <th>0.1</th>\n",
       "      <td>0.909004</td>\n",
       "      <td>0.902989</td>\n",
       "      <td>0.913984</td>\n",
       "      <td>0.915019</td>\n",
       "      <td>0.904142</td>\n",
       "      <td>0.908453</td>\n",
       "    </tr>\n",
       "    <tr>\n",
       "      <th></th>\n",
       "      <td>0.922490</td>\n",
       "      <td>0.898161</td>\n",
       "      <td>0.944100</td>\n",
       "      <td>0.946820</td>\n",
       "      <td>0.902886</td>\n",
       "      <td>0.920558</td>\n",
       "    </tr>\n",
       "    <tr>\n",
       "      <th>opt</th>\n",
       "      <td>0.922452</td>\n",
       "      <td>0.893410</td>\n",
       "      <td>0.948503</td>\n",
       "      <td>0.951494</td>\n",
       "      <td>0.899261</td>\n",
       "      <td>0.920133</td>\n",
       "    </tr>\n",
       "  </tbody>\n",
       "</table>\n",
       "</div>"
      ],
      "text/plain": [
       "                   A       TPR       PPV       TNR       NPV        F1\n",
       "SW    0.01  0.816130  0.989962  0.734577  0.642299  0.984612  0.843359\n",
       "      0.05  0.834330  0.948889  0.772007  0.719770  0.933698  0.851358\n",
       "SF    0.01  0.819693  0.988812  0.738891  0.650575  0.983094  0.845776\n",
       "      0.05  0.843602  0.946973  0.784735  0.740230  0.933153  0.858254\n",
       "LF    0.01  0.756169  0.991264  0.674242  0.521073  0.983512  0.802581\n",
       "      0.05  0.790498  0.951801  0.719641  0.629195  0.928846  0.819597\n",
       "JB    0.01  0.807701  0.984521  0.727314  0.630881  0.976052  0.836594\n",
       "      0.05  0.825939  0.966667  0.754350  0.685211  0.953610  0.847412\n",
       "DP    0.01  0.809923  0.980000  0.731260  0.639847  0.969690  0.837552\n",
       "      0.05  0.828851  0.944674  0.767001  0.713027  0.927994  0.846616\n",
       "AD    0.01  0.797701  0.990038  0.714997  0.605364  0.983811  0.830334\n",
       "      0.05  0.824789  0.947969  0.760590  0.701609  0.930961  0.844005\n",
       "CVM   0.01  0.786437  0.989119  0.703817  0.583755  0.981701  0.822428\n",
       "      0.05  0.814521  0.948123  0.748201  0.680920  0.929206  0.836381\n",
       "FSSD  0.01  0.484018  0.692261  0.491834  0.272089  0.464890  0.575084\n",
       "      0.05  0.510764  0.679387  0.511303  0.339156  0.509668  0.583481\n",
       "SBNN        0.847318  0.920843  0.802792  0.773793  0.907196  0.857775\n",
       "MMRT1 0.01  0.807433  0.989579  0.725343  0.625287  0.983607  0.837104\n",
       "      0.05  0.836590  0.946437  0.775963  0.726743  0.931356  0.852763\n",
       "MMRT2 0.01  0.798391  0.989579  0.715854  0.607203  0.983127  0.830749\n",
       "      0.05  0.834674  0.947663  0.772986  0.721686  0.932383  0.851458\n",
       "TTRT1 0.01  0.645747  0.990038  0.586313  0.301456  0.968012  0.736476\n",
       "      0.05  0.688467  0.952031  0.623413  0.424904  0.898558  0.753449\n",
       "TTRT2 0.01  0.784866  0.988506  0.702423  0.581226  0.980608  0.821264\n",
       "      0.05  0.811149  0.949502  0.743713  0.672797  0.930183  0.834102\n",
       "RSW   0.01  0.776092  0.989655  0.693460  0.562529  0.981942  0.815495\n",
       "      0.05  0.806284  0.950728  0.737634  0.661839  0.930711  0.830733\n",
       "RLM   0.01  0.548046  0.990192  0.525498  0.105900  0.915232  0.686610\n",
       "      0.05  0.579617  0.949272  0.545775  0.209962  0.805409  0.693074\n",
       "DBNN  0.01  0.853372  0.990498  0.777317  0.716245  0.986907  0.871054\n",
       "      0.05  0.897050  0.949579  0.859302  0.844521  0.943660  0.902188\n",
       "      0.1   0.909004  0.902989  0.913984  0.915019  0.904142  0.908453\n",
       "            0.922490  0.898161  0.944100  0.946820  0.902886  0.920558\n",
       "      opt   0.922452  0.893410  0.948503  0.951494  0.899261  0.920133"
      ]
     },
     "metadata": {},
     "output_type": "display_data"
    },
    {
     "name": "stdout",
     "output_type": "stream",
     "text": [
      "\\begin{table}\n",
      "\\centering\n",
      "\\caption{D}\n",
      "\\label{D}\n",
      "\\begin{tabular}{llrrrrrr}\n",
      "\\toprule\n",
      "     &     &       A &     TPR &     PPV &     TNR &     NPV &      F1 \\\\\n",
      "\\midrule\n",
      "SW & 0.01 & $0.816$ & $0.990$ & $0.735$ & $0.642$ & $0.985$ & $0.843$ \\\\\n",
      "     & 0.05 & $0.834$ & $0.949$ & $0.772$ & $0.720$ & $0.934$ & $0.851$ \\\\\n",
      "SF & 0.01 & $0.820$ & $0.989$ & $0.739$ & $0.651$ & $0.983$ & $0.846$ \\\\\n",
      "     & 0.05 & $0.844$ & $0.947$ & $0.785$ & $0.740$ & $0.933$ & $0.858$ \\\\\n",
      "LF & 0.01 & $0.756$ & $0.991$ & $0.674$ & $0.521$ & $0.984$ & $0.803$ \\\\\n",
      "     & 0.05 & $0.790$ & $0.952$ & $0.720$ & $0.629$ & $0.929$ & $0.820$ \\\\\n",
      "JB & 0.01 & $0.808$ & $0.985$ & $0.727$ & $0.631$ & $0.976$ & $0.837$ \\\\\n",
      "     & 0.05 & $0.826$ & $0.967$ & $0.754$ & $0.685$ & $0.954$ & $0.847$ \\\\\n",
      "DP & 0.01 & $0.810$ & $0.980$ & $0.731$ & $0.640$ & $0.970$ & $0.838$ \\\\\n",
      "     & 0.05 & $0.829$ & $0.945$ & $0.767$ & $0.713$ & $0.928$ & $0.847$ \\\\\n",
      "AD & 0.01 & $0.798$ & $0.990$ & $0.715$ & $0.605$ & $0.984$ & $0.830$ \\\\\n",
      "     & 0.05 & $0.825$ & $0.948$ & $0.761$ & $0.702$ & $0.931$ & $0.844$ \\\\\n",
      "CVM & 0.01 & $0.786$ & $0.989$ & $0.704$ & $0.584$ & $0.982$ & $0.822$ \\\\\n",
      "     & 0.05 & $0.815$ & $0.948$ & $0.748$ & $0.681$ & $0.929$ & $0.836$ \\\\\n",
      "FSSD & 0.01 & $0.484$ & $0.692$ & $0.492$ & $0.272$ & $0.465$ & $0.575$ \\\\\n",
      "     & 0.05 & $0.511$ & $0.679$ & $0.511$ & $0.339$ & $0.510$ & $0.583$ \\\\\n",
      "SBNN &     & $0.847$ & $0.921$ & $0.803$ & $0.774$ & $0.907$ & $0.858$ \\\\\n",
      "MMRT1 & 0.01 & $0.807$ & $0.990$ & $0.725$ & $0.625$ & $0.984$ & $0.837$ \\\\\n",
      "     & 0.05 & $0.837$ & $0.946$ & $0.776$ & $0.727$ & $0.931$ & $0.853$ \\\\\n",
      "MMRT2 & 0.01 & $0.798$ & $0.990$ & $0.716$ & $0.607$ & $0.983$ & $0.831$ \\\\\n",
      "     & 0.05 & $0.835$ & $0.948$ & $0.773$ & $0.722$ & $0.932$ & $0.851$ \\\\\n",
      "TTRT1 & 0.01 & $0.646$ & $0.990$ & $0.586$ & $0.301$ & $0.968$ & $0.736$ \\\\\n",
      "     & 0.05 & $0.688$ & $0.952$ & $0.623$ & $0.425$ & $0.899$ & $0.753$ \\\\\n",
      "TTRT2 & 0.01 & $0.785$ & $0.989$ & $0.702$ & $0.581$ & $0.981$ & $0.821$ \\\\\n",
      "     & 0.05 & $0.811$ & $0.950$ & $0.744$ & $0.673$ & $0.930$ & $0.834$ \\\\\n",
      "RSW & 0.01 & $0.776$ & $0.990$ & $0.693$ & $0.563$ & $0.982$ & $0.815$ \\\\\n",
      "     & 0.05 & $0.806$ & $0.951$ & $0.738$ & $0.662$ & $0.931$ & $0.831$ \\\\\n",
      "RLM & 0.01 & $0.548$ & $0.990$ & $0.525$ & $0.106$ & $0.915$ & $0.687$ \\\\\n",
      "     & 0.05 & $0.580$ & $0.949$ & $0.546$ & $0.210$ & $0.805$ & $0.693$ \\\\\n",
      "DBNN & 0.01 & $0.853$ & $0.990$ & $0.777$ & $0.716$ & $0.987$ & $0.871$ \\\\\n",
      "     & 0.05 & $0.897$ & $0.950$ & $0.859$ & $0.845$ & $0.944$ & $0.902$ \\\\\n",
      "     & 0.1 & $0.909$ & $0.903$ & $0.914$ & $0.915$ & $0.904$ & $0.908$ \\\\\n",
      "     &     & $0.922$ & $0.898$ & $0.944$ & $0.947$ & $0.903$ & $0.921$ \\\\\n",
      "     & opt & $0.922$ & $0.893$ & $0.949$ & $0.951$ & $0.899$ & $0.920$ \\\\\n",
      "\\bottomrule\n",
      "\\end{tabular}\n",
      "\\end{table}\n",
      "\n"
     ]
    }
   ],
   "source": [
    "df_report = pd.concat(results_dict)\n",
    "df_report.index=pd.MultiIndex.from_tuples([(x[0], x[1]) for x in df_report.index])\n",
    "\n",
    "latex_report = util.get_latex_table(df_report, index=True, caption='D', label='D')\n",
    "\n",
    "dbnn_storage['reports']['comparison']['D'] = {\n",
    "    'df' : df_report,\n",
    "    'latex' : latex_report\n",
    "}\n",
    "\n",
    "display(df_report)\n",
    "print(latex_report)"
   ]
  },
  {
   "cell_type": "markdown",
   "id": "ba314b2b",
   "metadata": {},
   "source": [
    "## Compare AUROC"
   ]
  },
  {
   "cell_type": "code",
   "execution_count": 42,
   "id": "6690a20e",
   "metadata": {
    "ExecuteTime": {
     "end_time": "2021-04-28T20:42:56.789455Z",
     "start_time": "2021-04-28T20:42:56.783113Z"
    }
   },
   "outputs": [],
   "source": [
    "auroc_data = {}"
   ]
  },
  {
   "cell_type": "code",
   "execution_count": 61,
   "id": "2b531157",
   "metadata": {
    "ExecuteTime": {
     "end_time": "2021-04-28T21:58:22.526220Z",
     "start_time": "2021-04-28T21:56:48.318289Z"
    }
   },
   "outputs": [
    {
     "name": "stdout",
     "output_type": "stream",
     "text": [
      "DBNN\n",
      "('DP', 0.01)\n"
     ]
    },
    {
     "name": "stderr",
     "output_type": "stream",
     "text": [
      "/home/milos/statisticka_klasifikacija/p39normal/lib/python3.9/site-packages/scipy/stats/stats.py:1603: UserWarning: kurtosistest only valid for n>=20 ... continuing anyway, n=10\n",
      "  warnings.warn(\"kurtosistest only valid for n>=20 ... continuing \"\n"
     ]
    },
    {
     "name": "stdout",
     "output_type": "stream",
     "text": [
      "('CVM', 0.01)\n",
      "SBNN\n"
     ]
    },
    {
     "name": "stderr",
     "output_type": "stream",
     "text": [
      "/home/milos/statisticka_klasifikacija/p39normal/lib/python3.9/site-packages/scipy/stats/morestats.py:1678: UserWarning: Input data for shapiro has range zero. The results may not be accurate.\n",
      "  warnings.warn(\"Input data for shapiro has range zero. The results \"\n",
      "/home/milos/statisticka_klasifikacija/p39normal/lib/python3.9/site-packages/numpy/lib/function_base.py:2642: RuntimeWarning: invalid value encountered in true_divide\n",
      "  c /= stddev[:, None]\n",
      "/home/milos/statisticka_klasifikacija/p39normal/lib/python3.9/site-packages/numpy/lib/function_base.py:2643: RuntimeWarning: invalid value encountered in true_divide\n",
      "  c /= stddev[None, :]\n",
      "/home/milos/statisticka_klasifikacija/2020/github/construct_sbnn.ipynb:152: RuntimeWarning: divide by zero encountered in double_scalars\n",
      "  \"end_time\": \"2021-04-27T18:30:42.794129Z\",\n",
      "/home/milos/statisticka_klasifikacija/2020/github/construct_sbnn.ipynb:152: RuntimeWarning: invalid value encountered in double_scalars\n",
      "  \"end_time\": \"2021-04-27T18:30:42.794129Z\",\n"
     ]
    }
   ],
   "source": [
    "print('DBNN')\n",
    "prepared_input = prepare_input(samples, dbnn)\n",
    "probabilities = dbnn['neural_net'].predict_proba(prepared_input)\n",
    "scores = probabilities[:, 1]\n",
    "mask = np.isfinite(np.array(scores))    \n",
    "filtered_labels = np.array(labels)[mask]\n",
    "filtered_scores = np.array(scores)[mask]\n",
    "\n",
    "fpr, tpr, tr = sklearn.metrics.roc_curve(filtered_labels, filtered_scores, pos_label=1)\n",
    "\n",
    "auroc_data['DBNN'] = {\n",
    "    'fpr' : fpr,\n",
    "    'tpr' : tpr,\n",
    "    'tr'  : tr,\n",
    "    'auroc' : sklearn.metrics.roc_auc_score(filtered_labels, filtered_scores)\n",
    "}\n",
    "\n",
    "\n",
    "for key in test_classifiers:\n",
    "    if key[0] not in ['DP', 'CVM']:\n",
    "        continue\n",
    "    if key[0] == 'SBNN':\n",
    "        continue\n",
    "    if key[1] in ['', 0.01]:\n",
    "        alpha = 0.01\n",
    "    else:\n",
    "        continue\n",
    "\n",
    "    print(key)\n",
    "    code = key[0]\n",
    "    statistic = test_classifiers[key].statistic\n",
    "    scores = np.array([statistic(sample) for sample in samples])\n",
    "    \n",
    "    if code in ['LF', 'JB', 'AD', 'FSSD', 'MMRT1', 'MMRT2', 'TTRT1', 'TTRT2', 'DP', 'CVM']:\n",
    "        scores = -scores\n",
    "    \n",
    "    mask = np.isfinite(scores)   \n",
    "    filtered_labels = np.array(labels)[mask]\n",
    "    filtered_scores = np.array(scores)[mask]\n",
    "    \n",
    "    fpr, tpr, tr = sklearn.metrics.roc_curve(filtered_labels, filtered_scores, pos_label=1)\n",
    "    \n",
    "    auroc_data[code] = {\n",
    "        'fpr' : fpr,\n",
    "        'tpr' : tpr,\n",
    "        'tr'  : tr,\n",
    "        'auroc' : sklearn.metrics.roc_auc_score(filtered_labels, filtered_scores)\n",
    "    }\n",
    "    \n",
    "\n",
    "\n",
    "print('SBNN')\n",
    "data = sbnn['preprocessor'].transform(samples)\n",
    "data = sbnn['scaler'].transform(data)\n",
    "prepared_input = sbnn['imputer'].transform(data)\n",
    "probabilities = sbnn['neural_net'].predict_proba(prepared_input)\n",
    "scores = probabilities[:, 1]\n",
    "mask = np.isfinite(np.array(scores))    \n",
    "filtered_labels = np.array(labels)[mask]\n",
    "filtered_scores = np.array(scores)[mask]\n",
    "fpr, tpr, tr = sklearn.metrics.roc_curve(filtered_labels, filtered_scores, pos_label=1)\n",
    "\n",
    "auroc_data['SBNN'] = {\n",
    "    'fpr' : fpr,\n",
    "    'tpr' : tpr,\n",
    "    'tr'  : tr,\n",
    "    'auroc' : sklearn.metrics.roc_auc_score(filtered_labels, filtered_scores)\n",
    "}"
   ]
  },
  {
   "cell_type": "code",
   "execution_count": 90,
   "id": "aa889363",
   "metadata": {
    "ExecuteTime": {
     "end_time": "2021-04-28T23:45:35.562532Z",
     "start_time": "2021-04-28T23:45:34.883977Z"
    }
   },
   "outputs": [
    {
     "data": {
      "image/png": "[encoded data removed]",
      "text/plain": [
       "<Figure size 720x504 with 1 Axes>"
      ]
     },
     "metadata": {
      "needs_background": "light"
     },
     "output_type": "display_data"
    },
    {
     "data": {
      "image/png": "[encoded data removed]",
      "text/plain": [
       "<Figure size 720x504 with 1 Axes>"
      ]
     },
     "metadata": {
      "needs_background": "light"
     },
     "output_type": "display_data"
    },
    {
     "data": {
      "image/png": "[encoded data removed]",
      "text/plain": [
       "<Figure size 720x504 with 1 Axes>"
      ]
     },
     "metadata": {
      "needs_background": "light"
     },
     "output_type": "display_data"
    }
   ],
   "source": [
    "figures = {}\n",
    "styles = ['dotted', 'dashed', 'dashdot', (0, (3, 5, 1, 5, 1, 5))] * 4\n",
    "\n",
    "groups = {\n",
    "    'classical' : ['DBNN', 'SW', 'SF', 'LF', 'JB', 'DP', 'AD', 'CVM'], \n",
    "    'neural' : ['DBNN', 'SBNN'], \n",
    "    'robustified' : ['DBNN', 'MMRT1', 'MMRT2', 'TTRT1', 'TTRT2', 'RSW', 'RLM']\n",
    "}\n",
    "\n",
    "\n",
    "for group_name in groups:\n",
    "    group = groups[group_name]\n",
    "    \n",
    "    fig = plt.figure(figsize=(10, 7))\n",
    "    \n",
    "    styles = ['solid', \n",
    "              'dashed', (0, (5, 1)), \n",
    "              'dotted', (0, (1, 5)), \n",
    "              'dashdot', (0, (3, 1, 1, 1)), (0, (3, 5, 1, 5)) ]\n",
    "    \n",
    "    for code in group:\n",
    "        fpr = auroc_data[code]['fpr']\n",
    "        tpr = auroc_data[code]['tpr']\n",
    "        plt.plot(fpr, tpr, label=code, linewidth=3, linestyle=styles.pop(0))\n",
    "        \n",
    "    plt.legend(fontsize=15)\n",
    "    \n",
    "    figures[group_name + '_fig'] = fig\n",
    "    \n",
    "    plt.xlabel('FPR')\n",
    "    plt.ylabel('TPR')\n",
    "    plt.legend(fontsize=13)"
   ]
  },
  {
   "cell_type": "code",
   "execution_count": 82,
   "id": "570ed320",
   "metadata": {
    "ExecuteTime": {
     "end_time": "2021-04-28T22:27:23.391047Z",
     "start_time": "2021-04-28T22:27:23.362467Z"
    }
   },
   "outputs": [
    {
     "data": {
      "text/html": [
       "<div>\n",
       "<style scoped>\n",
       "    .dataframe tbody tr th:only-of-type {\n",
       "        vertical-align: middle;\n",
       "    }\n",
       "\n",
       "    .dataframe tbody tr th {\n",
       "        vertical-align: top;\n",
       "    }\n",
       "\n",
       "    .dataframe thead th {\n",
       "        text-align: right;\n",
       "    }\n",
       "</style>\n",
       "<table border=\"1\" class=\"dataframe\">\n",
       "  <thead>\n",
       "    <tr style=\"text-align: right;\">\n",
       "      <th></th>\n",
       "      <th>AUROC</th>\n",
       "    </tr>\n",
       "  </thead>\n",
       "  <tbody>\n",
       "    <tr>\n",
       "      <th>DBNN</th>\n",
       "      <td>0.981420</td>\n",
       "    </tr>\n",
       "    <tr>\n",
       "      <th>RLM</th>\n",
       "      <td>0.920756</td>\n",
       "    </tr>\n",
       "    <tr>\n",
       "      <th>SBNN</th>\n",
       "      <td>0.920756</td>\n",
       "    </tr>\n",
       "    <tr>\n",
       "      <th>SF</th>\n",
       "      <td>0.896466</td>\n",
       "    </tr>\n",
       "    <tr>\n",
       "      <th>DP</th>\n",
       "      <td>0.885473</td>\n",
       "    </tr>\n",
       "    <tr>\n",
       "      <th>SW</th>\n",
       "      <td>0.881795</td>\n",
       "    </tr>\n",
       "    <tr>\n",
       "      <th>AD</th>\n",
       "      <td>0.878699</td>\n",
       "    </tr>\n",
       "    <tr>\n",
       "      <th>JB</th>\n",
       "      <td>0.876434</td>\n",
       "    </tr>\n",
       "    <tr>\n",
       "      <th>MMRT1</th>\n",
       "      <td>0.874630</td>\n",
       "    </tr>\n",
       "    <tr>\n",
       "      <th>CVM</th>\n",
       "      <td>0.871819</td>\n",
       "    </tr>\n",
       "    <tr>\n",
       "      <th>TTRT2</th>\n",
       "      <td>0.870728</td>\n",
       "    </tr>\n",
       "    <tr>\n",
       "      <th>MMRT2</th>\n",
       "      <td>0.869503</td>\n",
       "    </tr>\n",
       "    <tr>\n",
       "      <th>RSW</th>\n",
       "      <td>0.865600</td>\n",
       "    </tr>\n",
       "    <tr>\n",
       "      <th>LF</th>\n",
       "      <td>0.826331</td>\n",
       "    </tr>\n",
       "    <tr>\n",
       "      <th>TTRT1</th>\n",
       "      <td>0.740281</td>\n",
       "    </tr>\n",
       "    <tr>\n",
       "      <th>FSSD</th>\n",
       "      <td>0.595996</td>\n",
       "    </tr>\n",
       "  </tbody>\n",
       "</table>\n",
       "</div>"
      ],
      "text/plain": [
       "          AUROC\n",
       "DBNN   0.981420\n",
       "RLM    0.920756\n",
       "SBNN   0.920756\n",
       "SF     0.896466\n",
       "DP     0.885473\n",
       "SW     0.881795\n",
       "AD     0.878699\n",
       "JB     0.876434\n",
       "MMRT1  0.874630\n",
       "CVM    0.871819\n",
       "TTRT2  0.870728\n",
       "MMRT2  0.869503\n",
       "RSW    0.865600\n",
       "LF     0.826331\n",
       "TTRT1  0.740281\n",
       "FSSD   0.595996"
      ]
     },
     "execution_count": 82,
     "metadata": {},
     "output_type": "execute_result"
    }
   ],
   "source": [
    "df = pd.DataFrame([auroc_data[code]['auroc'] for code in auroc_data], auroc_data.keys())\n",
    "df.columns = ['AUROC']\n",
    "df.sort_values(by='AUROC', ascending=False, inplace=True)\n",
    "df"
   ]
  },
  {
   "cell_type": "code",
   "execution_count": 83,
   "id": "89c0d4b5",
   "metadata": {
    "ExecuteTime": {
     "end_time": "2021-04-28T22:27:33.877898Z",
     "start_time": "2021-04-28T22:27:33.869504Z"
    }
   },
   "outputs": [
    {
     "data": {
      "text/plain": [
       "{'classical_fig': <Figure size 720x504 with 1 Axes>,\n",
       " 'neural_fig': <Figure size 720x504 with 1 Axes>,\n",
       " 'robustified_fig': <Figure size 720x504 with 1 Axes>}"
      ]
     },
     "execution_count": 83,
     "metadata": {},
     "output_type": "execute_result"
    }
   ],
   "source": [
    "figures"
   ]
  },
  {
   "cell_type": "code",
   "execution_count": 93,
   "id": "57c99bf2",
   "metadata": {
    "ExecuteTime": {
     "end_time": "2021-04-28T23:56:28.114175Z",
     "start_time": "2021-04-28T23:56:28.100409Z"
    }
   },
   "outputs": [
    {
     "name": "stdout",
     "output_type": "stream",
     "text": [
      "\\begin{tabular}{lr}\n",
      "\\toprule\n",
      "{} &   AUROC \\\\\n",
      "\\midrule\n",
      "DBNN  & $0.981$ \\\\\n",
      "RLM   & $0.921$ \\\\\n",
      "SBNN  & $0.921$ \\\\\n",
      "SF    & $0.896$ \\\\\n",
      "DP    & $0.885$ \\\\\n",
      "SW    & $0.882$ \\\\\n",
      "AD    & $0.879$ \\\\\n",
      "JB    & $0.876$ \\\\\n",
      "MMRT1 & $0.875$ \\\\\n",
      "CVM   & $0.872$ \\\\\n",
      "TTRT2 & $0.871$ \\\\\n",
      "MMRT2 & $0.870$ \\\\\n",
      "RSW   & $0.866$ \\\\\n",
      "LF    & $0.826$ \\\\\n",
      "TTRT1 & $0.740$ \\\\\n",
      "FSSD  & $0.596$ \\\\\n",
      "\\bottomrule\n",
      "\\end{tabular}\n",
      "\n"
     ]
    }
   ],
   "source": [
    "latex = util.get_latex_table(df, index=True)\n",
    "print(latex)\n",
    "#dbnn_storage['results']['comparison']['D'] = {}\n",
    "dbnn_storage['reports']['comparison']['D']['auroc'] = {'df' : df, 'latex' : latex}\n",
    "dbnn_storage['reports']['comparison']['D']['auroc'].update(figures)"
   ]
  },
  {
   "cell_type": "markdown",
   "id": "8c75241f",
   "metadata": {},
   "source": [
    "## Save"
   ]
  },
  {
   "cell_type": "code",
   "execution_count": 23,
   "id": "1d67916d",
   "metadata": {
    "ExecuteTime": {
     "end_time": "2021-04-30T04:22:05.845609Z",
     "start_time": "2021-04-30T04:22:04.968942Z"
    }
   },
   "outputs": [],
   "source": [
    "results_directory_path = configuration['results']['directory_path']\n",
    "path = os.path.join(results_directory_path, 'dbnn_results.p')\n",
    "with open(path, 'wb') as f:\n",
    "    pickle.dump(dbnn_storage['results'], f)\n",
    "\n",
    "reports_directory_path = configuration['reports']['directory_path']\n",
    "path = os.path.join(reports_directory_path, 'dbnn')\n",
    "pathlib.Path(*path.split(os.sep)).mkdir(parents=True, exist_ok=True)\n",
    "\n",
    "reports_directory_path = path\n",
    "path = os.path.join(reports_directory_path, 'dbnn_reports.p')\n",
    "with open(path, 'wb') as f:\n",
    "    pickle.dump(dbnn_storage['reports'], f)"
   ]
  },
  {
   "cell_type": "code",
   "execution_count": 5,
   "id": "21fdcbc7",
   "metadata": {
    "ExecuteTime": {
     "end_time": "2021-04-30T03:30:54.010726Z",
     "start_time": "2021-04-30T03:30:46.733438Z"
    }
   },
   "outputs": [
    {
     "name": "stdout",
     "output_type": "stream",
     "text": [
      "Saving reports/evaluation/calibration/calibration_fig.pdf\n"
     ]
    },
    {
     "name": "stderr",
     "output_type": "stream",
     "text": [
      "The PostScript backend does not support transparency; partially transparent artists will be rendered opaque.\n",
      "The PostScript backend does not support transparency; partially transparent artists will be rendered opaque.\n"
     ]
    },
    {
     "name": "stdout",
     "output_type": "stream",
     "text": [
      "Saving reports/evaluation/calibration/calibration_fig.eps\n",
      "Saving reports/evaluation/calibration/calibration_mean_fig.pdf\n"
     ]
    },
    {
     "name": "stderr",
     "output_type": "stream",
     "text": [
      "The PostScript backend does not support transparency; partially transparent artists will be rendered opaque.\n",
      "The PostScript backend does not support transparency; partially transparent artists will be rendered opaque.\n"
     ]
    },
    {
     "name": "stdout",
     "output_type": "stream",
     "text": [
      "Saving reports/evaluation/calibration/calibration_mean_fig.eps\n",
      "Saving reports/evaluation/DBNN(0.01)/F/F_fig.pdf\n"
     ]
    },
    {
     "name": "stderr",
     "output_type": "stream",
     "text": [
      "The PostScript backend does not support transparency; partially transparent artists will be rendered opaque.\n",
      "The PostScript backend does not support transparency; partially transparent artists will be rendered opaque.\n"
     ]
    },
    {
     "name": "stdout",
     "output_type": "stream",
     "text": [
      "Saving reports/evaluation/DBNN(0.01)/F/F_fig.eps\n",
      "Saving reports/evaluation/DBNN(0.05)/F/F_fig.pdf\n"
     ]
    },
    {
     "name": "stderr",
     "output_type": "stream",
     "text": [
      "The PostScript backend does not support transparency; partially transparent artists will be rendered opaque.\n",
      "The PostScript backend does not support transparency; partially transparent artists will be rendered opaque.\n"
     ]
    },
    {
     "name": "stdout",
     "output_type": "stream",
     "text": [
      "Saving reports/evaluation/DBNN(0.05)/F/F_fig.eps\n",
      "Saving reports/evaluation/DBNN(0.1)/F/F_fig.pdf\n"
     ]
    },
    {
     "name": "stderr",
     "output_type": "stream",
     "text": [
      "The PostScript backend does not support transparency; partially transparent artists will be rendered opaque.\n",
      "The PostScript backend does not support transparency; partially transparent artists will be rendered opaque.\n"
     ]
    },
    {
     "name": "stdout",
     "output_type": "stream",
     "text": [
      "Saving reports/evaluation/DBNN(0.1)/F/F_fig.eps\n",
      "Saving reports/evaluation/DBNN/F/F_fig.pdf\n",
      "Saving reports/evaluation/DBNN/F/F_fig.eps\n"
     ]
    },
    {
     "name": "stderr",
     "output_type": "stream",
     "text": [
      "The PostScript backend does not support transparency; partially transparent artists will be rendered opaque.\n",
      "The PostScript backend does not support transparency; partially transparent artists will be rendered opaque.\n"
     ]
    },
    {
     "name": "stdout",
     "output_type": "stream",
     "text": [
      "Saving reports/evaluation/DBNN(opt)/F/F_fig.pdf\n",
      "Saving reports/evaluation/DBNN(opt)/F/F_fig.eps\n"
     ]
    },
    {
     "name": "stderr",
     "output_type": "stream",
     "text": [
      "The PostScript backend does not support transparency; partially transparent artists will be rendered opaque.\n",
      "The PostScript backend does not support transparency; partially transparent artists will be rendered opaque.\n"
     ]
    },
    {
     "name": "stdout",
     "output_type": "stream",
     "text": [
      "Saving reports/evaluation/AB/AB_fig.pdf\n"
     ]
    },
    {
     "name": "stderr",
     "output_type": "stream",
     "text": [
      "The PostScript backend does not support transparency; partially transparent artists will be rendered opaque.\n",
      "The PostScript backend does not support transparency; partially transparent artists will be rendered opaque.\n"
     ]
    },
    {
     "name": "stdout",
     "output_type": "stream",
     "text": [
      "Saving reports/evaluation/AB/AB_fig.eps\n",
      "Saving reports/evaluation/F-left/F-left_fig.pdf\n"
     ]
    },
    {
     "name": "stderr",
     "output_type": "stream",
     "text": [
      "The PostScript backend does not support transparency; partially transparent artists will be rendered opaque.\n",
      "The PostScript backend does not support transparency; partially transparent artists will be rendered opaque.\n"
     ]
    },
    {
     "name": "stdout",
     "output_type": "stream",
     "text": [
      "Saving reports/evaluation/F-left/F-left_fig.eps\n",
      "Saving reports/evaluation/F-right/F-right_fig.pdf\n"
     ]
    },
    {
     "name": "stderr",
     "output_type": "stream",
     "text": [
      "The PostScript backend does not support transparency; partially transparent artists will be rendered opaque.\n",
      "The PostScript backend does not support transparency; partially transparent artists will be rendered opaque.\n"
     ]
    },
    {
     "name": "stdout",
     "output_type": "stream",
     "text": [
      "Saving reports/evaluation/F-right/F-right_fig.eps\n",
      "Saving reports/evaluation/F-symmetric/F-symmetric_fig.pdf\n",
      "Saving reports/evaluation/F-symmetric/F-symmetric_fig.eps\n"
     ]
    },
    {
     "name": "stderr",
     "output_type": "stream",
     "text": [
      "The PostScript backend does not support transparency; partially transparent artists will be rendered opaque.\n",
      "The PostScript backend does not support transparency; partially transparent artists will be rendered opaque.\n",
      "The PostScript backend does not support transparency; partially transparent artists will be rendered opaque.\n",
      "The PostScript backend does not support transparency; partially transparent artists will be rendered opaque.\n"
     ]
    },
    {
     "name": "stdout",
     "output_type": "stream",
     "text": [
      "Saving reports/evaluation/F-central/F-central_fig.pdf\n",
      "Saving reports/evaluation/F-central/F-central_fig.eps\n",
      "Saving reports/comparison/C-G1/C-G1_fig.pdf\n"
     ]
    },
    {
     "name": "stderr",
     "output_type": "stream",
     "text": [
      "The PostScript backend does not support transparency; partially transparent artists will be rendered opaque.\n",
      "The PostScript backend does not support transparency; partially transparent artists will be rendered opaque.\n"
     ]
    },
    {
     "name": "stdout",
     "output_type": "stream",
     "text": [
      "Saving reports/comparison/C-G1/C-G1_fig.eps\n",
      "Saving reports/comparison/C-G2/C-G2_fig.pdf\n"
     ]
    },
    {
     "name": "stderr",
     "output_type": "stream",
     "text": [
      "The PostScript backend does not support transparency; partially transparent artists will be rendered opaque.\n",
      "The PostScript backend does not support transparency; partially transparent artists will be rendered opaque.\n"
     ]
    },
    {
     "name": "stdout",
     "output_type": "stream",
     "text": [
      "Saving reports/comparison/C-G2/C-G2_fig.eps\n",
      "Saving reports/comparison/C-G3/C-G3_fig.pdf\n",
      "Saving reports/comparison/C-G3/C-G3_fig.eps\n"
     ]
    },
    {
     "name": "stderr",
     "output_type": "stream",
     "text": [
      "The PostScript backend does not support transparency; partially transparent artists will be rendered opaque.\n",
      "The PostScript backend does not support transparency; partially transparent artists will be rendered opaque.\n"
     ]
    },
    {
     "name": "stdout",
     "output_type": "stream",
     "text": [
      "Saving reports/comparison/C-G4/C-G4_fig.pdf\n",
      "Saving reports/comparison/C-G4/C-G4_fig.eps\n"
     ]
    },
    {
     "name": "stderr",
     "output_type": "stream",
     "text": [
      "The PostScript backend does not support transparency; partially transparent artists will be rendered opaque.\n",
      "The PostScript backend does not support transparency; partially transparent artists will be rendered opaque.\n"
     ]
    },
    {
     "name": "stdout",
     "output_type": "stream",
     "text": [
      "Saving reports/comparison/D/auroc/auroc_classical_fig.pdf\n"
     ]
    },
    {
     "name": "stderr",
     "output_type": "stream",
     "text": [
      "The PostScript backend does not support transparency; partially transparent artists will be rendered opaque.\n",
      "The PostScript backend does not support transparency; partially transparent artists will be rendered opaque.\n"
     ]
    },
    {
     "name": "stdout",
     "output_type": "stream",
     "text": [
      "Saving reports/comparison/D/auroc/auroc_classical_fig.eps\n",
      "Saving reports/comparison/D/auroc/auroc_neural_fig.pdf\n"
     ]
    },
    {
     "name": "stderr",
     "output_type": "stream",
     "text": [
      "The PostScript backend does not support transparency; partially transparent artists will be rendered opaque.\n",
      "The PostScript backend does not support transparency; partially transparent artists will be rendered opaque.\n"
     ]
    },
    {
     "name": "stdout",
     "output_type": "stream",
     "text": [
      "Saving reports/comparison/D/auroc/auroc_neural_fig.eps\n",
      "Saving reports/comparison/D/auroc/auroc_robustified_fig.pdf\n"
     ]
    },
    {
     "name": "stderr",
     "output_type": "stream",
     "text": [
      "The PostScript backend does not support transparency; partially transparent artists will be rendered opaque.\n",
      "The PostScript backend does not support transparency; partially transparent artists will be rendered opaque.\n"
     ]
    },
    {
     "name": "stdout",
     "output_type": "stream",
     "text": [
      "Saving reports/comparison/D/auroc/auroc_robustified_fig.eps\n",
      "Saving reports/comparison/D/D_auroc_fig.pdf\n"
     ]
    },
    {
     "name": "stderr",
     "output_type": "stream",
     "text": [
      "The PostScript backend does not support transparency; partially transparent artists will be rendered opaque.\n",
      "The PostScript backend does not support transparency; partially transparent artists will be rendered opaque.\n"
     ]
    },
    {
     "name": "stdout",
     "output_type": "stream",
     "text": [
      "Saving reports/comparison/D/D_auroc_fig.eps\n"
     ]
    }
   ],
   "source": [
    "util.traverse_and_save(dbnn_storage['reports'], \n",
    "                       configuration['reports']['directory_path'])"
   ]
  }
 ],
 "metadata": {
  "kernelspec": {
   "display_name": "p39n",
   "language": "python",
   "name": "p39n"
  },
  "language_info": {
   "codemirror_mode": {
    "name": "ipython",
    "version": 3
   },
   "file_extension": ".py",
   "mimetype": "text/x-python",
   "name": "python",
   "nbconvert_exporter": "python",
   "pygments_lexer": "ipython3",
   "version": "3.9.4"
  },
  "toc": {
   "base_numbering": 1,
   "nav_menu": {},
   "number_sections": true,
   "sideBar": true,
   "skip_h1_title": true,
   "title_cell": "Table of Contents",
   "title_sidebar": "Contents",
   "toc_cell": false,
   "toc_position": {
    "height": "calc(100% - 180px)",
    "left": "10px",
    "top": "150px",
    "width": "247.067px"
   },
   "toc_section_display": true,
   "toc_window_display": true
  }
 },
 "nbformat": 4,
 "nbformat_minor": 5
}
