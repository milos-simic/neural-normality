{
 "cells": [
  {
   "cell_type": "markdown",
   "metadata": {},
   "source": [
    "# Configure the experiment\n",
    "\n",
    "Import the necessary packages."
   ]
  },
  {
   "cell_type": "code",
   "execution_count": 1,
   "metadata": {
    "ExecuteTime": {
     "end_time": "2021-04-09T09:58:12.620446Z",
     "start_time": "2021-04-09T09:58:12.612121Z"
    }
   },
   "outputs": [],
   "source": [
    "import os\n",
    "import pathlib\n",
    "import pickle"
   ]
  },
  {
   "cell_type": "markdown",
   "metadata": {},
   "source": [
    "## Set up the configuration dictionary\n",
    "\n",
    "Initialize a configuraton dictionary which will hold all the information on the data, classifiers, results,  reports and everything needed to run the experiments smoothly."
   ]
  },
  {
   "cell_type": "code",
   "execution_count": 2,
   "metadata": {
    "ExecuteTime": {
     "end_time": "2021-04-09T09:58:13.532301Z",
     "start_time": "2021-04-09T09:58:13.519918Z"
    }
   },
   "outputs": [],
   "source": [
    "configuration = {\n",
    "    'data' : {\n",
    "        'directory_path' : 'data',\n",
    "        'datasets' : {}\n",
    "    },\n",
    "    'classifiers' : {\n",
    "        'directory_path' : 'classifiers',\n",
    "        'classifiers' : {}\n",
    "    },\n",
    "    'tests' : {\n",
    "        'directory_path' : 'tests'\n",
    "    },\n",
    "    'results' : {\n",
    "        'directory_path' : 'results',\n",
    "    },\n",
    "    'reports' : {\n",
    "        'directory_path' : 'reports',\n",
    "    },\n",
    "    'experiment':{\n",
    "        'number_of_cv_folds' : 4, # the number of folds to use during cross-validation\n",
    "    }\n",
    "}"
   ]
  },
  {
   "cell_type": "markdown",
   "metadata": {},
   "source": [
    "Create the directories to store the data, classifiers, results and reports."
   ]
  },
  {
   "cell_type": "code",
   "execution_count": 3,
   "metadata": {
    "ExecuteTime": {
     "end_time": "2021-04-09T09:58:14.803296Z",
     "start_time": "2021-04-09T09:58:14.790552Z"
    }
   },
   "outputs": [],
   "source": [
    "for config_item in configuration.values():\n",
    "    if 'directory_path' in config_item:\n",
    "        path = config_item['directory_path']\n",
    "        path = os.path.join(*path.split('/'))\n",
    "        pathlib.Path(path).mkdir(parents=True, exist_ok=True) "
   ]
  },
  {
   "cell_type": "markdown",
   "metadata": {},
   "source": [
    "Save the configuration dictionary. Make sure that it is loaded at the beginning of each notebook in this experiment."
   ]
  },
  {
   "cell_type": "code",
   "execution_count": 4,
   "metadata": {
    "ExecuteTime": {
     "end_time": "2021-04-09T09:58:16.139059Z",
     "start_time": "2021-04-09T09:58:16.129528Z"
    }
   },
   "outputs": [],
   "source": [
    "with open('configuration.p', 'wb') as f:\n",
    "    pickle.dump(configuration, f)"
   ]
  },
  {
   "cell_type": "code",
   "execution_count": null,
   "metadata": {},
   "outputs": [],
   "source": []
  }
 ],
 "metadata": {
  "kernelspec": {
   "display_name": "Python 3",
   "language": "python",
   "name": "python3"
  },
  "language_info": {
   "codemirror_mode": {
    "name": "ipython",
    "version": 3
   },
   "file_extension": ".py",
   "mimetype": "text/x-python",
   "name": "python",
   "nbconvert_exporter": "python",
   "pygments_lexer": "ipython3",
   "version": "3.6.9"
  },
  "toc": {
   "base_numbering": 1,
   "nav_menu": {},
   "number_sections": false,
   "sideBar": false,
   "skip_h1_title": false,
   "title_cell": "Table of Contents",
   "title_sidebar": "Contents",
   "toc_cell": false,
   "toc_position": {},
   "toc_section_display": true,
   "toc_window_display": false
  }
 },
 "nbformat": 4,
 "nbformat_minor": 4
}
