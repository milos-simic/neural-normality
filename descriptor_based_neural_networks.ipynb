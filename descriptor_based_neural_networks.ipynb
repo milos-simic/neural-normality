{
 "cells": [
  {
   "cell_type": "markdown",
   "metadata": {
    "toc": true
   },
   "source": [
    "<h1>Table of Contents<span class=\"tocSkip\"></span></h1>\n",
    "<div class=\"toc\"><ul class=\"toc-item\"><li><span><a href=\"#Set-up-the-Environment\" data-toc-modified-id=\"Set-up-the-Environment-1\"><span class=\"toc-item-num\">1&nbsp;&nbsp;</span>Set up the Environment</a></span></li><li><span><a href=\"#Prepare-the-Data\" data-toc-modified-id=\"Prepare-the-Data-2\"><span class=\"toc-item-num\">2&nbsp;&nbsp;</span>Prepare the Data</a></span><ul class=\"toc-item\"><li><span><a href=\"#Load-the-Data\" data-toc-modified-id=\"Load-the-Data-2.1\"><span class=\"toc-item-num\">2.1&nbsp;&nbsp;</span>Load the Data</a></span></li><li><span><a href=\"#Split-$\\mathcal{A}$-into-Cross-validation-and-Test--Subsets-($\\mathcal{A}_{cv}$-and-$\\mathcal{A}_{test}$)\" data-toc-modified-id=\"Split-$\\mathcal{A}$-into-Cross-validation-and-Test--Subsets-($\\mathcal{A}_{cv}$-and-$\\mathcal{A}_{test}$)-2.2\"><span class=\"toc-item-num\">2.2&nbsp;&nbsp;</span>Split $\\mathcal{A}$ into Cross-validation and Test  Subsets ($\\mathcal{A}_{cv}$ and $\\mathcal{A}_{test}$)</a></span></li><li><span><a href=\"#Split-the-Labels-and-the-Samples-in-Other-Datasets\" data-toc-modified-id=\"Split-the-Labels-and-the-Samples-in-Other-Datasets-2.3\"><span class=\"toc-item-num\">2.3&nbsp;&nbsp;</span>Split the Labels and the Samples in Other Datasets</a></span></li></ul></li><li><span><a href=\"#Construct-the-Descriptor-based-Feedforward-Neural-Network-Classifier-(DBNN)\" data-toc-modified-id=\"Construct-the-Descriptor-based-Feedforward-Neural-Network-Classifier-(DBNN)-3\"><span class=\"toc-item-num\">3&nbsp;&nbsp;</span>Construct the Descriptor-based Feedforward Neural Network Classifier (DBNN)</a></span><ul class=\"toc-item\"><li><span><a href=\"#Prepare-the-Descriptor-Builder\" data-toc-modified-id=\"Prepare-the-Descriptor-Builder-3.1\"><span class=\"toc-item-num\">3.1&nbsp;&nbsp;</span>Prepare the Descriptor Builder</a></span></li><li><span><a href=\"#Cross-validate\" data-toc-modified-id=\"Cross-validate-3.2\"><span class=\"toc-item-num\">3.2&nbsp;&nbsp;</span>Cross-validate</a></span><ul class=\"toc-item\"><li><span><a href=\"#Show-and-Store-the-CV-Results-and-Reports\" data-toc-modified-id=\"Show-and-Store-the-CV-Results-and-Reports-3.2.1\"><span class=\"toc-item-num\">3.2.1&nbsp;&nbsp;</span>Show and Store the CV Results and Reports</a></span></li></ul></li></ul></li><li><span><a href=\"#Check-if-the-Descriptors-are-Well-formed\" data-toc-modified-id=\"Check-if-the-Descriptors-are-Well-formed-4\"><span class=\"toc-item-num\">4&nbsp;&nbsp;</span>Check if the Descriptors are Well-formed</a></span></li><li><span><a href=\"#Check-Calibration\" data-toc-modified-id=\"Check-Calibration-5\"><span class=\"toc-item-num\">5&nbsp;&nbsp;</span>Check Calibration</a></span></li><li><span><a href=\"#Evaluate-Classification-Performance\" data-toc-modified-id=\"Evaluate-Classification-Performance-6\"><span class=\"toc-item-num\">6&nbsp;&nbsp;</span>Evaluate Classification Performance</a></span><ul class=\"toc-item\"><li><span><a href=\"#Performance-on-the-Set-$\\mathcal{A}_{test}$\" data-toc-modified-id=\"Performance-on-the-Set-$\\mathcal{A}_{test}$-6.1\"><span class=\"toc-item-num\">6.1&nbsp;&nbsp;</span>Performance on the Set $\\mathcal{A}_{test}$</a></span></li><li><span><a href=\"#Performance-on-the-Set-$\\mathcal{B}$\" data-toc-modified-id=\"Performance-on-the-Set-$\\mathcal{B}$-6.2\"><span class=\"toc-item-num\">6.2&nbsp;&nbsp;</span>Performance on the Set $\\mathcal{B}$</a></span><ul class=\"toc-item\"><li><span><a href=\"#Compare-Performance-with-that-on-$\\mathcal{A}_{test}$\" data-toc-modified-id=\"Compare-Performance-with-that-on-$\\mathcal{A}_{test}$-6.2.1\"><span class=\"toc-item-num\">6.2.1&nbsp;&nbsp;</span>Compare Performance with that on $\\mathcal{A}_{test}$</a></span></li></ul></li><li><span><a href=\"#Performance-on-the-Set-$\\mathcal{C}$\" data-toc-modified-id=\"Performance-on-the-Set-$\\mathcal{C}$-6.3\"><span class=\"toc-item-num\">6.3&nbsp;&nbsp;</span>Performance on the Set $\\mathcal{C}$</a></span></li></ul></li><li><span><a href=\"#Compare-the-DBNN-with-the-Standard-Statistical-Tests\" data-toc-modified-id=\"Compare-the-DBNN-with-the-Standard-Statistical-Tests-7\"><span class=\"toc-item-num\">7&nbsp;&nbsp;</span>Compare the DBNN with the Standard Statistical Tests</a></span><ul class=\"toc-item\"><li><span><a href=\"#Compare-the-TNR-Scores-Using-the-Set-$\\mathcal{C}$\" data-toc-modified-id=\"Compare-the-TNR-Scores-Using-the-Set-$\\mathcal{C}$-7.1\"><span class=\"toc-item-num\">7.1&nbsp;&nbsp;</span>Compare the TNR Scores Using the Set $\\mathcal{C}$</a></span></li><li><span><a href=\"#Compare-Performance-Using-the-Set-$\\mathcal{D}$\" data-toc-modified-id=\"Compare-Performance-Using-the-Set-$\\mathcal{D}$-7.2\"><span class=\"toc-item-num\">7.2&nbsp;&nbsp;</span>Compare Performance Using the Set $\\mathcal{D}$</a></span><ul class=\"toc-item\"><li><span><a href=\"#Conduct-ROC-Analysis\" data-toc-modified-id=\"Conduct-ROC-Analysis-7.2.1\"><span class=\"toc-item-num\">7.2.1&nbsp;&nbsp;</span>Conduct ROC Analysis</a></span></li></ul></li></ul></li><li><span><a href=\"#Save\" data-toc-modified-id=\"Save-8\"><span class=\"toc-item-num\">8&nbsp;&nbsp;</span>Save</a></span></li></ul></div>"
   ]
  },
  {
   "cell_type": "markdown",
   "metadata": {},
   "source": [
    "# Descriptor-Based Neural Networks for Normality Testing <a class=\"tocSkip\">"
   ]
  },
  {
   "cell_type": "markdown",
   "metadata": {},
   "source": [
    "## Set up the Environment"
   ]
  },
  {
   "cell_type": "code",
   "execution_count": 2,
   "metadata": {
    "ExecuteTime": {
     "end_time": "2020-09-24T06:57:27.911524Z",
     "start_time": "2020-09-24T06:57:16.851740Z"
    },
    "scrolled": true
   },
   "outputs": [],
   "source": [
    "# Import everything that's needed to run the notebook\n",
    "import os\n",
    "import pickle\n",
    "import pathlib\n",
    "import datetime\n",
    "import random\n",
    "\n",
    "from IPython.display import display, Markdown, Latex\n",
    "import pandas as pd\n",
    "import numpy as np\n",
    "from sklearn.pipeline import Pipeline\n",
    "from sklearn.base import BaseEstimator, TransformerMixin\n",
    "from sklearn.ensemble import RandomForestClassifier\n",
    "from sklearn.impute import SimpleImputer\n",
    "from sklearn.neural_network import MLPClassifier\n",
    "from sklearn.model_selection import train_test_split\n",
    "from sklearn.metrics import f1_score\n",
    "from sklearn.model_selection import GridSearchCV\n",
    "from sklearn.metrics import classification_report\n",
    "from sklearn.metrics import accuracy_score\n",
    "import sklearn.metrics\n",
    "import sklearn.preprocessing\n",
    "import scipy.stats\n",
    "import matplotlib.pyplot as plt\n",
    "import boruta\n",
    "\n",
    "import util\n",
    "from ipynb.fs.defs.sbnn import SBNNPreprocessor\n",
    "\n",
    "plt.rc('xtick',labelsize=13)\n",
    "plt.rc('ytick',labelsize=13)"
   ]
  },
  {
   "cell_type": "markdown",
   "metadata": {},
   "source": [
    "Read the configuration."
   ]
  },
  {
   "cell_type": "code",
   "execution_count": 3,
   "metadata": {
    "ExecuteTime": {
     "end_time": "2020-09-24T06:57:27.932088Z",
     "start_time": "2020-09-24T06:57:27.913882Z"
    }
   },
   "outputs": [],
   "source": [
    "# Define the path to the configuration dictionary\n",
    "config_path = 'configuration.p'\n",
    "\n",
    "# Load the configuration dictionary\n",
    "with open(config_path, 'rb') as f:\n",
    "    configuration = pickle.load(f)\n",
    "    \n",
    "# Get the paths to the relevant directories \n",
    "data_directory_path = configuration['data']['directory_path']\n",
    "classifiers_directory_path = configuration['classifiers']['directory_path']\n",
    "\n",
    "# Get the parameters of the experiment\n",
    "cv_folds = configuration['experiment']['number_of_cv_folds']"
   ]
  },
  {
   "cell_type": "markdown",
   "metadata": {},
   "source": [
    "## Prepare the Data"
   ]
  },
  {
   "cell_type": "markdown",
   "metadata": {},
   "source": [
    "### Load the Data"
   ]
  },
  {
   "cell_type": "markdown",
   "metadata": {},
   "source": [
    "Load the datasets using the function `load_from_file` from `util`."
   ]
  },
  {
   "cell_type": "code",
   "execution_count": 4,
   "metadata": {
    "ExecuteTime": {
     "end_time": "2020-09-24T06:57:47.371294Z",
     "start_time": "2020-09-24T06:57:27.934582Z"
    }
   },
   "outputs": [
    {
     "name": "stdout",
     "output_type": "stream",
     "text": [
      "Loading A from data/A.data\n",
      "Done.\n",
      "Loading B from data/B.data\n",
      "Done.\n",
      "Loading C-G1 from data/C-G1.data\n",
      "Done.\n",
      "Loading C-G2 from data/C-G2.data\n",
      "Done.\n",
      "Loading C-G3 from data/C-G3.data\n",
      "Done.\n",
      "Loading C-G4 from data/C-G4.data\n",
      "Done.\n",
      "Loading D from data/D.data\n",
      "Done.\n",
      "Loading E from data/E.data\n",
      "Done.\n"
     ]
    }
   ],
   "source": [
    "# Define the dictionary to store the actual datasets, indexed by their names\n",
    "datasets = {}\n",
    "\n",
    "# Load the datasets\n",
    "for set_name in configuration['data']['datasets']:\n",
    "    set_path = configuration['data']['datasets'][set_name]['path']\n",
    "    print('Loading {} from {}'.format(set_name, set_path))\n",
    "    datasets[set_name] = util.load_from_file(set_path)\n",
    "    print('Done.')"
   ]
  },
  {
   "cell_type": "markdown",
   "metadata": {},
   "source": [
    "Show a normal sample from the dataset $\\mathcal{A}$. and a non-normal from the group $G_1$ of the dataset $\\mathcal{C}$. The normal samples are labeled with $1$, whereas the label of each non-normal one is $0$. The normal samples constitute the \"positive\" and the non-normal the \"negative\" class."
   ]
  },
  {
   "cell_type": "code",
   "execution_count": 5,
   "metadata": {
    "ExecuteTime": {
     "end_time": "2020-09-24T06:57:47.440395Z",
     "start_time": "2020-09-24T06:57:47.430434Z"
    }
   },
   "outputs": [
    {
     "name": "stdout",
     "output_type": "stream",
     "text": [
      "A normal sample (ending in 1):\n",
      " [-79.46376319580664, -84.26989356078793, -86.68589431347755, -93.09879092281287, -86.4982312401116, -85.36905068711518, -86.7653398048915, -81.95194871963047, -81.67820210391082, -86.23312564785603, 1.0]\n",
      "A non-normal sample (ending in 0):\n",
      " [2.954457516189301, -3.952765739542119, 0.034640909231654346, -3.1004914353069997, 0.41292584522629383, -1.120951798480814, -0.3319658052332205, -1.7279519922048643, -3.10246835879567, -1.4679546173993594, 0.0]\n"
     ]
    }
   ],
   "source": [
    "print('A normal sample (ending in 1):\\n', datasets['A'][0])\n",
    "print('A non-normal sample (ending in 0):\\n', datasets['C-G1'][0])"
   ]
  },
  {
   "cell_type": "markdown",
   "metadata": {},
   "source": [
    "### Split $\\mathcal{A}$ into Cross-validation and Test  Subsets ($\\mathcal{A}_{cv}$ and $\\mathcal{A}_{test}$) \n",
    "\n",
    "Split $\\mathcal{A}$ into the subsets for cross-validation ($\\mathcal{A}_{cv})$ and testing ($\\mathcal{A}_{test}$).\n",
    "\n",
    "Use 70% of the set to cross-validate and 30% for subsequent testing and evaluation."
   ]
  },
  {
   "cell_type": "code",
   "execution_count": 6,
   "metadata": {
    "ExecuteTime": {
     "end_time": "2020-09-24T06:57:47.942772Z",
     "start_time": "2020-09-24T06:57:47.441633Z"
    }
   },
   "outputs": [],
   "source": [
    "# Extract the labels from the set, leaving only samples in it\n",
    "labels_A = [labeled_sample.pop() for labeled_sample in datasets['A']]\n",
    "samples_A = datasets['A']\n",
    "\n",
    "# There is no need to store the sama data twice, in datasets['A'] and in (samples_A, labels_A)\n",
    "del datasets['A']\n",
    "\n",
    "# Define the stratification labels as the combination of actual labels and sample sizes\n",
    "stratification_labels = [str(label) + str(len(sample)) for (label, sample) in zip(labels_A, samples_A)]\n",
    "\n",
    "# Set the relative size of the CV subset\n",
    "train_size = 0.7\n",
    "\n",
    "# Split the data into CV and test subsets\n",
    "random_state=None\n",
    "set_A_cv, set_A_test, y_cv, y_test = train_test_split(samples_A, labels_A, stratify=stratification_labels, \n",
    "                                              train_size=train_size, random_state=random_state)"
   ]
  },
  {
   "cell_type": "markdown",
   "metadata": {},
   "source": [
    "### Split the Labels and the Samples in Other Datasets"
   ]
  },
  {
   "cell_type": "code",
   "execution_count": 7,
   "metadata": {
    "ExecuteTime": {
     "end_time": "2020-09-24T06:57:48.152135Z",
     "start_time": "2020-09-24T06:57:47.944085Z"
    }
   },
   "outputs": [],
   "source": [
    "for set_name in datasets:\n",
    "    labels = [sample.pop() for sample in datasets[set_name]]\n",
    "    samples = datasets[set_name]\n",
    "    \n",
    "    datasets[set_name] = {'samples' : samples, 'labels' : labels}"
   ]
  },
  {
   "cell_type": "markdown",
   "metadata": {},
   "source": [
    "## Construct the Descriptor-based Feedforward Neural Network Classifier (DBNN)\n",
    "\n",
    "First, register DBNN as a classifer in the configuration."
   ]
  },
  {
   "cell_type": "code",
   "execution_count": 8,
   "metadata": {
    "ExecuteTime": {
     "end_time": "2020-09-24T06:57:48.157357Z",
     "start_time": "2020-09-24T06:57:48.153936Z"
    }
   },
   "outputs": [],
   "source": [
    "dbnn_metadata = {\n",
    "    'name' : 'dbnn',\n",
    "    'path' :os.path.join(configuration['classifiers']['directory_path'], 'dbnn.p'),\n",
    "}\n",
    "\n",
    "configuration['classifiers']['classifiers']['dbnn'] = dbnn_metadata"
   ]
  },
  {
   "cell_type": "markdown",
   "metadata": {},
   "source": [
    "Create a storage to hold classifier, the results and reports (figures, dataframes and $\\LaTeX$ tables)."
   ]
  },
  {
   "cell_type": "code",
   "execution_count": 9,
   "metadata": {
    "ExecuteTime": {
     "end_time": "2020-09-24T06:57:48.288567Z",
     "start_time": "2020-09-24T06:57:48.159499Z"
    }
   },
   "outputs": [],
   "source": [
    "dbnn_storage = {\n",
    "    'classifier' : None,\n",
    "    'classifier_based_test' : None,\n",
    "    'test_based_classifer' : None,\n",
    "    'results' : {\n",
    "        'cv' : {},\n",
    "        'evaluation' : {},\n",
    "        'comparison' : {}\n",
    "    },\n",
    "    'reports' : {\n",
    "        'cv' : {},\n",
    "        'evaluation' : {},\n",
    "        'comparison' : {}\n",
    "    }\n",
    "}"
   ]
  },
  {
   "cell_type": "markdown",
   "metadata": {},
   "source": [
    "### Prepare the Descriptor Builder\n",
    "\n",
    "Since the neural networks we devise in this notebook operate with descriptors and not the raw samples, define the class `DescriptorBuilder` to perform that preprocessing step and to be plugged into `sklearn` pipeline.\n",
    "\n",
    "To do so, define two separate functions: a routine to find the sample's empirical quantiles and a function to determine the descriptor of a given sample."
   ]
  },
  {
   "cell_type": "code",
   "execution_count": 10,
   "metadata": {
    "ExecuteTime": {
     "end_time": "2020-09-24T06:57:48.438677Z",
     "start_time": "2020-09-24T06:57:48.293739Z"
    }
   },
   "outputs": [],
   "source": [
    "# Define the function that finds the lowest empirical quantile \n",
    "# that is greater than 100q% of the sample (0 < q <= 1).\n",
    "# The sample has to be sorted in the ascending order in order for this function to work.\n",
    "\n",
    "def get_quantile(sample, q):\n",
    "    n = len(sample)\n",
    "    i = 0\n",
    "    s = 1.0 / n\n",
    "    \n",
    "    while s < q and i < n:\n",
    "        s = s + 1.0 / n\n",
    "        i = i + 1\n",
    "\n",
    "    if i == n:\n",
    "        i = n - 1\n",
    "\n",
    "    return sample[i]"
   ]
  },
  {
   "cell_type": "code",
   "execution_count": 11,
   "metadata": {
    "ExecuteTime": {
     "end_time": "2020-09-24T06:57:48.661141Z",
     "start_time": "2020-09-24T06:57:48.443244Z"
    }
   },
   "outputs": [],
   "source": [
    "# Define the function to construct a sample's descriptor.\n",
    "def get_descriptor(sample, q, sorted=True):\n",
    "    # Make sure that the sample is sorted before calling this function\n",
    "    if sorted == False:\n",
    "        sample.sort()\n",
    "        \n",
    "    # Determine the descriptive statistics\n",
    "    n = len(sample)\n",
    "    maximum = max(sample)\n",
    "    minimum = min(sample)\n",
    "    mean = np.mean(sample)\n",
    "    median = np.median(sample)\n",
    "    sd = np.std(sample)\n",
    "    #kurtosis = scipy.stats.kurtosis(sample, fisher=False)\n",
    "    #skewness = scipy.stats.skew(sample)\n",
    "    \n",
    "    # Standardize the sample\n",
    "    standardized_sample = [(x - mean) / sd for x in sample]\n",
    "    \n",
    "    # Determine the number of quantiles\n",
    "    m = int(1 / q)\n",
    "    \n",
    "    # Determine the quantiles\n",
    "    # Note: Optimize this step. All the quantiles can be found in one single pass.\n",
    "    descriptor = [get_quantile(standardized_sample, j*q) for j in range(1, m + 1)]\n",
    "    \n",
    "    # Combine the quantiles and descriptive statistics to get the sample's descriptor\n",
    "    descriptor = descriptor + [n, mean, sd, minimum, maximum, median]\n",
    "    \n",
    "    return descriptor"
   ]
  },
  {
   "cell_type": "markdown",
   "metadata": {},
   "source": [
    "Now, define the descriptor builder."
   ]
  },
  {
   "cell_type": "code",
   "execution_count": 12,
   "metadata": {
    "ExecuteTime": {
     "end_time": "2020-09-24T06:57:49.583328Z",
     "start_time": "2020-09-24T06:57:48.667002Z"
    }
   },
   "outputs": [],
   "source": [
    "class DescriptorBuilder(TransformerMixin, BaseEstimator):\n",
    "    def __init__(self, q=0.1):\n",
    "        super(DescriptorBuilder, self).__init__()\n",
    "        self.q = q\n",
    "        \n",
    "        # Set the names of the features in the descriptors\n",
    "        self.features = ['q{:.2f}'.format(i * q) for i in range(1, int(1/q) + 1)]\n",
    "        self.features += ['n', 'mean', 'sd', 'minimum', 'maximum', 'median']\n",
    "        \n",
    "    def fit(self, X, y=None):\n",
    "        # Not needed, but present for compatibility.\n",
    "        return self\n",
    "    \n",
    "    def transform(self, X, y=None):\n",
    "        # Note: Currently works only on a list of lists or a single list.\n",
    "        if isinstance(X, list):\n",
    "            if all(isinstance(x, list) for x in X):\n",
    "                X = [get_descriptor(x, q=self.q, sorted=False) for x in X]\n",
    "                return pd.DataFrame(X)\n",
    "            else:\n",
    "                X = get_descriptor(X, q=self.q, sorted=False)\n",
    "                return X\n",
    "        else:\n",
    "            # Pandas dataframes and numpy arrays are not supported for now.\n",
    "            pass"
   ]
  },
  {
   "cell_type": "markdown",
   "metadata": {},
   "source": [
    "### Cross-validate\n",
    "\n",
    "If you want to use the already trained network, run the following cell to load the network and skip the rest of this Section. In the case you want to do the cross-validation yourself, skip the cell."
   ]
  },
  {
   "cell_type": "code",
   "execution_count": 13,
   "metadata": {
    "ExecuteTime": {
     "end_time": "2020-09-24T06:57:49.879774Z",
     "start_time": "2020-09-24T06:57:49.588760Z"
    }
   },
   "outputs": [],
   "source": [
    "path = os.path.join(classifiers_directory_path, 'dbnn_classifier.p')\n",
    "with open(path, 'rb') as f:\n",
    "    dbnn = pickle.load(f)"
   ]
  },
  {
   "cell_type": "markdown",
   "metadata": {},
   "source": [
    "Create a `sklearn` pipeline that consists of the descriptor builder, standard scaler, mean imputer to replace the null values, and the neural network itself."
   ]
  },
  {
   "cell_type": "code",
   "execution_count": null,
   "metadata": {
    "ExecuteTime": {
     "end_time": "2020-09-23T23:58:38.591813Z",
     "start_time": "2020-09-23T23:58:38.580929Z"
    }
   },
   "outputs": [],
   "source": [
    "descriptor_builder = DescriptorBuilder()\n",
    "scaler = sklearn.preprocessing.StandardScaler()\n",
    "imputer = SimpleImputer(strategy='mean')\n",
    "neural_net = MLPClassifier(solver='adam', max_iter=200, activation='relu',\n",
    "                           random_state=random_state,\n",
    "                           early_stopping=True, validation_fraction=0.1)\n",
    "pipe = Pipeline([('descriptor_builder', descriptor_builder),\n",
    "                 ('scaler', scaler),\n",
    "                 ('imputer', imputer),\n",
    "                 ('neural_net', neural_net),\n",
    "                ])"
   ]
  },
  {
   "cell_type": "markdown",
   "metadata": {},
   "source": [
    "Run the grid search to fit the network's parameters and find the best hyperparameters."
   ]
  },
  {
   "cell_type": "code",
   "execution_count": null,
   "metadata": {
    "ExecuteTime": {
     "end_time": "2020-09-24T00:03:06.050985Z",
     "start_time": "2020-09-23T23:58:44.915436Z"
    }
   },
   "outputs": [],
   "source": [
    "# Specify the hyperparameter grid\n",
    "param_grid = dict(descriptor_builder__q = [0.05, 0.1],\n",
    "                  neural_net__hidden_layer_sizes = [(1000,), (100, 10)],\n",
    "                  neural_net__alpha = [1, 0.1],\n",
    "                 )\n",
    "\n",
    "# Define the grid search object\n",
    "grid = GridSearchCV(pipe,\n",
    "                    param_grid=param_grid,\n",
    "                    scoring='accuracy', # for evaluating predictions on the test sets\n",
    "                    refit=True,\n",
    "                    cv=cv_folds,\n",
    "                    verbose=1,\n",
    "                    n_jobs=-1)\n",
    "\n",
    "# Perform cross-validation\n",
    "grid.fit(set_A_cv, y_cv)"
   ]
  },
  {
   "cell_type": "markdown",
   "metadata": {},
   "source": [
    "#### Show and Store the CV Results and Reports"
   ]
  },
  {
   "cell_type": "markdown",
   "metadata": {},
   "source": [
    "Get the estimator obtained by fitting to the whole CV set using the best found hyperparameters."
   ]
  },
  {
   "cell_type": "code",
   "execution_count": null,
   "metadata": {
    "ExecuteTime": {
     "end_time": "2020-09-24T00:07:04.220694Z",
     "start_time": "2020-09-24T00:07:04.215562Z"
    }
   },
   "outputs": [],
   "source": [
    "# Get the trained network.\n",
    "dbnn = grid.best_estimator_\n",
    "dbnn_storage['classifier'] = dbnn\n",
    "\n",
    "# Show its hyperparameters\n",
    "grid.best_params_"
   ]
  },
  {
   "cell_type": "markdown",
   "metadata": {},
   "source": [
    "Show the CV results as a `pandas` dataframe."
   ]
  },
  {
   "cell_type": "code",
   "execution_count": null,
   "metadata": {
    "ExecuteTime": {
     "end_time": "2020-09-24T00:07:10.403416Z",
     "start_time": "2020-09-24T00:07:10.385150Z"
    }
   },
   "outputs": [],
   "source": [
    "# Show the means and deviations of the score(s) and CV time\n",
    "params = grid.cv_results_['params']\n",
    "mean_scores = grid.cv_results_['mean_test_score']\n",
    "score_sds = grid.cv_results_['std_test_score']\n",
    "mean_fit_times = grid.cv_results_['mean_fit_time']\n",
    "time_sds = grid.cv_results_['std_fit_time']\n",
    "\n",
    "results = []\n",
    "for (params, mean_score, score_sd, mean_fit_time, time_sd) in zip(params, mean_scores, score_sds, mean_fit_times, time_sds):\n",
    "    alpha = params['neural_net__alpha']\n",
    "    structure = params['neural_net__hidden_layer_sizes']\n",
    "    q = params['descriptor_builder__q']\n",
    "    results.append([q, str(structure), alpha, mean_score, score_sd, mean_fit_time, time_sd])\n",
    "\n",
    "results_df = pd.DataFrame(results)\n",
    "results_df.columns = ['q' ,'structure', 'c', 'mean_score', 'score_sd', 'mean_time', 'time_sd']\n",
    "results_df"
   ]
  },
  {
   "cell_type": "markdown",
   "metadata": {},
   "source": [
    "Show the results a $\\LaTeX$ table. For this, use `get_latex_table` and `mean_sd_merge` from `util`."
   ]
  },
  {
   "cell_type": "code",
   "execution_count": null,
   "metadata": {
    "ExecuteTime": {
     "end_time": "2020-09-24T00:07:22.969538Z",
     "start_time": "2020-09-24T00:07:22.842555Z"
    }
   },
   "outputs": [],
   "source": [
    "# Define the columns by which to sort the table\n",
    "sort_by = ['q', 'structure', 'c']\n",
    "\n",
    "# Define how to merge the means and standard deviations of the score and time\n",
    "merge_instructions = [{'merge_function' : util.mean_sd_merge, 'new_column' : 'accuracy',\n",
    "                       'columns_to_merge' : ['mean_score', 'score_sd']},\n",
    "                      {'merge_function' : util.mean_sd_merge, 'new_column' : 'time',\n",
    "                       'columns_to_merge' : ['mean_time', 'time_sd']}\n",
    "                     ]\n",
    "\n",
    "# Define how to rename the columns (leave None if no renaming is needed)\n",
    "renamer = None\n",
    "\n",
    "# Define the table's caption and label, as well as the format for the floats\n",
    "caption = 'Cross-validation results for the descriptor-based neural networks'\n",
    "label = 'tab:cv_dbnn'\n",
    "float_format = '$%.3f$'\n",
    "\n",
    "# Get the latex source\n",
    "latex = util.get_latex_table(results_df, sort_by=sort_by, merge_instructions=merge_instructions, renamer=renamer,\n",
    "                        caption=caption, label=label, float_format=float_format)\n",
    "# Show it\n",
    "print(latex)"
   ]
  },
  {
   "cell_type": "code",
   "execution_count": null,
   "metadata": {
    "ExecuteTime": {
     "end_time": "2020-09-24T00:07:23.513697Z",
     "start_time": "2020-09-24T00:07:23.505337Z"
    }
   },
   "outputs": [],
   "source": [
    "# Save the raw results and their dataframe\n",
    "dbnn_storage['results']['cv'] = grid.cv_results_\n",
    "dbnn_storage['reports']['cv'] = {'df' : results_df, 'latex' : latex}"
   ]
  },
  {
   "cell_type": "markdown",
   "metadata": {},
   "source": [
    "## Check if the Descriptors are Well-formed\n",
    "\n",
    "Check importance of the features that the descriptors consist of. Use the set $\\mathcal{B}$ and the `Boruta` algorithm to do so.\n",
    "\n",
    "Define a function to perform all the steps in the `dbnn` pipeline save for making actual predictions with the neural network."
   ]
  },
  {
   "cell_type": "code",
   "execution_count": 14,
   "metadata": {
    "ExecuteTime": {
     "end_time": "2020-09-24T06:57:58.196199Z",
     "start_time": "2020-09-24T06:57:58.190894Z"
    }
   },
   "outputs": [],
   "source": [
    "def prepare_input(X, dbnn_pipe):\n",
    "    X = dbnn_pipe['descriptor_builder'].transform(X)\n",
    "    X = dbnn_pipe['scaler'].transform(X)\n",
    "    X = dbnn_pipe['imputer'].transform(X)\n",
    "    \n",
    "    return X"
   ]
  },
  {
   "cell_type": "markdown",
   "metadata": {},
   "source": [
    "Run the `Boruta` algorithm on the set $\\mathcal{B}$."
   ]
  },
  {
   "cell_type": "code",
   "execution_count": 15,
   "metadata": {
    "ExecuteTime": {
     "end_time": "2020-09-24T06:58:16.824103Z",
     "start_time": "2020-09-24T06:58:01.149924Z"
    }
   },
   "outputs": [
    {
     "name": "stderr",
     "output_type": "stream",
     "text": [
      "/home/milos/statisticka_klasifikacija/p3/lib/python3.6/site-packages/ipykernel_launcher.py:18: RuntimeWarning: invalid value encountered in double_scalars\n"
     ]
    },
    {
     "name": "stdout",
     "output_type": "stream",
     "text": [
      "Iteration: 1 / 50\n",
      "Iteration: 2 / 50\n",
      "Iteration: 3 / 50\n",
      "Iteration: 4 / 50\n",
      "Iteration: 5 / 50\n",
      "Iteration: 6 / 50\n",
      "Iteration: 7 / 50\n",
      "Iteration: 8 / 50\n",
      "\n",
      "\n",
      "BorutaPy finished running.\n",
      "\n",
      "Iteration: \t9 / 50\n",
      "Confirmed: \t16\n",
      "Tentative: \t0\n",
      "Rejected: \t0\n"
     ]
    },
    {
     "data": {
      "text/plain": [
       "BorutaPy(estimator=RandomForestClassifier(class_weight='balanced', max_depth=5,\n",
       "                                          n_estimators=113, n_jobs=-1,\n",
       "                                          random_state=RandomState(MT19937) at 0x7FA8108F9360),\n",
       "         max_iter=50, n_estimators='auto', perc=85,\n",
       "         random_state=RandomState(MT19937) at 0x7FA8108F9360, verbose=1)"
      ]
     },
     "execution_count": 15,
     "metadata": {},
     "output_type": "execute_result"
    }
   ],
   "source": [
    "# Prepare the set B\n",
    "set_B = datasets['B']['samples']\n",
    "labels = datasets['B']['labels']\n",
    "prepared_input = prepare_input(set_B, dbnn)\n",
    "\n",
    "# Define a random forest for the Boruta selection algorithm\n",
    "random_forest = RandomForestClassifier(n_jobs=-1, class_weight='balanced', max_depth=5)\n",
    "\n",
    "# Configure the Boruta algorithm...\n",
    "boruta_selector = boruta.BorutaPy(random_forest,\n",
    "                                  n_estimators='auto',\n",
    "                                  verbose=1,\n",
    "                                  max_iter=50,\n",
    "                                  perc=85,\n",
    "                                  alpha=0.05)\n",
    "# ... and run it.\n",
    "boruta_selector.fit(prepared_input, labels)"
   ]
  },
  {
   "cell_type": "markdown",
   "metadata": {},
   "source": [
    "Show the selected features."
   ]
  },
  {
   "cell_type": "code",
   "execution_count": 16,
   "metadata": {
    "ExecuteTime": {
     "end_time": "2020-09-24T06:58:16.840381Z",
     "start_time": "2020-09-24T06:58:16.830549Z"
    }
   },
   "outputs": [
    {
     "name": "stdout",
     "output_type": "stream",
     "text": [
      "['q0.10', 'q0.20', 'q0.30', 'q0.40', 'q0.50', 'q0.60', 'q0.70', 'q0.80', 'q0.90', 'q1.00', 'n', 'mean', 'sd', 'minimum', 'maximum', 'median']\n"
     ]
    }
   ],
   "source": [
    "selected_indices = np.where(boruta_selector.support_ == True)[0]\n",
    "selected_features = [dbnn['descriptor_builder'].features[i] for i in selected_indices]\n",
    "print(selected_features)"
   ]
  },
  {
   "cell_type": "markdown",
   "metadata": {},
   "source": [
    "We see that no features were rejected. Now, check which ones were accepted and about which the algorithm was undecisive and were tentatively kept."
   ]
  },
  {
   "cell_type": "code",
   "execution_count": 17,
   "metadata": {
    "ExecuteTime": {
     "end_time": "2020-09-24T06:58:24.115493Z",
     "start_time": "2020-09-24T06:58:24.108488Z"
    }
   },
   "outputs": [
    {
     "name": "stdout",
     "output_type": "stream",
     "text": [
      "Accepted features: ['q0.10', 'q0.20', 'q0.30', 'q0.40', 'q0.50', 'q0.60', 'q0.70', 'q0.80', 'q0.90', 'q1.00', 'n', 'mean', 'sd', 'minimum', 'maximum', 'median']\n",
      "Tentative features: []\n",
      "Rejected features: []\n"
     ]
    }
   ],
   "source": [
    "accepted_indices = np.where(boruta_selector.ranking_ == 1)[0]\n",
    "print('Accepted features:', [dbnn['descriptor_builder'].features[i] for i in accepted_indices])\n",
    "\n",
    "tentative_indices = np.where(boruta_selector.ranking_ == 2)[0]\n",
    "print('Tentative features:', [dbnn['descriptor_builder'].features[i] for i in tentative_indices])\n",
    "\n",
    "rejected_indices = np.where(boruta_selector.ranking_ == 3)[0]\n",
    "print('Rejected features:', [dbnn['descriptor_builder'].features[i] for i in rejected_indices])"
   ]
  },
  {
   "cell_type": "markdown",
   "metadata": {},
   "source": [
    "## Check Calibration\n",
    "\n",
    "Check if the network is well-calibrated.\n",
    "\n",
    "Create a dataframe consisting of the network's predictes probabilities and actual labels of the samples in the set $\\mathcal{D}$."
   ]
  },
  {
   "cell_type": "code",
   "execution_count": 18,
   "metadata": {
    "ExecuteTime": {
     "end_time": "2020-09-24T06:58:30.707285Z",
     "start_time": "2020-09-24T06:58:25.830128Z"
    }
   },
   "outputs": [
    {
     "name": "stderr",
     "output_type": "stream",
     "text": [
      "/home/milos/statisticka_klasifikacija/p3/lib/python3.6/site-packages/ipykernel_launcher.py:18: RuntimeWarning: invalid value encountered in double_scalars\n"
     ]
    },
    {
     "data": {
      "text/html": [
       "<div>\n",
       "<style scoped>\n",
       "    .dataframe tbody tr th:only-of-type {\n",
       "        vertical-align: middle;\n",
       "    }\n",
       "\n",
       "    .dataframe tbody tr th {\n",
       "        vertical-align: top;\n",
       "    }\n",
       "\n",
       "    .dataframe thead th {\n",
       "        text-align: right;\n",
       "    }\n",
       "</style>\n",
       "<table border=\"1\" class=\"dataframe\">\n",
       "  <thead>\n",
       "    <tr style=\"text-align: right;\">\n",
       "      <th></th>\n",
       "      <th>nonnormal_prob</th>\n",
       "      <th>normal_prob</th>\n",
       "      <th>actual_label</th>\n",
       "      <th>n</th>\n",
       "    </tr>\n",
       "  </thead>\n",
       "  <tbody>\n",
       "    <tr>\n",
       "      <th>0</th>\n",
       "      <td>0.008306</td>\n",
       "      <td>9.916939e-01</td>\n",
       "      <td>1</td>\n",
       "      <td>10</td>\n",
       "    </tr>\n",
       "    <tr>\n",
       "      <th>1</th>\n",
       "      <td>0.162478</td>\n",
       "      <td>8.375220e-01</td>\n",
       "      <td>1</td>\n",
       "      <td>10</td>\n",
       "    </tr>\n",
       "    <tr>\n",
       "      <th>2</th>\n",
       "      <td>0.004214</td>\n",
       "      <td>9.957859e-01</td>\n",
       "      <td>1</td>\n",
       "      <td>10</td>\n",
       "    </tr>\n",
       "    <tr>\n",
       "      <th>3</th>\n",
       "      <td>0.002766</td>\n",
       "      <td>9.972342e-01</td>\n",
       "      <td>1</td>\n",
       "      <td>10</td>\n",
       "    </tr>\n",
       "    <tr>\n",
       "      <th>4</th>\n",
       "      <td>0.000015</td>\n",
       "      <td>9.999848e-01</td>\n",
       "      <td>1</td>\n",
       "      <td>10</td>\n",
       "    </tr>\n",
       "    <tr>\n",
       "      <th>...</th>\n",
       "      <td>...</td>\n",
       "      <td>...</td>\n",
       "      <td>...</td>\n",
       "      <td>...</td>\n",
       "    </tr>\n",
       "    <tr>\n",
       "      <th>26095</th>\n",
       "      <td>1.000000</td>\n",
       "      <td>1.961177e-07</td>\n",
       "      <td>0</td>\n",
       "      <td>100</td>\n",
       "    </tr>\n",
       "    <tr>\n",
       "      <th>26096</th>\n",
       "      <td>1.000000</td>\n",
       "      <td>3.125910e-07</td>\n",
       "      <td>0</td>\n",
       "      <td>100</td>\n",
       "    </tr>\n",
       "    <tr>\n",
       "      <th>26097</th>\n",
       "      <td>1.000000</td>\n",
       "      <td>6.532131e-08</td>\n",
       "      <td>0</td>\n",
       "      <td>100</td>\n",
       "    </tr>\n",
       "    <tr>\n",
       "      <th>26098</th>\n",
       "      <td>1.000000</td>\n",
       "      <td>1.091821e-08</td>\n",
       "      <td>0</td>\n",
       "      <td>100</td>\n",
       "    </tr>\n",
       "    <tr>\n",
       "      <th>26099</th>\n",
       "      <td>0.999999</td>\n",
       "      <td>1.036166e-06</td>\n",
       "      <td>0</td>\n",
       "      <td>100</td>\n",
       "    </tr>\n",
       "  </tbody>\n",
       "</table>\n",
       "<p>26100 rows × 4 columns</p>\n",
       "</div>"
      ],
      "text/plain": [
       "       nonnormal_prob   normal_prob  actual_label    n\n",
       "0            0.008306  9.916939e-01             1   10\n",
       "1            0.162478  8.375220e-01             1   10\n",
       "2            0.004214  9.957859e-01             1   10\n",
       "3            0.002766  9.972342e-01             1   10\n",
       "4            0.000015  9.999848e-01             1   10\n",
       "...               ...           ...           ...  ...\n",
       "26095        1.000000  1.961177e-07             0  100\n",
       "26096        1.000000  3.125910e-07             0  100\n",
       "26097        1.000000  6.532131e-08             0  100\n",
       "26098        1.000000  1.091821e-08             0  100\n",
       "26099        0.999999  1.036166e-06             0  100\n",
       "\n",
       "[26100 rows x 4 columns]"
      ]
     },
     "execution_count": 18,
     "metadata": {},
     "output_type": "execute_result"
    }
   ],
   "source": [
    "set_D = prepare_input(datasets['D']['samples'], dbnn)\n",
    "\n",
    "probabilities = dbnn['neural_net'].predict_proba(set_D)\n",
    "results_D = pd.DataFrame({'nonnormal_prob' : probabilities[:, 0],\n",
    "                          'normal_prob' : probabilities[:, 1],\n",
    "                          'actual_label' : [int(label) for label in datasets['D']['labels']],\n",
    "                          #'predicted_label' : [int(label) for label in dbnn['neural_net'].predict(X)],\n",
    "                          'n' : [len(sample) for sample in datasets['D']['samples']],\n",
    "                         })\n",
    "results_D"
   ]
  },
  {
   "cell_type": "markdown",
   "metadata": {},
   "source": [
    "To check for calibration, partition the probabilities into equal-sized bins and compare the proportions of the predicted normal samples with those of the actual normal samples in all the bins.\n",
    "\n",
    "First, define some utility functions."
   ]
  },
  {
   "cell_type": "code",
   "execution_count": 19,
   "metadata": {
    "ExecuteTime": {
     "end_time": "2020-09-24T06:58:30.731209Z",
     "start_time": "2020-09-24T06:58:30.712290Z"
    }
   },
   "outputs": [],
   "source": [
    "def find_bin_index(x, bins):\n",
    "    for i in range(len(bins)):\n",
    "        (left, right) = bins[i]\n",
    "        if left <= x <= right:\n",
    "            return i\n",
    "\n",
    "def determine_predicted_proportions(df, bins):\n",
    "    df['bin'] = df['normal_prob'].apply(lambda x: find_bin_index(x, bins))\n",
    "    df['one'] = 1\n",
    "    \n",
    "    by_predicted = df[['bin', 'normal_prob']].groupby(by='bin').agg('mean')\n",
    "    predicted_proportions = by_predicted['normal_prob'].values\n",
    "\n",
    "    \n",
    "    return list(predicted_proportions)\n",
    "\n",
    "def determine_actual_proportions(df, bins):\n",
    "    df['bin'] = df['normal_prob'].apply(lambda x: find_bin_index(x, bins))\n",
    "    df['one'] = 1\n",
    "    \n",
    "    bin_sums = df[['bin', 'one']].groupby(by='bin').agg('sum')\n",
    "    \n",
    "    by_actual = df[['bin', 'actual_label', 'one']].groupby(by=['actual_label', 'bin'])\n",
    "    by_actual = by_actual.agg('count')\n",
    "\n",
    "    #for i in range(len(bins)):\n",
    "    #    if i not in bin_sums.index:\n",
    "    #        bin_sums.loc[i, 'one'] = 1\n",
    "    #        by_actual.loc[(1, i), 'one'] = 0\n",
    "    \n",
    "    actual_proportions=(by_actual / bin_sums).pipe(pd.DataFrame).loc[(1,)]['one'].values\n",
    "    \n",
    "    return list(actual_proportions)"
   ]
  },
  {
   "cell_type": "markdown",
   "metadata": {},
   "source": [
    "Now, define the bins and visualize the calibration plots."
   ]
  },
  {
   "cell_type": "code",
   "execution_count": 20,
   "metadata": {
    "ExecuteTime": {
     "end_time": "2020-09-24T06:58:45.754914Z",
     "start_time": "2020-09-24T06:58:45.141730Z"
    },
    "scrolled": false
   },
   "outputs": [
    {
     "data": {
      "image/png": "[encoded data removed]",
      "text/plain": [
       "<Figure size 576x360 with 1 Axes>"
      ]
     },
     "metadata": {
      "needs_background": "light"
     },
     "output_type": "display_data"
    }
   ],
   "source": [
    "n_bins = 10\n",
    "bin_size = 1.0 / n_bins\n",
    "bins = [((i - 1) * bin_size, i * bin_size) for i in range(1, n_bins + 1)]\n",
    "\n",
    "predicted = determine_predicted_proportions(results_D, bins)\n",
    "actual = determine_actual_proportions(results_D, bins)\n",
    "\n",
    "fig = plt.figure(figsize=(8,5))\n",
    "plt.plot(predicted, actual, color='navy', label='DBNN', linewidth=3)\n",
    "plt.plot(np.linspace(0, 1, 100), np.linspace(0, 1, 100), linestyle='--', linewidth=3,\n",
    "         color='crimson', label='Perfectly calibrated classifier')\n",
    "plt.legend(fontsize=13)\n",
    "\n",
    "dbnn_storage['reports']['evaluation']['calibration'] = {'fig' : fig}\n",
    "\n",
    "#for n in configuration['data']['datasets']['D']['n_range']:\n",
    "#    results_subframe = results_D[results_D['n'] == n].copy()\n",
    "#    \n",
    "#    predicted = determine_predicted_proportions(results_subframe, bins)\n",
    "#    actual = determine_actual_proportions(results_subframe, bins)\n",
    "#    fig = plt.figure(figsize=(8,5))\n",
    "#    plt.plot(predicted, actual, color='navy', label='DBNN')\n",
    "#    plt.plot(np.linspace(0, 1, 100), np.linspace(0, 1, 100), linestyle='--',\n",
    "#             color='crimson', label='Потпуно калибрисан класификатор')\n",
    "#    #plt.title('$n={}$'.format(n))\n",
    "#    plt.legend(fontsize=13)#\n",
    "#\n",
    "#    dbnn_storage['reports']['evaluation']['calibration']['fig_{}'.format(n)] = fig"
   ]
  },
  {
   "cell_type": "markdown",
   "metadata": {},
   "source": [
    "Present the variance by sampling from the dataset and vizualizing the calibration functions determined using the subsets. Plot the mean calibration function and check if it is close to the graph of the identity function, which represents a well-calibrated classifiers. Check if the sampled graphs capture that of the identity function."
   ]
  },
  {
   "cell_type": "code",
   "execution_count": 21,
   "metadata": {
    "ExecuteTime": {
     "end_time": "2020-09-24T06:58:51.564912Z",
     "start_time": "2020-09-24T06:58:48.051857Z"
    }
   },
   "outputs": [
    {
     "data": {
      "image/png": "[encoded data removed]",
      "text/plain": [
       "<Figure size 576x360 with 1 Axes>"
      ]
     },
     "metadata": {
      "needs_background": "light"
     },
     "output_type": "display_data"
    }
   ],
   "source": [
    "predicted_array = []\n",
    "actual_array = []\n",
    "for j in range(100):\n",
    "    subset = results_D.sample(n=1000)\n",
    "    proportions = determine_predicted_proportions(subset, bins)\n",
    "    #random_bins = draw_random_bins(max_size=0.2)\n",
    "    \n",
    "    actual = determine_actual_proportions(subset, bins)\n",
    "    #actual_array.append(actual)\n",
    "    \n",
    "    predicted = determine_predicted_proportions(results_D, bins)\n",
    "    #predicted_array.append(predicted)\n",
    "    \n",
    "    if len(actual) == len(predicted):\n",
    "        actual_array.append(actual)\n",
    "        predicted_array.append(predicted)\n",
    "    \n",
    "mean_predicted_proportions = pd.DataFrame(predicted_array).mean().values\n",
    "mean_actual_proportions = pd.DataFrame(actual_array).mean().values\n",
    "\n",
    "fig = plt.figure(figsize=(8, 5))\n",
    "\n",
    "plt.plot(np.linspace(0, 1, 100), np.linspace(0, 1, 100), linestyle='--',\n",
    "         color='crimson', label='Perfectly calibrated classifier',\n",
    "         zorder=3, linewidth=3)\n",
    "\n",
    "plt.plot(mean_predicted_proportions, mean_actual_proportions, color='navy', \n",
    "         zorder=2, linewidth=3, label='DBNN')\n",
    "\n",
    "for predicted, actual in zip(predicted_array, actual_array):\n",
    "    plt.plot(predicted, actual, color='lavender', zorder=1, alpha=1)\n",
    "\n",
    "plt.legend(fontsize=12)\n",
    "\n",
    "dbnn_storage['reports']['evaluation']['calibration']['mean_fig'] = fig"
   ]
  },
  {
   "cell_type": "markdown",
   "metadata": {},
   "source": [
    "## Evaluate Classification Performance\n",
    "\n",
    "Use the function `evaluate_pretty` from `util`. It can calculate the following metrics: accuracy, true positive rate, positive predictive value, F1 score, true negative rate, and negative predictive value (see [this Wikipedia article](https://en.wikipedia.org/wiki/Confusion_matrix) for definitions) for the whole set and by each sample size, returning the results as a nicely formatted `pandas` dataframe."
   ]
  },
  {
   "cell_type": "markdown",
   "metadata": {},
   "source": [
    "### Performance on the Set $\\mathcal{A}_{test}$\n",
    "\n",
    "Calculate and inspect the performance scores."
   ]
  },
  {
   "cell_type": "code",
   "execution_count": 22,
   "metadata": {
    "ExecuteTime": {
     "end_time": "2020-09-24T06:59:04.040262Z",
     "start_time": "2020-09-24T06:59:01.939751Z"
    }
   },
   "outputs": [
    {
     "data": {
      "text/html": [
       "<div>\n",
       "<style scoped>\n",
       "    .dataframe tbody tr th:only-of-type {\n",
       "        vertical-align: middle;\n",
       "    }\n",
       "\n",
       "    .dataframe tbody tr th {\n",
       "        vertical-align: top;\n",
       "    }\n",
       "\n",
       "    .dataframe thead th {\n",
       "        text-align: right;\n",
       "    }\n",
       "</style>\n",
       "<table border=\"1\" class=\"dataframe\">\n",
       "  <thead>\n",
       "    <tr style=\"text-align: right;\">\n",
       "      <th></th>\n",
       "      <th>A</th>\n",
       "      <th>TPR</th>\n",
       "      <th>PPV</th>\n",
       "      <th>TNR</th>\n",
       "      <th>NPV</th>\n",
       "      <th>F1</th>\n",
       "      <th>AUROC</th>\n",
       "      <th>UR</th>\n",
       "    </tr>\n",
       "    <tr>\n",
       "      <th>n</th>\n",
       "      <th></th>\n",
       "      <th></th>\n",
       "      <th></th>\n",
       "      <th></th>\n",
       "      <th></th>\n",
       "      <th></th>\n",
       "      <th></th>\n",
       "      <th></th>\n",
       "    </tr>\n",
       "  </thead>\n",
       "  <tbody>\n",
       "    <tr>\n",
       "      <th>10</th>\n",
       "      <td>0.835249</td>\n",
       "      <td>0.765306</td>\n",
       "      <td>0.890208</td>\n",
       "      <td>0.905371</td>\n",
       "      <td>0.793722</td>\n",
       "      <td>0.823045</td>\n",
       "      <td>0.910623</td>\n",
       "      <td>0.0</td>\n",
       "    </tr>\n",
       "    <tr>\n",
       "      <th>20</th>\n",
       "      <td>0.890166</td>\n",
       "      <td>0.834184</td>\n",
       "      <td>0.939655</td>\n",
       "      <td>0.946292</td>\n",
       "      <td>0.850575</td>\n",
       "      <td>0.883784</td>\n",
       "      <td>0.958218</td>\n",
       "      <td>0.0</td>\n",
       "    </tr>\n",
       "    <tr>\n",
       "      <th>30</th>\n",
       "      <td>0.899106</td>\n",
       "      <td>0.867008</td>\n",
       "      <td>0.926230</td>\n",
       "      <td>0.931122</td>\n",
       "      <td>0.875300</td>\n",
       "      <td>0.895641</td>\n",
       "      <td>0.971371</td>\n",
       "      <td>0.0</td>\n",
       "    </tr>\n",
       "    <tr>\n",
       "      <th>40</th>\n",
       "      <td>0.888747</td>\n",
       "      <td>0.828645</td>\n",
       "      <td>0.941860</td>\n",
       "      <td>0.948849</td>\n",
       "      <td>0.847032</td>\n",
       "      <td>0.881633</td>\n",
       "      <td>0.971475</td>\n",
       "      <td>0.0</td>\n",
       "    </tr>\n",
       "    <tr>\n",
       "      <th>50</th>\n",
       "      <td>0.896684</td>\n",
       "      <td>0.839286</td>\n",
       "      <td>0.948127</td>\n",
       "      <td>0.954082</td>\n",
       "      <td>0.855835</td>\n",
       "      <td>0.890392</td>\n",
       "      <td>0.977587</td>\n",
       "      <td>0.0</td>\n",
       "    </tr>\n",
       "    <tr>\n",
       "      <th>60</th>\n",
       "      <td>0.914432</td>\n",
       "      <td>0.849105</td>\n",
       "      <td>0.976471</td>\n",
       "      <td>0.979592</td>\n",
       "      <td>0.866817</td>\n",
       "      <td>0.908345</td>\n",
       "      <td>0.983643</td>\n",
       "      <td>0.0</td>\n",
       "    </tr>\n",
       "    <tr>\n",
       "      <th>70</th>\n",
       "      <td>0.907928</td>\n",
       "      <td>0.895141</td>\n",
       "      <td>0.918635</td>\n",
       "      <td>0.920716</td>\n",
       "      <td>0.897756</td>\n",
       "      <td>0.906736</td>\n",
       "      <td>0.979409</td>\n",
       "      <td>0.0</td>\n",
       "    </tr>\n",
       "    <tr>\n",
       "      <th>80</th>\n",
       "      <td>0.920918</td>\n",
       "      <td>0.892857</td>\n",
       "      <td>0.945946</td>\n",
       "      <td>0.948980</td>\n",
       "      <td>0.898551</td>\n",
       "      <td>0.918635</td>\n",
       "      <td>0.985032</td>\n",
       "      <td>0.0</td>\n",
       "    </tr>\n",
       "    <tr>\n",
       "      <th>90</th>\n",
       "      <td>0.939974</td>\n",
       "      <td>0.907928</td>\n",
       "      <td>0.969945</td>\n",
       "      <td>0.971939</td>\n",
       "      <td>0.913669</td>\n",
       "      <td>0.937913</td>\n",
       "      <td>0.990951</td>\n",
       "      <td>0.0</td>\n",
       "    </tr>\n",
       "    <tr>\n",
       "      <th>100</th>\n",
       "      <td>0.933589</td>\n",
       "      <td>0.903061</td>\n",
       "      <td>0.961957</td>\n",
       "      <td>0.964194</td>\n",
       "      <td>0.908434</td>\n",
       "      <td>0.931579</td>\n",
       "      <td>0.989267</td>\n",
       "      <td>0.0</td>\n",
       "    </tr>\n",
       "    <tr>\n",
       "      <th>overall</th>\n",
       "      <td>0.902682</td>\n",
       "      <td>0.858238</td>\n",
       "      <td>0.941968</td>\n",
       "      <td>0.947126</td>\n",
       "      <td>0.869810</td>\n",
       "      <td>0.898156</td>\n",
       "      <td>0.974391</td>\n",
       "      <td>0.0</td>\n",
       "    </tr>\n",
       "  </tbody>\n",
       "</table>\n",
       "</div>"
      ],
      "text/plain": [
       "                A       TPR       PPV       TNR       NPV        F1     AUROC  \\\n",
       "n                                                                               \n",
       "10       0.835249  0.765306  0.890208  0.905371  0.793722  0.823045  0.910623   \n",
       "20       0.890166  0.834184  0.939655  0.946292  0.850575  0.883784  0.958218   \n",
       "30       0.899106  0.867008  0.926230  0.931122  0.875300  0.895641  0.971371   \n",
       "40       0.888747  0.828645  0.941860  0.948849  0.847032  0.881633  0.971475   \n",
       "50       0.896684  0.839286  0.948127  0.954082  0.855835  0.890392  0.977587   \n",
       "60       0.914432  0.849105  0.976471  0.979592  0.866817  0.908345  0.983643   \n",
       "70       0.907928  0.895141  0.918635  0.920716  0.897756  0.906736  0.979409   \n",
       "80       0.920918  0.892857  0.945946  0.948980  0.898551  0.918635  0.985032   \n",
       "90       0.939974  0.907928  0.969945  0.971939  0.913669  0.937913  0.990951   \n",
       "100      0.933589  0.903061  0.961957  0.964194  0.908434  0.931579  0.989267   \n",
       "overall  0.902682  0.858238  0.941968  0.947126  0.869810  0.898156  0.974391   \n",
       "\n",
       "          UR  \n",
       "n             \n",
       "10       0.0  \n",
       "20       0.0  \n",
       "30       0.0  \n",
       "40       0.0  \n",
       "50       0.0  \n",
       "60       0.0  \n",
       "70       0.0  \n",
       "80       0.0  \n",
       "90       0.0  \n",
       "100      0.0  \n",
       "overall  0.0  "
      ]
     },
     "metadata": {},
     "output_type": "display_data"
    },
    {
     "name": "stdout",
     "output_type": "stream",
     "text": [
      "\\begin{table}\n",
      "\\centering\n",
      "\\caption{A}\n",
      "\\label{a}\n",
      "\\begin{tabular}{lrrrrrrrr}\n",
      "\\toprule\n",
      "{} &       A &     TPR &     PPV &     TNR &     NPV &      F1 &   AUROC &      UR \\\\\n",
      "n       &         &         &         &         &         &         &         &         \\\\\n",
      "\\midrule\n",
      "10      & $0.835$ & $0.765$ & $0.890$ & $0.905$ & $0.794$ & $0.823$ & $0.911$ & $0.000$ \\\\\n",
      "20      & $0.890$ & $0.834$ & $0.940$ & $0.946$ & $0.851$ & $0.884$ & $0.958$ & $0.000$ \\\\\n",
      "30      & $0.899$ & $0.867$ & $0.926$ & $0.931$ & $0.875$ & $0.896$ & $0.971$ & $0.000$ \\\\\n",
      "40      & $0.889$ & $0.829$ & $0.942$ & $0.949$ & $0.847$ & $0.882$ & $0.971$ & $0.000$ \\\\\n",
      "50      & $0.897$ & $0.839$ & $0.948$ & $0.954$ & $0.856$ & $0.890$ & $0.978$ & $0.000$ \\\\\n",
      "60      & $0.914$ & $0.849$ & $0.976$ & $0.980$ & $0.867$ & $0.908$ & $0.984$ & $0.000$ \\\\\n",
      "70      & $0.908$ & $0.895$ & $0.919$ & $0.921$ & $0.898$ & $0.907$ & $0.979$ & $0.000$ \\\\\n",
      "80      & $0.921$ & $0.893$ & $0.946$ & $0.949$ & $0.899$ & $0.919$ & $0.985$ & $0.000$ \\\\\n",
      "90      & $0.940$ & $0.908$ & $0.970$ & $0.972$ & $0.914$ & $0.938$ & $0.991$ & $0.000$ \\\\\n",
      "100     & $0.934$ & $0.903$ & $0.962$ & $0.964$ & $0.908$ & $0.932$ & $0.989$ & $0.000$ \\\\\n",
      "overall & $0.903$ & $0.858$ & $0.942$ & $0.947$ & $0.870$ & $0.898$ & $0.974$ & $0.000$ \\\\\n",
      "\\bottomrule\n",
      "\\end{tabular}\n",
      "\\end{table}\n",
      "\n"
     ]
    }
   ],
   "source": [
    "#import importlib\n",
    "#importlib.reload(util)\n",
    "\n",
    "n_range = configuration['data']['datasets']['A']['n_range']\n",
    "metrics = ['A', 'TPR', 'PPV', 'TNR', 'NPV', 'F1', 'AUROC', 'UR']\n",
    "results_A_test = util.evaluate_pretty(set_A_test, y_test, dbnn,\n",
    "                                      n_range=n_range, index='n', metrics=metrics)\n",
    "\n",
    "#(A_test_results1.set_index('n', drop=True) - A_test_results.set_index('n', drop=True))#.lt(0).sum()\n",
    "dbnn_storage['results']['evaluation']['A_test'] = results_A_test\n",
    "\n",
    "latex = util.get_latex_table(results_A_test, index=True, caption='A', label='a')\n",
    "dbnn_storage['reports']['evaluation']['A_test'] = {'df' : results_A_test, 'latex' : latex}\n",
    "\n",
    "display(results_A_test)\n",
    "print(latex)"
   ]
  },
  {
   "cell_type": "markdown",
   "metadata": {},
   "source": [
    "Visualize the results."
   ]
  },
  {
   "cell_type": "code",
   "execution_count": 23,
   "metadata": {
    "ExecuteTime": {
     "end_time": "2020-09-24T06:59:06.633699Z",
     "start_time": "2020-09-24T06:59:05.537982Z"
    }
   },
   "outputs": [
    {
     "data": {
      "text/plain": [
       "<AxesSubplot:xlabel='n'>"
      ]
     },
     "execution_count": 23,
     "metadata": {},
     "output_type": "execute_result"
    },
    {
     "data": {
      "image/png": "[encoded data removed]",
      "text/plain": [
       "<Figure size 720x504 with 1 Axes>"
      ]
     },
     "metadata": {
      "needs_background": "light"
     },
     "output_type": "display_data"
    }
   ],
   "source": [
    "# Create a matplotlib figure\n",
    "metrics = ['TPR', 'PPV', 'NPV', 'TNR']\n",
    "mask = results_A_test.index != 'overall'\n",
    "df_to_plot = results_A_test[mask][metrics]\n",
    "\n",
    "fig = df_to_plot.plot(kind='line', linewidth=3, style=['--', '-.', '-', ':'],\n",
    "                      cmap=plt.get_cmap('coolwarm'),\n",
    "                      figsize=(10,7), use_index=True)\n",
    "plt.ylim(0, 1)\n",
    "plt.legend(fontsize=13)\n",
    "\n",
    "# Store it...\n",
    "dbnn_storage['reports']['evaluation']['A_test']['fig'] = fig\n",
    "\n",
    "# ... and show it.\n",
    "fig"
   ]
  },
  {
   "cell_type": "markdown",
   "metadata": {},
   "source": [
    "### Performance on the Set $\\mathcal{B}$\n",
    "\n",
    "Calculate and inspect the results."
   ]
  },
  {
   "cell_type": "code",
   "execution_count": 24,
   "metadata": {
    "ExecuteTime": {
     "end_time": "2020-09-24T06:59:14.100445Z",
     "start_time": "2020-09-24T06:59:07.100349Z"
    }
   },
   "outputs": [
    {
     "name": "stderr",
     "output_type": "stream",
     "text": [
      "/home/milos/statisticka_klasifikacija/p3/lib/python3.6/site-packages/ipykernel_launcher.py:18: RuntimeWarning: invalid value encountered in double_scalars\n",
      "/home/milos/statisticka_klasifikacija/p3/lib/python3.6/site-packages/ipykernel_launcher.py:18: RuntimeWarning: invalid value encountered in double_scalars\n"
     ]
    },
    {
     "data": {
      "text/html": [
       "<div>\n",
       "<style scoped>\n",
       "    .dataframe tbody tr th:only-of-type {\n",
       "        vertical-align: middle;\n",
       "    }\n",
       "\n",
       "    .dataframe tbody tr th {\n",
       "        vertical-align: top;\n",
       "    }\n",
       "\n",
       "    .dataframe thead th {\n",
       "        text-align: right;\n",
       "    }\n",
       "</style>\n",
       "<table border=\"1\" class=\"dataframe\">\n",
       "  <thead>\n",
       "    <tr style=\"text-align: right;\">\n",
       "      <th></th>\n",
       "      <th>A</th>\n",
       "      <th>TPR</th>\n",
       "      <th>PPV</th>\n",
       "      <th>TNR</th>\n",
       "      <th>NPV</th>\n",
       "      <th>F1</th>\n",
       "      <th>AUROC</th>\n",
       "    </tr>\n",
       "    <tr>\n",
       "      <th>n</th>\n",
       "      <th></th>\n",
       "      <th></th>\n",
       "      <th></th>\n",
       "      <th></th>\n",
       "      <th></th>\n",
       "      <th></th>\n",
       "      <th></th>\n",
       "    </tr>\n",
       "  </thead>\n",
       "  <tbody>\n",
       "    <tr>\n",
       "      <th>5</th>\n",
       "      <td>0.775479</td>\n",
       "      <td>0.758621</td>\n",
       "      <td>0.785091</td>\n",
       "      <td>0.792337</td>\n",
       "      <td>0.766494</td>\n",
       "      <td>0.771629</td>\n",
       "      <td>0.855737</td>\n",
       "    </tr>\n",
       "    <tr>\n",
       "      <th>15</th>\n",
       "      <td>0.871648</td>\n",
       "      <td>0.798467</td>\n",
       "      <td>0.935368</td>\n",
       "      <td>0.944828</td>\n",
       "      <td>0.824198</td>\n",
       "      <td>0.861513</td>\n",
       "      <td>0.946533</td>\n",
       "    </tr>\n",
       "    <tr>\n",
       "      <th>25</th>\n",
       "      <td>0.877011</td>\n",
       "      <td>0.829885</td>\n",
       "      <td>0.916244</td>\n",
       "      <td>0.924138</td>\n",
       "      <td>0.844538</td>\n",
       "      <td>0.870929</td>\n",
       "      <td>0.957003</td>\n",
       "    </tr>\n",
       "    <tr>\n",
       "      <th>35</th>\n",
       "      <td>0.887739</td>\n",
       "      <td>0.854406</td>\n",
       "      <td>0.915435</td>\n",
       "      <td>0.921073</td>\n",
       "      <td>0.863506</td>\n",
       "      <td>0.883868</td>\n",
       "      <td>0.967113</td>\n",
       "    </tr>\n",
       "    <tr>\n",
       "      <th>45</th>\n",
       "      <td>0.915326</td>\n",
       "      <td>0.892720</td>\n",
       "      <td>0.934992</td>\n",
       "      <td>0.937931</td>\n",
       "      <td>0.897361</td>\n",
       "      <td>0.913367</td>\n",
       "      <td>0.979296</td>\n",
       "    </tr>\n",
       "    <tr>\n",
       "      <th>55</th>\n",
       "      <td>0.925670</td>\n",
       "      <td>0.902682</td>\n",
       "      <td>0.946185</td>\n",
       "      <td>0.948659</td>\n",
       "      <td>0.906960</td>\n",
       "      <td>0.923922</td>\n",
       "      <td>0.982543</td>\n",
       "    </tr>\n",
       "    <tr>\n",
       "      <th>65</th>\n",
       "      <td>0.926054</td>\n",
       "      <td>0.912644</td>\n",
       "      <td>0.937795</td>\n",
       "      <td>0.939464</td>\n",
       "      <td>0.914925</td>\n",
       "      <td>0.925049</td>\n",
       "      <td>0.985679</td>\n",
       "    </tr>\n",
       "    <tr>\n",
       "      <th>75</th>\n",
       "      <td>0.920307</td>\n",
       "      <td>0.898851</td>\n",
       "      <td>0.939151</td>\n",
       "      <td>0.941762</td>\n",
       "      <td>0.903012</td>\n",
       "      <td>0.918559</td>\n",
       "      <td>0.984709</td>\n",
       "    </tr>\n",
       "    <tr>\n",
       "      <th>85</th>\n",
       "      <td>0.938697</td>\n",
       "      <td>0.919540</td>\n",
       "      <td>0.956175</td>\n",
       "      <td>0.957854</td>\n",
       "      <td>0.922509</td>\n",
       "      <td>0.937500</td>\n",
       "      <td>0.988978</td>\n",
       "    </tr>\n",
       "    <tr>\n",
       "      <th>95</th>\n",
       "      <td>0.940613</td>\n",
       "      <td>0.905747</td>\n",
       "      <td>0.973641</td>\n",
       "      <td>0.975479</td>\n",
       "      <td>0.911891</td>\n",
       "      <td>0.938468</td>\n",
       "      <td>0.991088</td>\n",
       "    </tr>\n",
       "    <tr>\n",
       "      <th>overall</th>\n",
       "      <td>0.897854</td>\n",
       "      <td>0.867356</td>\n",
       "      <td>0.923698</td>\n",
       "      <td>0.928352</td>\n",
       "      <td>0.874982</td>\n",
       "      <td>0.894641</td>\n",
       "      <td>0.968807</td>\n",
       "    </tr>\n",
       "  </tbody>\n",
       "</table>\n",
       "</div>"
      ],
      "text/plain": [
       "                A       TPR       PPV       TNR       NPV        F1     AUROC\n",
       "n                                                                            \n",
       "5        0.775479  0.758621  0.785091  0.792337  0.766494  0.771629  0.855737\n",
       "15       0.871648  0.798467  0.935368  0.944828  0.824198  0.861513  0.946533\n",
       "25       0.877011  0.829885  0.916244  0.924138  0.844538  0.870929  0.957003\n",
       "35       0.887739  0.854406  0.915435  0.921073  0.863506  0.883868  0.967113\n",
       "45       0.915326  0.892720  0.934992  0.937931  0.897361  0.913367  0.979296\n",
       "55       0.925670  0.902682  0.946185  0.948659  0.906960  0.923922  0.982543\n",
       "65       0.926054  0.912644  0.937795  0.939464  0.914925  0.925049  0.985679\n",
       "75       0.920307  0.898851  0.939151  0.941762  0.903012  0.918559  0.984709\n",
       "85       0.938697  0.919540  0.956175  0.957854  0.922509  0.937500  0.988978\n",
       "95       0.940613  0.905747  0.973641  0.975479  0.911891  0.938468  0.991088\n",
       "overall  0.897854  0.867356  0.923698  0.928352  0.874982  0.894641  0.968807"
      ]
     },
     "metadata": {},
     "output_type": "display_data"
    },
    {
     "name": "stdout",
     "output_type": "stream",
     "text": [
      "\\begin{tabular}{lrrrrrrr}\n",
      "\\toprule\n",
      "{} &       A &     TPR &     PPV &     TNR &     NPV &      F1 &   AUROC \\\\\n",
      "n       &         &         &         &         &         &         &         \\\\\n",
      "\\midrule\n",
      "5       & $0.775$ & $0.759$ & $0.785$ & $0.792$ & $0.766$ & $0.772$ & $0.856$ \\\\\n",
      "15      & $0.872$ & $0.798$ & $0.935$ & $0.945$ & $0.824$ & $0.862$ & $0.947$ \\\\\n",
      "25      & $0.877$ & $0.830$ & $0.916$ & $0.924$ & $0.845$ & $0.871$ & $0.957$ \\\\\n",
      "35      & $0.888$ & $0.854$ & $0.915$ & $0.921$ & $0.864$ & $0.884$ & $0.967$ \\\\\n",
      "45      & $0.915$ & $0.893$ & $0.935$ & $0.938$ & $0.897$ & $0.913$ & $0.979$ \\\\\n",
      "55      & $0.926$ & $0.903$ & $0.946$ & $0.949$ & $0.907$ & $0.924$ & $0.983$ \\\\\n",
      "65      & $0.926$ & $0.913$ & $0.938$ & $0.939$ & $0.915$ & $0.925$ & $0.986$ \\\\\n",
      "75      & $0.920$ & $0.899$ & $0.939$ & $0.942$ & $0.903$ & $0.919$ & $0.985$ \\\\\n",
      "85      & $0.939$ & $0.920$ & $0.956$ & $0.958$ & $0.923$ & $0.938$ & $0.989$ \\\\\n",
      "95      & $0.941$ & $0.906$ & $0.974$ & $0.975$ & $0.912$ & $0.938$ & $0.991$ \\\\\n",
      "overall & $0.898$ & $0.867$ & $0.924$ & $0.928$ & $0.875$ & $0.895$ & $0.969$ \\\\\n",
      "\\bottomrule\n",
      "\\end{tabular}\n",
      "\n"
     ]
    }
   ],
   "source": [
    "#import importlib\n",
    "#importlib.reload(util)\n",
    "\n",
    "n_range = configuration['data']['datasets']['B']['n_range']\n",
    "\n",
    "results_B = util.evaluate_pretty(datasets['B']['samples'],\n",
    "                                 datasets['B']['labels'], dbnn, n_range=n_range, index='n')\n",
    "\n",
    "latex = util.get_latex_table(results_B, index=True)\n",
    "\n",
    "dbnn_storage['results']['evaluation']['B'] = results_B\n",
    "dbnn_storage['reports']['evaluation']['B'] = {'df' : results_B, 'latex' : latex}\n",
    "\n",
    "display(results_B)\n",
    "print(latex)"
   ]
  },
  {
   "cell_type": "markdown",
   "metadata": {},
   "source": [
    "Plot the results."
   ]
  },
  {
   "cell_type": "code",
   "execution_count": 25,
   "metadata": {
    "ExecuteTime": {
     "end_time": "2020-09-24T06:59:14.238866Z",
     "start_time": "2020-09-24T06:59:14.101752Z"
    }
   },
   "outputs": [
    {
     "data": {
      "text/plain": [
       "<AxesSubplot:xlabel='n'>"
      ]
     },
     "execution_count": 25,
     "metadata": {},
     "output_type": "execute_result"
    },
    {
     "data": {
      "image/png": "[encoded data removed]",
      "text/plain": [
       "<Figure size 720x504 with 1 Axes>"
      ]
     },
     "metadata": {
      "needs_background": "light"
     },
     "output_type": "display_data"
    }
   ],
   "source": [
    "# Create a matplotlib figure\n",
    "metrics = ['TPR', 'PPV', 'NPV', 'TNR']\n",
    "mask = results_B.index != 'overall'\n",
    "df_to_plot = results_B[mask][metrics]\n",
    "\n",
    "fig = df_to_plot.plot(kind='line', linewidth=3, style=['--', '-.', '-', ':'],\n",
    "                      cmap=plt.get_cmap('coolwarm'), \n",
    "                      figsize=(10,7), use_index=True)\n",
    "\n",
    "# Store it...\n",
    "dbnn_storage['reports']['evaluation']['B'] = {'fig' : fig}\n",
    "\n",
    "# ... and show it.\n",
    "fig"
   ]
  },
  {
   "cell_type": "markdown",
   "metadata": {},
   "source": [
    "#### Compare Performance with that on $\\mathcal{A}_{test}$"
   ]
  },
  {
   "cell_type": "code",
   "execution_count": 26,
   "metadata": {
    "ExecuteTime": {
     "end_time": "2020-09-24T06:59:14.839004Z",
     "start_time": "2020-09-24T06:59:14.240240Z"
    }
   },
   "outputs": [
    {
     "name": "stderr",
     "output_type": "stream",
     "text": [
      "Substituting symbol A from STIXNonUnicode\n",
      "Substituting symbol B from STIXNonUnicode\n",
      "Substituting symbol A from STIXNonUnicode\n",
      "Substituting symbol B from STIXNonUnicode\n"
     ]
    },
    {
     "data": {
      "image/png": "[encoded data removed]",
      "text/plain": [
       "<Figure size 720x504 with 1 Axes>"
      ]
     },
     "metadata": {
      "needs_background": "light"
     },
     "output_type": "display_data"
    }
   ],
   "source": [
    "metrics_no_ur = ['A', 'TPR', 'PPV', 'TNR', 'NPV', 'AUROC', 'F1']\n",
    "df = pd.DataFrame({'$\\mathcal{A}_{test}$' : results_A_test.loc['overall', metrics_no_ur],\n",
    "                   '$\\mathcal{B}$' : results_B.loc['overall', metrics_no_ur]})\n",
    "\n",
    "fig = df.plot(kind='bar', cmap=plt.get_cmap('coolwarm'), \n",
    "              figsize=(10, 7), ylim=(0, 1), rot=0)\n",
    "\n",
    "#help(fig.legend)#(bbox_to_anchor=(1.2, 1.025))\n",
    "fig.legend(loc='upper center', bbox_to_anchor=(0.5, 1.1), ncol=2)\n",
    "\n",
    "dbnn_storage['reports']['evaluation']['AB'] = {'fig' : fig}"
   ]
  },
  {
   "cell_type": "markdown",
   "metadata": {},
   "source": [
    "### Performance on the Set $\\mathcal{C}$"
   ]
  },
  {
   "cell_type": "code",
   "execution_count": 27,
   "metadata": {
    "ExecuteTime": {
     "end_time": "2020-09-24T07:00:28.418826Z",
     "start_time": "2020-09-24T06:59:17.233772Z"
    },
    "scrolled": false
   },
   "outputs": [
    {
     "name": "stdout",
     "output_type": "stream",
     "text": [
      "C-G1\n",
      "C-G2\n",
      "C-G3\n",
      "C-G4\n"
     ]
    },
    {
     "data": {
      "text/html": [
       "<div>\n",
       "<style scoped>\n",
       "    .dataframe tbody tr th:only-of-type {\n",
       "        vertical-align: middle;\n",
       "    }\n",
       "\n",
       "    .dataframe tbody tr th {\n",
       "        vertical-align: top;\n",
       "    }\n",
       "\n",
       "    .dataframe thead th {\n",
       "        text-align: right;\n",
       "    }\n",
       "</style>\n",
       "<table border=\"1\" class=\"dataframe\">\n",
       "  <thead>\n",
       "    <tr style=\"text-align: right;\">\n",
       "      <th></th>\n",
       "      <th>C-G1</th>\n",
       "      <th>C-G2</th>\n",
       "      <th>C-G3</th>\n",
       "      <th>C-G4</th>\n",
       "    </tr>\n",
       "    <tr>\n",
       "      <th>n</th>\n",
       "      <th></th>\n",
       "      <th></th>\n",
       "      <th></th>\n",
       "      <th></th>\n",
       "    </tr>\n",
       "  </thead>\n",
       "  <tbody>\n",
       "    <tr>\n",
       "      <th>10</th>\n",
       "      <td>0.939906</td>\n",
       "      <td>0.998300</td>\n",
       "      <td>0.960504</td>\n",
       "      <td>1.000000</td>\n",
       "    </tr>\n",
       "    <tr>\n",
       "      <th>20</th>\n",
       "      <td>0.964004</td>\n",
       "      <td>0.994001</td>\n",
       "      <td>0.966703</td>\n",
       "      <td>1.000000</td>\n",
       "    </tr>\n",
       "    <tr>\n",
       "      <th>30</th>\n",
       "      <td>0.958704</td>\n",
       "      <td>0.996300</td>\n",
       "      <td>0.962104</td>\n",
       "      <td>1.000000</td>\n",
       "    </tr>\n",
       "    <tr>\n",
       "      <th>40</th>\n",
       "      <td>0.954705</td>\n",
       "      <td>0.998300</td>\n",
       "      <td>0.960604</td>\n",
       "      <td>1.000000</td>\n",
       "    </tr>\n",
       "    <tr>\n",
       "      <th>50</th>\n",
       "      <td>0.947205</td>\n",
       "      <td>0.997900</td>\n",
       "      <td>0.959604</td>\n",
       "      <td>1.000000</td>\n",
       "    </tr>\n",
       "    <tr>\n",
       "      <th>60</th>\n",
       "      <td>0.942506</td>\n",
       "      <td>0.995800</td>\n",
       "      <td>0.959204</td>\n",
       "      <td>1.000000</td>\n",
       "    </tr>\n",
       "    <tr>\n",
       "      <th>70</th>\n",
       "      <td>0.917208</td>\n",
       "      <td>0.989801</td>\n",
       "      <td>0.956604</td>\n",
       "      <td>0.999800</td>\n",
       "    </tr>\n",
       "    <tr>\n",
       "      <th>80</th>\n",
       "      <td>0.922308</td>\n",
       "      <td>0.991901</td>\n",
       "      <td>0.958704</td>\n",
       "      <td>0.992801</td>\n",
       "    </tr>\n",
       "    <tr>\n",
       "      <th>90</th>\n",
       "      <td>0.913209</td>\n",
       "      <td>0.987301</td>\n",
       "      <td>0.954305</td>\n",
       "      <td>0.931007</td>\n",
       "    </tr>\n",
       "    <tr>\n",
       "      <th>100</th>\n",
       "      <td>0.916308</td>\n",
       "      <td>0.991501</td>\n",
       "      <td>0.949105</td>\n",
       "      <td>0.790421</td>\n",
       "    </tr>\n",
       "    <tr>\n",
       "      <th>overall</th>\n",
       "      <td>0.937606</td>\n",
       "      <td>0.994111</td>\n",
       "      <td>0.958744</td>\n",
       "      <td>0.971403</td>\n",
       "    </tr>\n",
       "  </tbody>\n",
       "</table>\n",
       "</div>"
      ],
      "text/plain": [
       "             C-G1      C-G2      C-G3      C-G4\n",
       "n                                              \n",
       "10       0.939906  0.998300  0.960504  1.000000\n",
       "20       0.964004  0.994001  0.966703  1.000000\n",
       "30       0.958704  0.996300  0.962104  1.000000\n",
       "40       0.954705  0.998300  0.960604  1.000000\n",
       "50       0.947205  0.997900  0.959604  1.000000\n",
       "60       0.942506  0.995800  0.959204  1.000000\n",
       "70       0.917208  0.989801  0.956604  0.999800\n",
       "80       0.922308  0.991901  0.958704  0.992801\n",
       "90       0.913209  0.987301  0.954305  0.931007\n",
       "100      0.916308  0.991501  0.949105  0.790421\n",
       "overall  0.937606  0.994111  0.958744  0.971403"
      ]
     },
     "metadata": {},
     "output_type": "display_data"
    },
    {
     "data": {
      "image/png": "[encoded data removed]",
      "text/plain": [
       "<Figure size 720x504 with 1 Axes>"
      ]
     },
     "metadata": {
      "needs_background": "light"
     },
     "output_type": "display_data"
    },
    {
     "data": {
      "image/png": "[encoded data removed]",
      "text/plain": [
       "<Figure size 720x504 with 1 Axes>"
      ]
     },
     "metadata": {
      "needs_background": "light"
     },
     "output_type": "display_data"
    },
    {
     "data": {
      "image/png": "[encoded data removed]",
      "text/plain": [
       "<Figure size 720x504 with 1 Axes>"
      ]
     },
     "metadata": {
      "needs_background": "light"
     },
     "output_type": "display_data"
    },
    {
     "data": {
      "image/png": "[encoded data removed]",
      "text/plain": [
       "<Figure size 720x504 with 1 Axes>"
      ]
     },
     "metadata": {
      "needs_background": "light"
     },
     "output_type": "display_data"
    },
    {
     "data": {
      "image/png": "[encoded data removed]",
      "text/plain": [
       "<Figure size 720x504 with 1 Axes>"
      ]
     },
     "metadata": {
      "needs_background": "light"
     },
     "output_type": "display_data"
    }
   ],
   "source": [
    "n_range = range(10, 101, 10)\n",
    "metrics = ['TNR']\n",
    "for group in ['C-G1', 'C-G2', 'C-G3', 'C-G4']:\n",
    "    print(group)\n",
    "    \n",
    "    samples = datasets[group]['samples']\n",
    "    labels = datasets[group]['labels']\n",
    "\n",
    "    df = util.evaluate_pretty(samples, labels, dbnn, metrics=metrics, n_range=n_range, index='n')\n",
    "    #display(df)\n",
    "\n",
    "    dbnn_storage['results']['evaluation'][group] = df\n",
    "    \n",
    "    fig = df[df.index != 'overall'].plot(kind='line', cmap=plt.get_cmap('coolwarm'), linewidth=3,\n",
    "                                         figsize=(10,7), use_index=True)\n",
    "    plt.ylim(0, 1.05)\n",
    "    dbnn_storage['reports']['evaluation'][group] = {'fig' : fig}\n",
    "    #display(fig)\n",
    "    \n",
    "df = pd.DataFrame({group : dbnn_storage['results']['evaluation'][group]['TNR'] \\\n",
    "                   for group in ['C-G1', 'C-G2', 'C-G3', 'C-G4']})\n",
    "\n",
    "display(df)\n",
    "latex = util.get_latex_table(df, index=True)\n",
    "\n",
    "dbnn_storage['results']['evaluation']['C'] = {'df' : df}\n",
    "\n",
    "fig = df[df.index != 'overall'].plot(kind='line', cmap=plt.get_cmap('coolwarm'),\n",
    "                                     figsize=(10,7), use_index=True, linewidth=3,\n",
    "                                    style=['o-', 's-', 'v-', '^-'])\n",
    "plt.ylim(0, 1.05)\n",
    "latex = util.get_latex_table(df, index=True, caption='C', label='c')\n",
    "dbnn_storage['reports']['evaluation']['C'] = {'latex' : latex, 'fig' : fig}"
   ]
  },
  {
   "cell_type": "markdown",
   "metadata": {},
   "source": [
    "## Compare the DBNN with the Standard Statistical Tests\n",
    "\n",
    "Create classifiers based on the selected normality tests and nominal TPR levels."
   ]
  },
  {
   "cell_type": "code",
   "execution_count": 29,
   "metadata": {
    "ExecuteTime": {
     "end_time": "2020-09-24T07:00:33.088047Z",
     "start_time": "2020-09-24T07:00:33.077575Z"
    }
   },
   "outputs": [],
   "source": [
    "test_classifiers = {}\n",
    "\n",
    "codes = ['SW', 'LF', 'JB', 'AD', 'FSSD']\n",
    "\n",
    "for test_code in codes:\n",
    "    test, statistic = util.get_test(test_code)\n",
    "    for alpha in [0.01, 0.05, 0.1]:\n",
    "        test_classifiers[(test_code, alpha)] = util.TestClassifier(test, statistic, alpha)"
   ]
  },
  {
   "cell_type": "markdown",
   "metadata": {},
   "source": [
    "Include the statistic-based neural network, even though it technically is not a statistical test."
   ]
  },
  {
   "cell_type": "code",
   "execution_count": 30,
   "metadata": {
    "ExecuteTime": {
     "end_time": "2020-09-24T07:00:38.204357Z",
     "start_time": "2020-09-24T07:00:37.899054Z"
    }
   },
   "outputs": [],
   "source": [
    "with open(os.path.join('classifiers', 'sbnn.p'), 'rb') as f:\n",
    "    sbnn = pickle.load(f)\n",
    "\n",
    "test_classifiers[('SBNN', '')] = sbnn\n",
    "codes += ['SBNN']"
   ]
  },
  {
   "cell_type": "markdown",
   "metadata": {},
   "source": [
    "### Compare the TNR Scores Using the Set $\\mathcal{C}$\n",
    "\n",
    "Note that NPV is 1.0 for all the tests, as well as the DBNN, so we need to look at the TNR values only."
   ]
  },
  {
   "cell_type": "code",
   "execution_count": 33,
   "metadata": {
    "ExecuteTime": {
     "end_time": "2020-09-24T01:25:00.948683Z",
     "start_time": "2020-09-24T00:18:20.824150Z"
    }
   },
   "outputs": [
    {
     "name": "stdout",
     "output_type": "stream",
     "text": [
      "C-G1\n",
      "\t SW\n",
      "\t LF\n",
      "\t JB\n",
      "\t AD\n",
      "\t FSSD\n",
      "\t SBNN\n",
      "C-G2\n",
      "\t SW\n",
      "\t LF\n",
      "\t JB\n",
      "\t AD\n",
      "\t FSSD\n",
      "\t SBNN\n",
      "C-G3\n",
      "\t SW\n",
      "\t LF\n",
      "\t JB\n",
      "\t AD\n",
      "\t FSSD\n",
      "\t SBNN\n",
      "C-G4\n",
      "\t SW\n",
      "\t LF\n",
      "\t JB\n",
      "\t AD\n",
      "\t FSSD\n",
      "\t SBNN\n"
     ]
    }
   ],
   "source": [
    "n_range = range(10, 101, 10)\n",
    "metrics = ['TNR']\n",
    "\n",
    "for group in ['C-G1', 'C-G2', 'C-G3', 'C-G4']:\n",
    "    print(group)\n",
    "    \n",
    "    samples = datasets[group]['samples']\n",
    "    labels = datasets[group]['labels']\n",
    "    \n",
    "    all_test_results = {}\n",
    "    for alpha in [0.1]:\n",
    "        all_test_results[alpha] = {}\n",
    "        for test_code in codes:\n",
    "            print('\\t', test_code)\n",
    "            if test_code != 'SBNN':\n",
    "                test_clf = test_classifiers[(test_code, alpha)]\n",
    "            else:\n",
    "                test_clf = test_classifiers[(test_code, '')]\n",
    "            \n",
    "            test_results_df = util.evaluate_pretty(samples, labels, test_clf, metrics=metrics, n_range=n_range, index='n')\n",
    "            all_test_results[alpha][test_code] = test_results_df\n",
    "            \n",
    "    dbnn_storage['results']['comparison'][group] = all_test_results"
   ]
  },
  {
   "cell_type": "code",
   "execution_count": 48,
   "metadata": {
    "ExecuteTime": {
     "end_time": "2020-09-24T01:38:01.331031Z",
     "start_time": "2020-09-24T01:38:01.247119Z"
    },
    "scrolled": false
   },
   "outputs": [
    {
     "name": "stdout",
     "output_type": "stream",
     "text": [
      "C-G1\n"
     ]
    },
    {
     "data": {
      "text/html": [
       "<div>\n",
       "<style scoped>\n",
       "    .dataframe tbody tr th:only-of-type {\n",
       "        vertical-align: middle;\n",
       "    }\n",
       "\n",
       "    .dataframe tbody tr th {\n",
       "        vertical-align: top;\n",
       "    }\n",
       "\n",
       "    .dataframe thead th {\n",
       "        text-align: right;\n",
       "    }\n",
       "</style>\n",
       "<table border=\"1\" class=\"dataframe\">\n",
       "  <thead>\n",
       "    <tr style=\"text-align: right;\">\n",
       "      <th></th>\n",
       "      <th>DBNN</th>\n",
       "      <th>AD(0.1)</th>\n",
       "      <th>FSSD(0.1)</th>\n",
       "      <th>JB(0.1)</th>\n",
       "      <th>LF(0.1)</th>\n",
       "      <th>SBNN(0.1)</th>\n",
       "      <th>SW(0.1)</th>\n",
       "    </tr>\n",
       "    <tr>\n",
       "      <th>n</th>\n",
       "      <th></th>\n",
       "      <th></th>\n",
       "      <th></th>\n",
       "      <th></th>\n",
       "      <th></th>\n",
       "      <th></th>\n",
       "      <th></th>\n",
       "    </tr>\n",
       "  </thead>\n",
       "  <tbody>\n",
       "    <tr>\n",
       "      <th>10</th>\n",
       "      <td>0.939906</td>\n",
       "      <td>0.334467</td>\n",
       "      <td>0.166383</td>\n",
       "      <td>0.182282</td>\n",
       "      <td>0.305969</td>\n",
       "      <td>0.400160</td>\n",
       "      <td>0.316668</td>\n",
       "    </tr>\n",
       "    <tr>\n",
       "      <th>20</th>\n",
       "      <td>0.964004</td>\n",
       "      <td>0.487451</td>\n",
       "      <td>0.208079</td>\n",
       "      <td>0.400460</td>\n",
       "      <td>0.421758</td>\n",
       "      <td>0.511949</td>\n",
       "      <td>0.457554</td>\n",
       "    </tr>\n",
       "    <tr>\n",
       "      <th>30</th>\n",
       "      <td>0.958704</td>\n",
       "      <td>0.554845</td>\n",
       "      <td>0.243376</td>\n",
       "      <td>0.504050</td>\n",
       "      <td>0.484152</td>\n",
       "      <td>0.586441</td>\n",
       "      <td>0.539246</td>\n",
       "    </tr>\n",
       "    <tr>\n",
       "      <th>40</th>\n",
       "      <td>0.954705</td>\n",
       "      <td>0.613039</td>\n",
       "      <td>0.261774</td>\n",
       "      <td>0.580542</td>\n",
       "      <td>0.544946</td>\n",
       "      <td>0.636436</td>\n",
       "      <td>0.604340</td>\n",
       "    </tr>\n",
       "    <tr>\n",
       "      <th>50</th>\n",
       "      <td>0.947205</td>\n",
       "      <td>0.652935</td>\n",
       "      <td>0.285371</td>\n",
       "      <td>0.639336</td>\n",
       "      <td>0.583942</td>\n",
       "      <td>0.655334</td>\n",
       "      <td>0.649535</td>\n",
       "    </tr>\n",
       "    <tr>\n",
       "      <th>60</th>\n",
       "      <td>0.942506</td>\n",
       "      <td>0.677732</td>\n",
       "      <td>0.305869</td>\n",
       "      <td>0.675632</td>\n",
       "      <td>0.609839</td>\n",
       "      <td>0.660634</td>\n",
       "      <td>0.679332</td>\n",
       "    </tr>\n",
       "    <tr>\n",
       "      <th>70</th>\n",
       "      <td>0.917208</td>\n",
       "      <td>0.709329</td>\n",
       "      <td>0.320968</td>\n",
       "      <td>0.715128</td>\n",
       "      <td>0.642436</td>\n",
       "      <td>0.679432</td>\n",
       "      <td>0.715828</td>\n",
       "    </tr>\n",
       "    <tr>\n",
       "      <th>80</th>\n",
       "      <td>0.922308</td>\n",
       "      <td>0.739926</td>\n",
       "      <td>0.354565</td>\n",
       "      <td>0.755124</td>\n",
       "      <td>0.678532</td>\n",
       "      <td>0.712829</td>\n",
       "      <td>0.754625</td>\n",
       "    </tr>\n",
       "    <tr>\n",
       "      <th>90</th>\n",
       "      <td>0.913209</td>\n",
       "      <td>0.757124</td>\n",
       "      <td>0.360364</td>\n",
       "      <td>0.769523</td>\n",
       "      <td>0.700530</td>\n",
       "      <td>0.733627</td>\n",
       "      <td>0.766123</td>\n",
       "    </tr>\n",
       "    <tr>\n",
       "      <th>100</th>\n",
       "      <td>0.916308</td>\n",
       "      <td>0.774123</td>\n",
       "      <td>0.370363</td>\n",
       "      <td>0.786621</td>\n",
       "      <td>0.720928</td>\n",
       "      <td>0.770523</td>\n",
       "      <td>0.784822</td>\n",
       "    </tr>\n",
       "    <tr>\n",
       "      <th>overall</th>\n",
       "      <td>0.937606</td>\n",
       "      <td>0.630097</td>\n",
       "      <td>0.287711</td>\n",
       "      <td>0.600870</td>\n",
       "      <td>0.569303</td>\n",
       "      <td>0.634737</td>\n",
       "      <td>0.626807</td>\n",
       "    </tr>\n",
       "  </tbody>\n",
       "</table>\n",
       "</div>"
      ],
      "text/plain": [
       "             DBNN   AD(0.1)  FSSD(0.1)   JB(0.1)   LF(0.1)  SBNN(0.1)  \\\n",
       "n                                                                       \n",
       "10       0.939906  0.334467   0.166383  0.182282  0.305969   0.400160   \n",
       "20       0.964004  0.487451   0.208079  0.400460  0.421758   0.511949   \n",
       "30       0.958704  0.554845   0.243376  0.504050  0.484152   0.586441   \n",
       "40       0.954705  0.613039   0.261774  0.580542  0.544946   0.636436   \n",
       "50       0.947205  0.652935   0.285371  0.639336  0.583942   0.655334   \n",
       "60       0.942506  0.677732   0.305869  0.675632  0.609839   0.660634   \n",
       "70       0.917208  0.709329   0.320968  0.715128  0.642436   0.679432   \n",
       "80       0.922308  0.739926   0.354565  0.755124  0.678532   0.712829   \n",
       "90       0.913209  0.757124   0.360364  0.769523  0.700530   0.733627   \n",
       "100      0.916308  0.774123   0.370363  0.786621  0.720928   0.770523   \n",
       "overall  0.937606  0.630097   0.287711  0.600870  0.569303   0.634737   \n",
       "\n",
       "          SW(0.1)  \n",
       "n                  \n",
       "10       0.316668  \n",
       "20       0.457554  \n",
       "30       0.539246  \n",
       "40       0.604340  \n",
       "50       0.649535  \n",
       "60       0.679332  \n",
       "70       0.715828  \n",
       "80       0.754625  \n",
       "90       0.766123  \n",
       "100      0.784822  \n",
       "overall  0.626807  "
      ]
     },
     "metadata": {},
     "output_type": "display_data"
    },
    {
     "name": "stdout",
     "output_type": "stream",
     "text": [
      "C-G2\n"
     ]
    },
    {
     "data": {
      "text/html": [
       "<div>\n",
       "<style scoped>\n",
       "    .dataframe tbody tr th:only-of-type {\n",
       "        vertical-align: middle;\n",
       "    }\n",
       "\n",
       "    .dataframe tbody tr th {\n",
       "        vertical-align: top;\n",
       "    }\n",
       "\n",
       "    .dataframe thead th {\n",
       "        text-align: right;\n",
       "    }\n",
       "</style>\n",
       "<table border=\"1\" class=\"dataframe\">\n",
       "  <thead>\n",
       "    <tr style=\"text-align: right;\">\n",
       "      <th></th>\n",
       "      <th>DBNN</th>\n",
       "      <th>AD(0.1)</th>\n",
       "      <th>FSSD(0.1)</th>\n",
       "      <th>JB(0.1)</th>\n",
       "      <th>LF(0.1)</th>\n",
       "      <th>SBNN(0.1)</th>\n",
       "      <th>SW(0.1)</th>\n",
       "    </tr>\n",
       "    <tr>\n",
       "      <th>n</th>\n",
       "      <th></th>\n",
       "      <th></th>\n",
       "      <th></th>\n",
       "      <th></th>\n",
       "      <th></th>\n",
       "      <th></th>\n",
       "      <th></th>\n",
       "    </tr>\n",
       "  </thead>\n",
       "  <tbody>\n",
       "    <tr>\n",
       "      <th>10</th>\n",
       "      <td>0.998300</td>\n",
       "      <td>0.235776</td>\n",
       "      <td>0.106789</td>\n",
       "      <td>0.079592</td>\n",
       "      <td>0.190281</td>\n",
       "      <td>0.315668</td>\n",
       "      <td>0.240576</td>\n",
       "    </tr>\n",
       "    <tr>\n",
       "      <th>20</th>\n",
       "      <td>0.994001</td>\n",
       "      <td>0.396860</td>\n",
       "      <td>0.146085</td>\n",
       "      <td>0.241576</td>\n",
       "      <td>0.281872</td>\n",
       "      <td>0.385861</td>\n",
       "      <td>0.407559</td>\n",
       "    </tr>\n",
       "    <tr>\n",
       "      <th>30</th>\n",
       "      <td>0.996300</td>\n",
       "      <td>0.528947</td>\n",
       "      <td>0.182382</td>\n",
       "      <td>0.399260</td>\n",
       "      <td>0.392461</td>\n",
       "      <td>0.510949</td>\n",
       "      <td>0.567443</td>\n",
       "    </tr>\n",
       "    <tr>\n",
       "      <th>40</th>\n",
       "      <td>0.998300</td>\n",
       "      <td>0.621838</td>\n",
       "      <td>0.218578</td>\n",
       "      <td>0.528247</td>\n",
       "      <td>0.479752</td>\n",
       "      <td>0.605739</td>\n",
       "      <td>0.680832</td>\n",
       "    </tr>\n",
       "    <tr>\n",
       "      <th>50</th>\n",
       "      <td>0.997900</td>\n",
       "      <td>0.712129</td>\n",
       "      <td>0.255174</td>\n",
       "      <td>0.640936</td>\n",
       "      <td>0.566443</td>\n",
       "      <td>0.670933</td>\n",
       "      <td>0.775422</td>\n",
       "    </tr>\n",
       "    <tr>\n",
       "      <th>60</th>\n",
       "      <td>0.995800</td>\n",
       "      <td>0.776622</td>\n",
       "      <td>0.291771</td>\n",
       "      <td>0.729627</td>\n",
       "      <td>0.630737</td>\n",
       "      <td>0.715928</td>\n",
       "      <td>0.839616</td>\n",
       "    </tr>\n",
       "    <tr>\n",
       "      <th>70</th>\n",
       "      <td>0.989801</td>\n",
       "      <td>0.831317</td>\n",
       "      <td>0.327667</td>\n",
       "      <td>0.806419</td>\n",
       "      <td>0.686031</td>\n",
       "      <td>0.759424</td>\n",
       "      <td>0.891011</td>\n",
       "    </tr>\n",
       "    <tr>\n",
       "      <th>80</th>\n",
       "      <td>0.991901</td>\n",
       "      <td>0.870313</td>\n",
       "      <td>0.366263</td>\n",
       "      <td>0.857314</td>\n",
       "      <td>0.749525</td>\n",
       "      <td>0.790021</td>\n",
       "      <td>0.922908</td>\n",
       "    </tr>\n",
       "    <tr>\n",
       "      <th>90</th>\n",
       "      <td>0.987301</td>\n",
       "      <td>0.908109</td>\n",
       "      <td>0.404160</td>\n",
       "      <td>0.899710</td>\n",
       "      <td>0.795620</td>\n",
       "      <td>0.824018</td>\n",
       "      <td>0.949405</td>\n",
       "    </tr>\n",
       "    <tr>\n",
       "      <th>100</th>\n",
       "      <td>0.991501</td>\n",
       "      <td>0.932307</td>\n",
       "      <td>0.432157</td>\n",
       "      <td>0.937906</td>\n",
       "      <td>0.830517</td>\n",
       "      <td>0.866913</td>\n",
       "      <td>0.968803</td>\n",
       "    </tr>\n",
       "    <tr>\n",
       "      <th>overall</th>\n",
       "      <td>0.994111</td>\n",
       "      <td>0.681422</td>\n",
       "      <td>0.273103</td>\n",
       "      <td>0.612059</td>\n",
       "      <td>0.560324</td>\n",
       "      <td>0.644546</td>\n",
       "      <td>0.724358</td>\n",
       "    </tr>\n",
       "  </tbody>\n",
       "</table>\n",
       "</div>"
      ],
      "text/plain": [
       "             DBNN   AD(0.1)  FSSD(0.1)   JB(0.1)   LF(0.1)  SBNN(0.1)  \\\n",
       "n                                                                       \n",
       "10       0.998300  0.235776   0.106789  0.079592  0.190281   0.315668   \n",
       "20       0.994001  0.396860   0.146085  0.241576  0.281872   0.385861   \n",
       "30       0.996300  0.528947   0.182382  0.399260  0.392461   0.510949   \n",
       "40       0.998300  0.621838   0.218578  0.528247  0.479752   0.605739   \n",
       "50       0.997900  0.712129   0.255174  0.640936  0.566443   0.670933   \n",
       "60       0.995800  0.776622   0.291771  0.729627  0.630737   0.715928   \n",
       "70       0.989801  0.831317   0.327667  0.806419  0.686031   0.759424   \n",
       "80       0.991901  0.870313   0.366263  0.857314  0.749525   0.790021   \n",
       "90       0.987301  0.908109   0.404160  0.899710  0.795620   0.824018   \n",
       "100      0.991501  0.932307   0.432157  0.937906  0.830517   0.866913   \n",
       "overall  0.994111  0.681422   0.273103  0.612059  0.560324   0.644546   \n",
       "\n",
       "          SW(0.1)  \n",
       "n                  \n",
       "10       0.240576  \n",
       "20       0.407559  \n",
       "30       0.567443  \n",
       "40       0.680832  \n",
       "50       0.775422  \n",
       "60       0.839616  \n",
       "70       0.891011  \n",
       "80       0.922908  \n",
       "90       0.949405  \n",
       "100      0.968803  \n",
       "overall  0.724358  "
      ]
     },
     "metadata": {},
     "output_type": "display_data"
    },
    {
     "name": "stdout",
     "output_type": "stream",
     "text": [
      "C-G3\n"
     ]
    },
    {
     "data": {
      "text/html": [
       "<div>\n",
       "<style scoped>\n",
       "    .dataframe tbody tr th:only-of-type {\n",
       "        vertical-align: middle;\n",
       "    }\n",
       "\n",
       "    .dataframe tbody tr th {\n",
       "        vertical-align: top;\n",
       "    }\n",
       "\n",
       "    .dataframe thead th {\n",
       "        text-align: right;\n",
       "    }\n",
       "</style>\n",
       "<table border=\"1\" class=\"dataframe\">\n",
       "  <thead>\n",
       "    <tr style=\"text-align: right;\">\n",
       "      <th></th>\n",
       "      <th>DBNN</th>\n",
       "      <th>AD(0.1)</th>\n",
       "      <th>FSSD(0.1)</th>\n",
       "      <th>JB(0.1)</th>\n",
       "      <th>LF(0.1)</th>\n",
       "      <th>SBNN(0.1)</th>\n",
       "      <th>SW(0.1)</th>\n",
       "    </tr>\n",
       "    <tr>\n",
       "      <th>n</th>\n",
       "      <th></th>\n",
       "      <th></th>\n",
       "      <th></th>\n",
       "      <th></th>\n",
       "      <th></th>\n",
       "      <th></th>\n",
       "      <th></th>\n",
       "    </tr>\n",
       "  </thead>\n",
       "  <tbody>\n",
       "    <tr>\n",
       "      <th>10</th>\n",
       "      <td>0.960504</td>\n",
       "      <td>0.595340</td>\n",
       "      <td>0.243376</td>\n",
       "      <td>0.286771</td>\n",
       "      <td>0.503550</td>\n",
       "      <td>0.650035</td>\n",
       "      <td>0.610839</td>\n",
       "    </tr>\n",
       "    <tr>\n",
       "      <th>20</th>\n",
       "      <td>0.966703</td>\n",
       "      <td>0.790821</td>\n",
       "      <td>0.359664</td>\n",
       "      <td>0.612739</td>\n",
       "      <td>0.702730</td>\n",
       "      <td>0.771423</td>\n",
       "      <td>0.806519</td>\n",
       "    </tr>\n",
       "    <tr>\n",
       "      <th>30</th>\n",
       "      <td>0.962104</td>\n",
       "      <td>0.854015</td>\n",
       "      <td>0.436656</td>\n",
       "      <td>0.756024</td>\n",
       "      <td>0.781922</td>\n",
       "      <td>0.826817</td>\n",
       "      <td>0.874513</td>\n",
       "    </tr>\n",
       "    <tr>\n",
       "      <th>40</th>\n",
       "      <td>0.960604</td>\n",
       "      <td>0.890911</td>\n",
       "      <td>0.489351</td>\n",
       "      <td>0.827417</td>\n",
       "      <td>0.829117</td>\n",
       "      <td>0.871613</td>\n",
       "      <td>0.911509</td>\n",
       "    </tr>\n",
       "    <tr>\n",
       "      <th>50</th>\n",
       "      <td>0.959604</td>\n",
       "      <td>0.915808</td>\n",
       "      <td>0.535046</td>\n",
       "      <td>0.874213</td>\n",
       "      <td>0.862914</td>\n",
       "      <td>0.890411</td>\n",
       "      <td>0.939006</td>\n",
       "    </tr>\n",
       "    <tr>\n",
       "      <th>60</th>\n",
       "      <td>0.959204</td>\n",
       "      <td>0.928007</td>\n",
       "      <td>0.573443</td>\n",
       "      <td>0.898410</td>\n",
       "      <td>0.887911</td>\n",
       "      <td>0.899310</td>\n",
       "      <td>0.951005</td>\n",
       "    </tr>\n",
       "    <tr>\n",
       "      <th>70</th>\n",
       "      <td>0.956604</td>\n",
       "      <td>0.940706</td>\n",
       "      <td>0.589641</td>\n",
       "      <td>0.921408</td>\n",
       "      <td>0.901610</td>\n",
       "      <td>0.910309</td>\n",
       "      <td>0.963804</td>\n",
       "    </tr>\n",
       "    <tr>\n",
       "      <th>80</th>\n",
       "      <td>0.958704</td>\n",
       "      <td>0.951505</td>\n",
       "      <td>0.615038</td>\n",
       "      <td>0.937606</td>\n",
       "      <td>0.921908</td>\n",
       "      <td>0.916708</td>\n",
       "      <td>0.972603</td>\n",
       "    </tr>\n",
       "    <tr>\n",
       "      <th>90</th>\n",
       "      <td>0.954305</td>\n",
       "      <td>0.960404</td>\n",
       "      <td>0.627637</td>\n",
       "      <td>0.946905</td>\n",
       "      <td>0.931107</td>\n",
       "      <td>0.922608</td>\n",
       "      <td>0.980902</td>\n",
       "    </tr>\n",
       "    <tr>\n",
       "      <th>100</th>\n",
       "      <td>0.949105</td>\n",
       "      <td>0.964804</td>\n",
       "      <td>0.639736</td>\n",
       "      <td>0.955404</td>\n",
       "      <td>0.935606</td>\n",
       "      <td>0.927107</td>\n",
       "      <td>0.984802</td>\n",
       "    </tr>\n",
       "    <tr>\n",
       "      <th>overall</th>\n",
       "      <td>0.958744</td>\n",
       "      <td>0.879232</td>\n",
       "      <td>0.510959</td>\n",
       "      <td>0.801690</td>\n",
       "      <td>0.825837</td>\n",
       "      <td>0.858634</td>\n",
       "      <td>0.899550</td>\n",
       "    </tr>\n",
       "  </tbody>\n",
       "</table>\n",
       "</div>"
      ],
      "text/plain": [
       "             DBNN   AD(0.1)  FSSD(0.1)   JB(0.1)   LF(0.1)  SBNN(0.1)  \\\n",
       "n                                                                       \n",
       "10       0.960504  0.595340   0.243376  0.286771  0.503550   0.650035   \n",
       "20       0.966703  0.790821   0.359664  0.612739  0.702730   0.771423   \n",
       "30       0.962104  0.854015   0.436656  0.756024  0.781922   0.826817   \n",
       "40       0.960604  0.890911   0.489351  0.827417  0.829117   0.871613   \n",
       "50       0.959604  0.915808   0.535046  0.874213  0.862914   0.890411   \n",
       "60       0.959204  0.928007   0.573443  0.898410  0.887911   0.899310   \n",
       "70       0.956604  0.940706   0.589641  0.921408  0.901610   0.910309   \n",
       "80       0.958704  0.951505   0.615038  0.937606  0.921908   0.916708   \n",
       "90       0.954305  0.960404   0.627637  0.946905  0.931107   0.922608   \n",
       "100      0.949105  0.964804   0.639736  0.955404  0.935606   0.927107   \n",
       "overall  0.958744  0.879232   0.510959  0.801690  0.825837   0.858634   \n",
       "\n",
       "          SW(0.1)  \n",
       "n                  \n",
       "10       0.610839  \n",
       "20       0.806519  \n",
       "30       0.874513  \n",
       "40       0.911509  \n",
       "50       0.939006  \n",
       "60       0.951005  \n",
       "70       0.963804  \n",
       "80       0.972603  \n",
       "90       0.980902  \n",
       "100      0.984802  \n",
       "overall  0.899550  "
      ]
     },
     "metadata": {},
     "output_type": "display_data"
    },
    {
     "name": "stdout",
     "output_type": "stream",
     "text": [
      "C-G4\n"
     ]
    },
    {
     "data": {
      "text/html": [
       "<div>\n",
       "<style scoped>\n",
       "    .dataframe tbody tr th:only-of-type {\n",
       "        vertical-align: middle;\n",
       "    }\n",
       "\n",
       "    .dataframe tbody tr th {\n",
       "        vertical-align: top;\n",
       "    }\n",
       "\n",
       "    .dataframe thead th {\n",
       "        text-align: right;\n",
       "    }\n",
       "</style>\n",
       "<table border=\"1\" class=\"dataframe\">\n",
       "  <thead>\n",
       "    <tr style=\"text-align: right;\">\n",
       "      <th></th>\n",
       "      <th>DBNN</th>\n",
       "      <th>AD(0.1)</th>\n",
       "      <th>FSSD(0.1)</th>\n",
       "      <th>JB(0.1)</th>\n",
       "      <th>LF(0.1)</th>\n",
       "      <th>SBNN(0.1)</th>\n",
       "      <th>SW(0.1)</th>\n",
       "    </tr>\n",
       "    <tr>\n",
       "      <th>n</th>\n",
       "      <th></th>\n",
       "      <th></th>\n",
       "      <th></th>\n",
       "      <th></th>\n",
       "      <th></th>\n",
       "      <th></th>\n",
       "      <th></th>\n",
       "    </tr>\n",
       "  </thead>\n",
       "  <tbody>\n",
       "    <tr>\n",
       "      <th>10</th>\n",
       "      <td>1.000000</td>\n",
       "      <td>0.206779</td>\n",
       "      <td>0.00090</td>\n",
       "      <td>0.010599</td>\n",
       "      <td>0.151285</td>\n",
       "      <td>0.181182</td>\n",
       "      <td>0.218778</td>\n",
       "    </tr>\n",
       "    <tr>\n",
       "      <th>20</th>\n",
       "      <td>1.000000</td>\n",
       "      <td>0.396860</td>\n",
       "      <td>0.00000</td>\n",
       "      <td>0.020798</td>\n",
       "      <td>0.248575</td>\n",
       "      <td>0.165483</td>\n",
       "      <td>0.423458</td>\n",
       "    </tr>\n",
       "    <tr>\n",
       "      <th>30</th>\n",
       "      <td>1.000000</td>\n",
       "      <td>0.517748</td>\n",
       "      <td>0.00000</td>\n",
       "      <td>0.030797</td>\n",
       "      <td>0.337966</td>\n",
       "      <td>0.206079</td>\n",
       "      <td>0.569243</td>\n",
       "    </tr>\n",
       "    <tr>\n",
       "      <th>40</th>\n",
       "      <td>1.000000</td>\n",
       "      <td>0.611139</td>\n",
       "      <td>0.00010</td>\n",
       "      <td>0.071493</td>\n",
       "      <td>0.425657</td>\n",
       "      <td>0.257474</td>\n",
       "      <td>0.686531</td>\n",
       "    </tr>\n",
       "    <tr>\n",
       "      <th>50</th>\n",
       "      <td>1.000000</td>\n",
       "      <td>0.685331</td>\n",
       "      <td>0.00000</td>\n",
       "      <td>0.209079</td>\n",
       "      <td>0.499650</td>\n",
       "      <td>0.297870</td>\n",
       "      <td>0.759224</td>\n",
       "    </tr>\n",
       "    <tr>\n",
       "      <th>60</th>\n",
       "      <td>1.000000</td>\n",
       "      <td>0.743726</td>\n",
       "      <td>0.00000</td>\n",
       "      <td>0.357964</td>\n",
       "      <td>0.564444</td>\n",
       "      <td>0.330867</td>\n",
       "      <td>0.820918</td>\n",
       "    </tr>\n",
       "    <tr>\n",
       "      <th>70</th>\n",
       "      <td>0.999800</td>\n",
       "      <td>0.784322</td>\n",
       "      <td>0.00000</td>\n",
       "      <td>0.480052</td>\n",
       "      <td>0.611539</td>\n",
       "      <td>0.336366</td>\n",
       "      <td>0.859014</td>\n",
       "    </tr>\n",
       "    <tr>\n",
       "      <th>80</th>\n",
       "      <td>0.992801</td>\n",
       "      <td>0.817518</td>\n",
       "      <td>0.00010</td>\n",
       "      <td>0.587941</td>\n",
       "      <td>0.660634</td>\n",
       "      <td>0.361364</td>\n",
       "      <td>0.888011</td>\n",
       "    </tr>\n",
       "    <tr>\n",
       "      <th>90</th>\n",
       "      <td>0.931007</td>\n",
       "      <td>0.842516</td>\n",
       "      <td>0.00000</td>\n",
       "      <td>0.681432</td>\n",
       "      <td>0.691831</td>\n",
       "      <td>0.386061</td>\n",
       "      <td>0.906309</td>\n",
       "    </tr>\n",
       "    <tr>\n",
       "      <th>100</th>\n",
       "      <td>0.790421</td>\n",
       "      <td>0.866613</td>\n",
       "      <td>0.00000</td>\n",
       "      <td>0.746425</td>\n",
       "      <td>0.730327</td>\n",
       "      <td>0.419958</td>\n",
       "      <td>0.923908</td>\n",
       "    </tr>\n",
       "    <tr>\n",
       "      <th>overall</th>\n",
       "      <td>0.971403</td>\n",
       "      <td>0.647255</td>\n",
       "      <td>0.00011</td>\n",
       "      <td>0.319658</td>\n",
       "      <td>0.492191</td>\n",
       "      <td>0.294271</td>\n",
       "      <td>0.705539</td>\n",
       "    </tr>\n",
       "  </tbody>\n",
       "</table>\n",
       "</div>"
      ],
      "text/plain": [
       "             DBNN   AD(0.1)  FSSD(0.1)   JB(0.1)   LF(0.1)  SBNN(0.1)  \\\n",
       "n                                                                       \n",
       "10       1.000000  0.206779    0.00090  0.010599  0.151285   0.181182   \n",
       "20       1.000000  0.396860    0.00000  0.020798  0.248575   0.165483   \n",
       "30       1.000000  0.517748    0.00000  0.030797  0.337966   0.206079   \n",
       "40       1.000000  0.611139    0.00010  0.071493  0.425657   0.257474   \n",
       "50       1.000000  0.685331    0.00000  0.209079  0.499650   0.297870   \n",
       "60       1.000000  0.743726    0.00000  0.357964  0.564444   0.330867   \n",
       "70       0.999800  0.784322    0.00000  0.480052  0.611539   0.336366   \n",
       "80       0.992801  0.817518    0.00010  0.587941  0.660634   0.361364   \n",
       "90       0.931007  0.842516    0.00000  0.681432  0.691831   0.386061   \n",
       "100      0.790421  0.866613    0.00000  0.746425  0.730327   0.419958   \n",
       "overall  0.971403  0.647255    0.00011  0.319658  0.492191   0.294271   \n",
       "\n",
       "          SW(0.1)  \n",
       "n                  \n",
       "10       0.218778  \n",
       "20       0.423458  \n",
       "30       0.569243  \n",
       "40       0.686531  \n",
       "50       0.759224  \n",
       "60       0.820918  \n",
       "70       0.859014  \n",
       "80       0.888011  \n",
       "90       0.906309  \n",
       "100      0.923908  \n",
       "overall  0.705539  "
      ]
     },
     "metadata": {},
     "output_type": "display_data"
    }
   ],
   "source": [
    "C_results = {}\n",
    "for group in dbnn_storage['results']['comparison']:\n",
    "    print(group)\n",
    "    results = dbnn_storage['results']['comparison'][group]\n",
    "    results_dict = {'{}({})'.format(test_code, alpha): results[alpha][test_code]['TNR'] for alpha in results\\\n",
    "                    for test_code in results[alpha]}\n",
    "    results_df = pd.concat(results_dict, axis=1)\n",
    "    results_df = results_df[sorted(results_df.columns)]\n",
    "    results_df['DBNN'] = dbnn_storage['results']['evaluation'][group]['TNR']\n",
    "    results_df = results_df[['DBNN'] + [col for col in results_df.columns if col != 'DBNN']]\n",
    "    C_results[group] = results_df\n",
    "    display(results_df)"
   ]
  },
  {
   "cell_type": "code",
   "execution_count": 52,
   "metadata": {
    "ExecuteTime": {
     "end_time": "2020-09-24T01:39:27.395497Z",
     "start_time": "2020-09-24T01:39:26.167269Z"
    },
    "scrolled": false
   },
   "outputs": [
    {
     "name": "stdout",
     "output_type": "stream",
     "text": [
      "\\begin{table}\n",
      "\\centering\n",
      "\\caption{C}\n",
      "\\label{c}\n",
      "\\begin{tabular}{lrrrrrrr}\n",
      "\\toprule\n",
      "{} &    DBNN &  AD(0.1) &  FSSD(0.1) &  JB(0.1) &  LF(0.1) &  SBNN(0.1) &  SW(0.1) \\\\\n",
      "n       &         &          &            &          &          &            &          \\\\\n",
      "\\midrule\n",
      "10      & $0.940$ &  $0.334$ &    $0.166$ &  $0.182$ &  $0.306$ &    $0.400$ &  $0.317$ \\\\\n",
      "20      & $0.964$ &  $0.487$ &    $0.208$ &  $0.400$ &  $0.422$ &    $0.512$ &  $0.458$ \\\\\n",
      "30      & $0.959$ &  $0.555$ &    $0.243$ &  $0.504$ &  $0.484$ &    $0.586$ &  $0.539$ \\\\\n",
      "40      & $0.955$ &  $0.613$ &    $0.262$ &  $0.581$ &  $0.545$ &    $0.636$ &  $0.604$ \\\\\n",
      "50      & $0.947$ &  $0.653$ &    $0.285$ &  $0.639$ &  $0.584$ &    $0.655$ &  $0.650$ \\\\\n",
      "60      & $0.943$ &  $0.678$ &    $0.306$ &  $0.676$ &  $0.610$ &    $0.661$ &  $0.679$ \\\\\n",
      "70      & $0.917$ &  $0.709$ &    $0.321$ &  $0.715$ &  $0.642$ &    $0.679$ &  $0.716$ \\\\\n",
      "80      & $0.922$ &  $0.740$ &    $0.355$ &  $0.755$ &  $0.679$ &    $0.713$ &  $0.755$ \\\\\n",
      "90      & $0.913$ &  $0.757$ &    $0.360$ &  $0.770$ &  $0.701$ &    $0.734$ &  $0.766$ \\\\\n",
      "100     & $0.916$ &  $0.774$ &    $0.370$ &  $0.787$ &  $0.721$ &    $0.771$ &  $0.785$ \\\\\n",
      "overall & $0.938$ &  $0.630$ &    $0.288$ &  $0.601$ &  $0.569$ &    $0.635$ &  $0.627$ \\\\\n",
      "\\bottomrule\n",
      "\\end{tabular}\n",
      "\\end{table}\n",
      "\n",
      "\\begin{table}\n",
      "\\centering\n",
      "\\caption{C}\n",
      "\\label{c}\n",
      "\\begin{tabular}{lrrrrrrr}\n",
      "\\toprule\n",
      "{} &    DBNN &  AD(0.1) &  FSSD(0.1) &  JB(0.1) &  LF(0.1) &  SBNN(0.1) &  SW(0.1) \\\\\n",
      "n       &         &          &            &          &          &            &          \\\\\n",
      "\\midrule\n",
      "10      & $0.998$ &  $0.236$ &    $0.107$ &  $0.080$ &  $0.190$ &    $0.316$ &  $0.241$ \\\\\n",
      "20      & $0.994$ &  $0.397$ &    $0.146$ &  $0.242$ &  $0.282$ &    $0.386$ &  $0.408$ \\\\\n",
      "30      & $0.996$ &  $0.529$ &    $0.182$ &  $0.399$ &  $0.392$ &    $0.511$ &  $0.567$ \\\\\n",
      "40      & $0.998$ &  $0.622$ &    $0.219$ &  $0.528$ &  $0.480$ &    $0.606$ &  $0.681$ \\\\\n",
      "50      & $0.998$ &  $0.712$ &    $0.255$ &  $0.641$ &  $0.566$ &    $0.671$ &  $0.775$ \\\\\n",
      "60      & $0.996$ &  $0.777$ &    $0.292$ &  $0.730$ &  $0.631$ &    $0.716$ &  $0.840$ \\\\\n",
      "70      & $0.990$ &  $0.831$ &    $0.328$ &  $0.806$ &  $0.686$ &    $0.759$ &  $0.891$ \\\\\n",
      "80      & $0.992$ &  $0.870$ &    $0.366$ &  $0.857$ &  $0.750$ &    $0.790$ &  $0.923$ \\\\\n",
      "90      & $0.987$ &  $0.908$ &    $0.404$ &  $0.900$ &  $0.796$ &    $0.824$ &  $0.949$ \\\\\n",
      "100     & $0.992$ &  $0.932$ &    $0.432$ &  $0.938$ &  $0.831$ &    $0.867$ &  $0.969$ \\\\\n",
      "overall & $0.994$ &  $0.681$ &    $0.273$ &  $0.612$ &  $0.560$ &    $0.645$ &  $0.724$ \\\\\n",
      "\\bottomrule\n",
      "\\end{tabular}\n",
      "\\end{table}\n",
      "\n",
      "\\begin{table}\n",
      "\\centering\n",
      "\\caption{C}\n",
      "\\label{c}\n",
      "\\begin{tabular}{lrrrrrrr}\n",
      "\\toprule\n",
      "{} &    DBNN &  AD(0.1) &  FSSD(0.1) &  JB(0.1) &  LF(0.1) &  SBNN(0.1) &  SW(0.1) \\\\\n",
      "n       &         &          &            &          &          &            &          \\\\\n",
      "\\midrule\n",
      "10      & $0.961$ &  $0.595$ &    $0.243$ &  $0.287$ &  $0.504$ &    $0.650$ &  $0.611$ \\\\\n",
      "20      & $0.967$ &  $0.791$ &    $0.360$ &  $0.613$ &  $0.703$ &    $0.771$ &  $0.807$ \\\\\n",
      "30      & $0.962$ &  $0.854$ &    $0.437$ &  $0.756$ &  $0.782$ &    $0.827$ &  $0.875$ \\\\\n",
      "40      & $0.961$ &  $0.891$ &    $0.489$ &  $0.827$ &  $0.829$ &    $0.872$ &  $0.912$ \\\\\n",
      "50      & $0.960$ &  $0.916$ &    $0.535$ &  $0.874$ &  $0.863$ &    $0.890$ &  $0.939$ \\\\\n",
      "60      & $0.959$ &  $0.928$ &    $0.573$ &  $0.898$ &  $0.888$ &    $0.899$ &  $0.951$ \\\\\n",
      "70      & $0.957$ &  $0.941$ &    $0.590$ &  $0.921$ &  $0.902$ &    $0.910$ &  $0.964$ \\\\\n",
      "80      & $0.959$ &  $0.952$ &    $0.615$ &  $0.938$ &  $0.922$ &    $0.917$ &  $0.973$ \\\\\n",
      "90      & $0.954$ &  $0.960$ &    $0.628$ &  $0.947$ &  $0.931$ &    $0.923$ &  $0.981$ \\\\\n",
      "100     & $0.949$ &  $0.965$ &    $0.640$ &  $0.955$ &  $0.936$ &    $0.927$ &  $0.985$ \\\\\n",
      "overall & $0.959$ &  $0.879$ &    $0.511$ &  $0.802$ &  $0.826$ &    $0.859$ &  $0.900$ \\\\\n",
      "\\bottomrule\n",
      "\\end{tabular}\n",
      "\\end{table}\n",
      "\n",
      "\\begin{table}\n",
      "\\centering\n",
      "\\caption{C}\n",
      "\\label{c}\n",
      "\\begin{tabular}{lrrrrrrr}\n",
      "\\toprule\n",
      "{} &    DBNN &  AD(0.1) &  FSSD(0.1) &  JB(0.1) &  LF(0.1) &  SBNN(0.1) &  SW(0.1) \\\\\n",
      "n       &         &          &            &          &          &            &          \\\\\n",
      "\\midrule\n",
      "10      & $1.000$ &  $0.207$ &    $0.001$ &  $0.011$ &  $0.151$ &    $0.181$ &  $0.219$ \\\\\n",
      "20      & $1.000$ &  $0.397$ &    $0.000$ &  $0.021$ &  $0.249$ &    $0.165$ &  $0.423$ \\\\\n",
      "30      & $1.000$ &  $0.518$ &    $0.000$ &  $0.031$ &  $0.338$ &    $0.206$ &  $0.569$ \\\\\n",
      "40      & $1.000$ &  $0.611$ &    $0.000$ &  $0.071$ &  $0.426$ &    $0.257$ &  $0.687$ \\\\\n",
      "50      & $1.000$ &  $0.685$ &    $0.000$ &  $0.209$ &  $0.500$ &    $0.298$ &  $0.759$ \\\\\n",
      "60      & $1.000$ &  $0.744$ &    $0.000$ &  $0.358$ &  $0.564$ &    $0.331$ &  $0.821$ \\\\\n",
      "70      & $1.000$ &  $0.784$ &    $0.000$ &  $0.480$ &  $0.612$ &    $0.336$ &  $0.859$ \\\\\n",
      "80      & $0.993$ &  $0.818$ &    $0.000$ &  $0.588$ &  $0.661$ &    $0.361$ &  $0.888$ \\\\\n",
      "90      & $0.931$ &  $0.843$ &    $0.000$ &  $0.681$ &  $0.692$ &    $0.386$ &  $0.906$ \\\\\n",
      "100     & $0.790$ &  $0.867$ &    $0.000$ &  $0.746$ &  $0.730$ &    $0.420$ &  $0.924$ \\\\\n",
      "overall & $0.971$ &  $0.647$ &    $0.000$ &  $0.320$ &  $0.492$ &    $0.294$ &  $0.706$ \\\\\n",
      "\\bottomrule\n",
      "\\end{tabular}\n",
      "\\end{table}\n",
      "\n"
     ]
    },
    {
     "data": {
      "image/png": "[encoded data removed]",
      "text/plain": [
       "<Figure size 720x504 with 1 Axes>"
      ]
     },
     "metadata": {
      "needs_background": "light"
     },
     "output_type": "display_data"
    },
    {
     "data": {
      "image/png": "[encoded data removed]",
      "text/plain": [
       "<Figure size 720x504 with 1 Axes>"
      ]
     },
     "metadata": {
      "needs_background": "light"
     },
     "output_type": "display_data"
    },
    {
     "data": {
      "image/png": "[encoded data removed]",
      "text/plain": [
       "<Figure size 720x504 with 1 Axes>"
      ]
     },
     "metadata": {
      "needs_background": "light"
     },
     "output_type": "display_data"
    },
    {
     "data": {
      "image/png": "[encoded data removed]",
      "text/plain": [
       "<Figure size 720x504 with 1 Axes>"
      ]
     },
     "metadata": {
      "needs_background": "light"
     },
     "output_type": "display_data"
    }
   ],
   "source": [
    "for group in C_results:\n",
    "    df = C_results[group]\n",
    "    fig = df[df.index != 'overall'].plot(kind='line', style=['o-', 'v--', '^--', 's--', 'D--', 'p--', 'x--'],\n",
    "                                         #color=['navy', 'darkred', 'red', 'orangered', 'orange'],\n",
    "                                         figsize=(10,7), use_index=True)\n",
    "    latex = util.get_latex_table(df, index=True, caption='C', label='c')\n",
    "    dbnn_storage['reports']['comparison'][group] = {'fig' : fig, 'latex': latex}\n",
    "    print(latex)"
   ]
  },
  {
   "cell_type": "markdown",
   "metadata": {},
   "source": [
    "### Compare Performance Using the Set $\\mathcal{D}$"
   ]
  },
  {
   "cell_type": "code",
   "execution_count": 53,
   "metadata": {
    "ExecuteTime": {
     "end_time": "2020-09-24T01:48:56.638477Z",
     "start_time": "2020-09-24T01:39:57.335634Z"
    }
   },
   "outputs": [
    {
     "name": "stdout",
     "output_type": "stream",
     "text": [
      "SW 0.01\n"
     ]
    },
    {
     "name": "stderr",
     "output_type": "stream",
     "text": [
      "/home/milos/statisticka_klasifikacija/p3/lib/python3.6/site-packages/scipy/stats/morestats.py:1678: UserWarning: Input data for shapiro has range zero. The results may not be accurate.\n",
      "  warnings.warn(\"Input data for shapiro has range zero. The results \"\n"
     ]
    },
    {
     "name": "stdout",
     "output_type": "stream",
     "text": [
      "SW 0.05\n",
      "SW 0.1\n",
      "LF 0.01\n",
      "LF 0.05\n",
      "LF 0.1\n",
      "JB 0.01\n"
     ]
    },
    {
     "name": "stderr",
     "output_type": "stream",
     "text": [
      "/home/milos/statisticka_klasifikacija/p3/lib/python3.6/site-packages/scipy/stats/stats.py:1762: RuntimeWarning: invalid value encountered in double_scalars\n",
      "  skewness = (1 / n * np.sum(diffx**3)) / (1 / n * np.sum(diffx**2))**(3 / 2.)\n",
      "/home/milos/statisticka_klasifikacija/p3/lib/python3.6/site-packages/scipy/stats/stats.py:1763: RuntimeWarning: invalid value encountered in double_scalars\n",
      "  kurtosis = (1 / n * np.sum(diffx**4)) / (1 / n * np.sum(diffx**2))**2\n"
     ]
    },
    {
     "name": "stdout",
     "output_type": "stream",
     "text": [
      "JB 0.05\n",
      "JB 0.1\n",
      "AD 0.01\n"
     ]
    },
    {
     "name": "stderr",
     "output_type": "stream",
     "text": [
      "/home/milos/statisticka_klasifikacija/p3/lib/python3.6/site-packages/scipy/stats/morestats.py:1786: RuntimeWarning: invalid value encountered in true_divide\n",
      "  w = (y - xbar) / s\n"
     ]
    },
    {
     "name": "stdout",
     "output_type": "stream",
     "text": [
      "AD 0.05\n",
      "AD 0.1\n",
      "FSSD 0.01\n",
      "FSSD 0.05\n",
      "FSSD 0.1\n",
      "SBNN \n"
     ]
    },
    {
     "name": "stderr",
     "output_type": "stream",
     "text": [
      "/home/milos/statisticka_klasifikacija/p3/lib/python3.6/site-packages/numpy/lib/function_base.py:2559: RuntimeWarning: invalid value encountered in true_divide\n",
      "  c /= stddev[:, None]\n",
      "/home/milos/statisticka_klasifikacija/p3/lib/python3.6/site-packages/numpy/lib/function_base.py:2560: RuntimeWarning: invalid value encountered in true_divide\n",
      "  c /= stddev[None, :]\n",
      "ipynb.fs.defs.sbnn:167: RuntimeWarning: divide by zero encountered in double_scalars\n",
      "ipynb.fs.defs.sbnn:167: RuntimeWarning: invalid value encountered in double_scalars\n",
      "/home/milos/statisticka_klasifikacija/p3/lib/python3.6/site-packages/ipykernel_launcher.py:18: RuntimeWarning: invalid value encountered in double_scalars\n"
     ]
    }
   ],
   "source": [
    "samples = datasets['D']['samples']\n",
    "labels = datasets['D']['labels']\n",
    "\n",
    "dbnn_storage['results']['comparison']['D'] = {}\n",
    "\n",
    "metrics = ['A', 'TPR', 'PPV', 'TNR', 'NPV', 'F1', 'UR']\n",
    "\n",
    "for (code, alpha) in test_classifiers:\n",
    "    print(code, alpha)\n",
    "    classifier = test_classifiers[(code, alpha)]\n",
    "    results_df = util.evaluate_pretty(samples, labels, classifier, metrics=metrics)\n",
    "    dbnn_storage['results']['comparison']['D'][(code, alpha)] = results_df\n",
    "\n",
    "dbnn_storage['results']['comparison']['D'][('DBNN', '')] = util.evaluate_pretty(samples, labels, dbnn,\n",
    "                                                                               metrics=metrics)\n",
    "\n",
    "df_report = pd.concat(dbnn_storage['results']['comparison']['D'])\n",
    "df_report.index=pd.MultiIndex.from_tuples([(x[0], x[1]) for x in df_report.index])\n",
    "\n",
    "dbnn_storage['reports']['comparison']['D'] = {\n",
    "    'df' : df_report,\n",
    "    'latex' : util.get_latex_table(df_report, index=True)\n",
    "}"
   ]
  },
  {
   "cell_type": "markdown",
   "metadata": {},
   "source": [
    "Show the dataframe with the results."
   ]
  },
  {
   "cell_type": "code",
   "execution_count": 54,
   "metadata": {
    "ExecuteTime": {
     "end_time": "2020-09-24T01:52:57.550285Z",
     "start_time": "2020-09-24T01:52:57.535064Z"
    }
   },
   "outputs": [
    {
     "data": {
      "text/html": [
       "<div>\n",
       "<style scoped>\n",
       "    .dataframe tbody tr th:only-of-type {\n",
       "        vertical-align: middle;\n",
       "    }\n",
       "\n",
       "    .dataframe tbody tr th {\n",
       "        vertical-align: top;\n",
       "    }\n",
       "\n",
       "    .dataframe thead th {\n",
       "        text-align: right;\n",
       "    }\n",
       "</style>\n",
       "<table border=\"1\" class=\"dataframe\">\n",
       "  <thead>\n",
       "    <tr style=\"text-align: right;\">\n",
       "      <th></th>\n",
       "      <th></th>\n",
       "      <th>A</th>\n",
       "      <th>TPR</th>\n",
       "      <th>PPV</th>\n",
       "      <th>TNR</th>\n",
       "      <th>NPV</th>\n",
       "      <th>F1</th>\n",
       "      <th>UR</th>\n",
       "    </tr>\n",
       "  </thead>\n",
       "  <tbody>\n",
       "    <tr>\n",
       "      <th rowspan=\"3\" valign=\"top\">SW</th>\n",
       "      <th>0.01</th>\n",
       "      <td>0.820000</td>\n",
       "      <td>0.989425</td>\n",
       "      <td>0.739011</td>\n",
       "      <td>0.650575</td>\n",
       "      <td>0.984006</td>\n",
       "      <td>0.846078</td>\n",
       "      <td>0.000000</td>\n",
       "    </tr>\n",
       "    <tr>\n",
       "      <th>0.05</th>\n",
       "      <td>0.839464</td>\n",
       "      <td>0.953027</td>\n",
       "      <td>0.776633</td>\n",
       "      <td>0.725900</td>\n",
       "      <td>0.939223</td>\n",
       "      <td>0.855835</td>\n",
       "      <td>0.000000</td>\n",
       "    </tr>\n",
       "    <tr>\n",
       "      <th>0.1</th>\n",
       "      <td>0.835441</td>\n",
       "      <td>0.903218</td>\n",
       "      <td>0.795398</td>\n",
       "      <td>0.767663</td>\n",
       "      <td>0.888042</td>\n",
       "      <td>0.845886</td>\n",
       "      <td>0.000000</td>\n",
       "    </tr>\n",
       "    <tr>\n",
       "      <th rowspan=\"3\" valign=\"top\">LF</th>\n",
       "      <th>0.01</th>\n",
       "      <td>0.758659</td>\n",
       "      <td>0.990038</td>\n",
       "      <td>0.676830</td>\n",
       "      <td>0.527280</td>\n",
       "      <td>0.981458</td>\n",
       "      <td>0.804008</td>\n",
       "      <td>0.000000</td>\n",
       "    </tr>\n",
       "    <tr>\n",
       "      <th>0.05</th>\n",
       "      <td>0.791341</td>\n",
       "      <td>0.952031</td>\n",
       "      <td>0.720482</td>\n",
       "      <td>0.630651</td>\n",
       "      <td>0.929313</td>\n",
       "      <td>0.820228</td>\n",
       "      <td>0.000000</td>\n",
       "    </tr>\n",
       "    <tr>\n",
       "      <th>0.1</th>\n",
       "      <td>0.796897</td>\n",
       "      <td>0.900536</td>\n",
       "      <td>0.745922</td>\n",
       "      <td>0.693257</td>\n",
       "      <td>0.874529</td>\n",
       "      <td>0.815969</td>\n",
       "      <td>0.000000</td>\n",
       "    </tr>\n",
       "    <tr>\n",
       "      <th rowspan=\"3\" valign=\"top\">JB</th>\n",
       "      <th>0.01</th>\n",
       "      <td>0.810651</td>\n",
       "      <td>0.984215</td>\n",
       "      <td>0.730603</td>\n",
       "      <td>0.637088</td>\n",
       "      <td>0.975822</td>\n",
       "      <td>0.838655</td>\n",
       "      <td>0.000000</td>\n",
       "    </tr>\n",
       "    <tr>\n",
       "      <th>0.05</th>\n",
       "      <td>0.829502</td>\n",
       "      <td>0.967663</td>\n",
       "      <td>0.758165</td>\n",
       "      <td>0.691341</td>\n",
       "      <td>0.955316</td>\n",
       "      <td>0.850199</td>\n",
       "      <td>0.000000</td>\n",
       "    </tr>\n",
       "    <tr>\n",
       "      <th>0.1</th>\n",
       "      <td>0.835709</td>\n",
       "      <td>0.948352</td>\n",
       "      <td>0.773984</td>\n",
       "      <td>0.723065</td>\n",
       "      <td>0.933333</td>\n",
       "      <td>0.852342</td>\n",
       "      <td>0.000000</td>\n",
       "    </tr>\n",
       "    <tr>\n",
       "      <th rowspan=\"3\" valign=\"top\">AD</th>\n",
       "      <th>0.01</th>\n",
       "      <td>0.801762</td>\n",
       "      <td>0.991341</td>\n",
       "      <td>0.718802</td>\n",
       "      <td>0.612184</td>\n",
       "      <td>0.986053</td>\n",
       "      <td>0.833355</td>\n",
       "      <td>0.000000</td>\n",
       "    </tr>\n",
       "    <tr>\n",
       "      <th>0.05</th>\n",
       "      <td>0.826820</td>\n",
       "      <td>0.951264</td>\n",
       "      <td>0.761689</td>\n",
       "      <td>0.702375</td>\n",
       "      <td>0.935115</td>\n",
       "      <td>0.845986</td>\n",
       "      <td>0.000000</td>\n",
       "    </tr>\n",
       "    <tr>\n",
       "      <th>0.1</th>\n",
       "      <td>0.826973</td>\n",
       "      <td>0.897701</td>\n",
       "      <td>0.786453</td>\n",
       "      <td>0.756245</td>\n",
       "      <td>0.880846</td>\n",
       "      <td>0.838403</td>\n",
       "      <td>0.000000</td>\n",
       "    </tr>\n",
       "    <tr>\n",
       "      <th rowspan=\"3\" valign=\"top\">FSSD</th>\n",
       "      <th>0.01</th>\n",
       "      <td>0.484370</td>\n",
       "      <td>0.691034</td>\n",
       "      <td>0.491980</td>\n",
       "      <td>0.274145</td>\n",
       "      <td>0.465890</td>\n",
       "      <td>0.574761</td>\n",
       "      <td>0.008467</td>\n",
       "    </tr>\n",
       "    <tr>\n",
       "      <th>0.05</th>\n",
       "      <td>0.504038</td>\n",
       "      <td>0.677241</td>\n",
       "      <td>0.506157</td>\n",
       "      <td>0.327851</td>\n",
       "      <td>0.499644</td>\n",
       "      <td>0.579332</td>\n",
       "      <td>0.008467</td>\n",
       "    </tr>\n",
       "    <tr>\n",
       "      <th>0.1</th>\n",
       "      <td>0.520577</td>\n",
       "      <td>0.654330</td>\n",
       "      <td>0.519562</td>\n",
       "      <td>0.384519</td>\n",
       "      <td>0.522342</td>\n",
       "      <td>0.579210</td>\n",
       "      <td>0.008467</td>\n",
       "    </tr>\n",
       "    <tr>\n",
       "      <th>SBNN</th>\n",
       "      <th></th>\n",
       "      <td>0.850805</td>\n",
       "      <td>0.933563</td>\n",
       "      <td>0.800986</td>\n",
       "      <td>0.768046</td>\n",
       "      <td>0.920386</td>\n",
       "      <td>0.862208</td>\n",
       "      <td>0.000000</td>\n",
       "    </tr>\n",
       "    <tr>\n",
       "      <th>DBNN</th>\n",
       "      <th></th>\n",
       "      <td>0.912337</td>\n",
       "      <td>0.878161</td>\n",
       "      <td>0.942589</td>\n",
       "      <td>0.946513</td>\n",
       "      <td>0.885956</td>\n",
       "      <td>0.909235</td>\n",
       "      <td>0.000000</td>\n",
       "    </tr>\n",
       "  </tbody>\n",
       "</table>\n",
       "</div>"
      ],
      "text/plain": [
       "                  A       TPR       PPV       TNR       NPV        F1  \\\n",
       "SW   0.01  0.820000  0.989425  0.739011  0.650575  0.984006  0.846078   \n",
       "     0.05  0.839464  0.953027  0.776633  0.725900  0.939223  0.855835   \n",
       "     0.1   0.835441  0.903218  0.795398  0.767663  0.888042  0.845886   \n",
       "LF   0.01  0.758659  0.990038  0.676830  0.527280  0.981458  0.804008   \n",
       "     0.05  0.791341  0.952031  0.720482  0.630651  0.929313  0.820228   \n",
       "     0.1   0.796897  0.900536  0.745922  0.693257  0.874529  0.815969   \n",
       "JB   0.01  0.810651  0.984215  0.730603  0.637088  0.975822  0.838655   \n",
       "     0.05  0.829502  0.967663  0.758165  0.691341  0.955316  0.850199   \n",
       "     0.1   0.835709  0.948352  0.773984  0.723065  0.933333  0.852342   \n",
       "AD   0.01  0.801762  0.991341  0.718802  0.612184  0.986053  0.833355   \n",
       "     0.05  0.826820  0.951264  0.761689  0.702375  0.935115  0.845986   \n",
       "     0.1   0.826973  0.897701  0.786453  0.756245  0.880846  0.838403   \n",
       "FSSD 0.01  0.484370  0.691034  0.491980  0.274145  0.465890  0.574761   \n",
       "     0.05  0.504038  0.677241  0.506157  0.327851  0.499644  0.579332   \n",
       "     0.1   0.520577  0.654330  0.519562  0.384519  0.522342  0.579210   \n",
       "SBNN       0.850805  0.933563  0.800986  0.768046  0.920386  0.862208   \n",
       "DBNN       0.912337  0.878161  0.942589  0.946513  0.885956  0.909235   \n",
       "\n",
       "                 UR  \n",
       "SW   0.01  0.000000  \n",
       "     0.05  0.000000  \n",
       "     0.1   0.000000  \n",
       "LF   0.01  0.000000  \n",
       "     0.05  0.000000  \n",
       "     0.1   0.000000  \n",
       "JB   0.01  0.000000  \n",
       "     0.05  0.000000  \n",
       "     0.1   0.000000  \n",
       "AD   0.01  0.000000  \n",
       "     0.05  0.000000  \n",
       "     0.1   0.000000  \n",
       "FSSD 0.01  0.008467  \n",
       "     0.05  0.008467  \n",
       "     0.1   0.008467  \n",
       "SBNN       0.000000  \n",
       "DBNN       0.000000  "
      ]
     },
     "execution_count": 54,
     "metadata": {},
     "output_type": "execute_result"
    }
   ],
   "source": [
    "df_report"
   ]
  },
  {
   "cell_type": "markdown",
   "metadata": {},
   "source": [
    "Show the LaTeX table."
   ]
  },
  {
   "cell_type": "code",
   "execution_count": 55,
   "metadata": {
    "ExecuteTime": {
     "end_time": "2020-09-24T01:54:42.421922Z",
     "start_time": "2020-09-24T01:54:42.412048Z"
    }
   },
   "outputs": [
    {
     "name": "stdout",
     "output_type": "stream",
     "text": [
      "\\begin{tabular}{llrrrrrrr}\n",
      "\\toprule\n",
      "     &     &       A &     TPR &     PPV &     TNR &     NPV &      F1 &      UR \\\\\n",
      "\\midrule\n",
      "SW & 0.01 & $0.820$ & $0.989$ & $0.739$ & $0.651$ & $0.984$ & $0.846$ & $0.000$ \\\\\n",
      "     & 0.05 & $0.839$ & $0.953$ & $0.777$ & $0.726$ & $0.939$ & $0.856$ & $0.000$ \\\\\n",
      "     & 0.1 & $0.835$ & $0.903$ & $0.795$ & $0.768$ & $0.888$ & $0.846$ & $0.000$ \\\\\n",
      "LF & 0.01 & $0.759$ & $0.990$ & $0.677$ & $0.527$ & $0.981$ & $0.804$ & $0.000$ \\\\\n",
      "     & 0.05 & $0.791$ & $0.952$ & $0.720$ & $0.631$ & $0.929$ & $0.820$ & $0.000$ \\\\\n",
      "     & 0.1 & $0.797$ & $0.901$ & $0.746$ & $0.693$ & $0.875$ & $0.816$ & $0.000$ \\\\\n",
      "JB & 0.01 & $0.811$ & $0.984$ & $0.731$ & $0.637$ & $0.976$ & $0.839$ & $0.000$ \\\\\n",
      "     & 0.05 & $0.830$ & $0.968$ & $0.758$ & $0.691$ & $0.955$ & $0.850$ & $0.000$ \\\\\n",
      "     & 0.1 & $0.836$ & $0.948$ & $0.774$ & $0.723$ & $0.933$ & $0.852$ & $0.000$ \\\\\n",
      "AD & 0.01 & $0.802$ & $0.991$ & $0.719$ & $0.612$ & $0.986$ & $0.833$ & $0.000$ \\\\\n",
      "     & 0.05 & $0.827$ & $0.951$ & $0.762$ & $0.702$ & $0.935$ & $0.846$ & $0.000$ \\\\\n",
      "     & 0.1 & $0.827$ & $0.898$ & $0.786$ & $0.756$ & $0.881$ & $0.838$ & $0.000$ \\\\\n",
      "FSSD & 0.01 & $0.484$ & $0.691$ & $0.492$ & $0.274$ & $0.466$ & $0.575$ & $0.008$ \\\\\n",
      "     & 0.05 & $0.504$ & $0.677$ & $0.506$ & $0.328$ & $0.500$ & $0.579$ & $0.008$ \\\\\n",
      "     & 0.1 & $0.521$ & $0.654$ & $0.520$ & $0.385$ & $0.522$ & $0.579$ & $0.008$ \\\\\n",
      "SBNN &     & $0.851$ & $0.934$ & $0.801$ & $0.768$ & $0.920$ & $0.862$ & $0.000$ \\\\\n",
      "DBNN &     & $0.912$ & $0.878$ & $0.943$ & $0.947$ & $0.886$ & $0.909$ & $0.000$ \\\\\n",
      "\\bottomrule\n",
      "\\end{tabular}\n",
      "\n"
     ]
    }
   ],
   "source": [
    "print(util.get_latex_table(df_report, index=True))"
   ]
  },
  {
   "cell_type": "markdown",
   "metadata": {},
   "source": [
    "#### Conduct ROC Analysis"
   ]
  },
  {
   "cell_type": "markdown",
   "metadata": {},
   "source": [
    "Plot the ROC curves and calculate the areas under them."
   ]
  },
  {
   "cell_type": "code",
   "execution_count": 31,
   "metadata": {
    "ExecuteTime": {
     "end_time": "2020-09-24T07:04:42.337175Z",
     "start_time": "2020-09-24T07:01:17.991565Z"
    },
    "scrolled": false
   },
   "outputs": [
    {
     "name": "stdout",
     "output_type": "stream",
     "text": [
      "DBNN\n"
     ]
    },
    {
     "name": "stderr",
     "output_type": "stream",
     "text": [
      "/home/milos/statisticka_klasifikacija/p3/lib/python3.6/site-packages/ipykernel_launcher.py:18: RuntimeWarning: invalid value encountered in double_scalars\n"
     ]
    },
    {
     "name": "stdout",
     "output_type": "stream",
     "text": [
      "LF\n",
      "JB\n"
     ]
    },
    {
     "name": "stderr",
     "output_type": "stream",
     "text": [
      "/home/milos/statisticka_klasifikacija/p3/lib/python3.6/site-packages/scipy/stats/stats.py:1762: RuntimeWarning: invalid value encountered in double_scalars\n",
      "  skewness = (1 / n * np.sum(diffx**3)) / (1 / n * np.sum(diffx**2))**(3 / 2.)\n",
      "/home/milos/statisticka_klasifikacija/p3/lib/python3.6/site-packages/scipy/stats/stats.py:1763: RuntimeWarning: invalid value encountered in double_scalars\n",
      "  kurtosis = (1 / n * np.sum(diffx**4)) / (1 / n * np.sum(diffx**2))**2\n"
     ]
    },
    {
     "name": "stdout",
     "output_type": "stream",
     "text": [
      "AD\n"
     ]
    },
    {
     "name": "stderr",
     "output_type": "stream",
     "text": [
      "/home/milos/statisticka_klasifikacija/p3/lib/python3.6/site-packages/scipy/stats/morestats.py:1786: RuntimeWarning: invalid value encountered in true_divide\n",
      "  w = (y - xbar) / s\n"
     ]
    },
    {
     "name": "stdout",
     "output_type": "stream",
     "text": [
      "SW\n"
     ]
    },
    {
     "name": "stderr",
     "output_type": "stream",
     "text": [
      "/home/milos/statisticka_klasifikacija/p3/lib/python3.6/site-packages/scipy/stats/morestats.py:1678: UserWarning: Input data for shapiro has range zero. The results may not be accurate.\n",
      "  warnings.warn(\"Input data for shapiro has range zero. The results \"\n"
     ]
    },
    {
     "name": "stdout",
     "output_type": "stream",
     "text": [
      "FSSD\n",
      "sigma2 must be > 0. Was 0.0\n",
      "sigma2 must be > 0. Was 0.0\n",
      "sigma2 must be > 0. Was 0.0\n",
      "sigma2 must be > 0. Was 0.0\n",
      "sigma2 must be > 0. Was 0.0\n",
      "sigma2 must be > 0. Was 0.0\n",
      "sigma2 must be > 0. Was 0.0\n",
      "sigma2 must be > 0. Was 0.0\n",
      "sigma2 must be > 0. Was 0.0\n",
      "sigma2 must be > 0. Was 0.0\n",
      "sigma2 must be > 0. Was 0.0\n",
      "sigma2 must be > 0. Was 0.0\n",
      "sigma2 must be > 0. Was 0.0\n",
      "sigma2 must be > 0. Was 0.0\n",
      "sigma2 must be > 0. Was 0.0\n",
      "sigma2 must be > 0. Was 0.0\n",
      "sigma2 must be > 0. Was 0.0\n",
      "sigma2 must be > 0. Was 0.0\n",
      "sigma2 must be > 0. Was 0.0\n",
      "sigma2 must be > 0. Was 0.0\n",
      "sigma2 must be > 0. Was 0.0\n",
      "sigma2 must be > 0. Was 0.0\n",
      "sigma2 must be > 0. Was 0.0\n",
      "sigma2 must be > 0. Was 0.0\n",
      "sigma2 must be > 0. Was 0.0\n",
      "sigma2 must be > 0. Was 0.0\n",
      "sigma2 must be > 0. Was 0.0\n",
      "sigma2 must be > 0. Was 0.0\n",
      "sigma2 must be > 0. Was 0.0\n",
      "sigma2 must be > 0. Was 0.0\n",
      "sigma2 must be > 0. Was 0.0\n",
      "sigma2 must be > 0. Was 0.0\n",
      "sigma2 must be > 0. Was 0.0\n",
      "sigma2 must be > 0. Was 0.0\n",
      "sigma2 must be > 0. Was 0.0\n",
      "sigma2 must be > 0. Was 0.0\n",
      "sigma2 must be > 0. Was 0.0\n",
      "sigma2 must be > 0. Was 0.0\n",
      "sigma2 must be > 0. Was 0.0\n",
      "sigma2 must be > 0. Was 0.0\n",
      "sigma2 must be > 0. Was 0.0\n",
      "sigma2 must be > 0. Was 0.0\n",
      "sigma2 must be > 0. Was 0.0\n",
      "sigma2 must be > 0. Was 0.0\n",
      "sigma2 must be > 0. Was 0.0\n",
      "sigma2 must be > 0. Was 0.0\n",
      "sigma2 must be > 0. Was 0.0\n",
      "sigma2 must be > 0. Was 0.0\n",
      "sigma2 must be > 0. Was 0.0\n",
      "sigma2 must be > 0. Was 0.0\n",
      "sigma2 must be > 0. Was 0.0\n",
      "sigma2 must be > 0. Was 0.0\n",
      "sigma2 must be > 0. Was 0.0\n",
      "sigma2 must be > 0. Was 0.0\n",
      "sigma2 must be > 0. Was 0.0\n",
      "sigma2 must be > 0. Was 0.0\n",
      "sigma2 must be > 0. Was 0.0\n",
      "sigma2 must be > 0. Was 0.0\n",
      "sigma2 must be > 0. Was 0.0\n",
      "sigma2 must be > 0. Was 0.0\n",
      "sigma2 must be > 0. Was 0.0\n",
      "sigma2 must be > 0. Was 0.0\n",
      "sigma2 must be > 0. Was 0.0\n",
      "sigma2 must be > 0. Was 0.0\n",
      "sigma2 must be > 0. Was 0.0\n",
      "sigma2 must be > 0. Was 0.0\n",
      "sigma2 must be > 0. Was 0.0\n",
      "sigma2 must be > 0. Was 0.0\n",
      "sigma2 must be > 0. Was 0.0\n",
      "sigma2 must be > 0. Was 0.0\n",
      "sigma2 must be > 0. Was 0.0\n",
      "sigma2 must be > 0. Was 0.0\n",
      "sigma2 must be > 0. Was 0.0\n",
      "sigma2 must be > 0. Was 0.0\n",
      "sigma2 must be > 0. Was 0.0\n",
      "sigma2 must be > 0. Was 0.0\n",
      "sigma2 must be > 0. Was 0.0\n",
      "sigma2 must be > 0. Was 0.0\n",
      "sigma2 must be > 0. Was 0.0\n",
      "sigma2 must be > 0. Was 0.0\n",
      "sigma2 must be > 0. Was 0.0\n",
      "sigma2 must be > 0. Was 0.0\n",
      "sigma2 must be > 0. Was 0.0\n",
      "sigma2 must be > 0. Was 0.0\n",
      "sigma2 must be > 0. Was 0.0\n",
      "sigma2 must be > 0. Was 0.0\n",
      "sigma2 must be > 0. Was 0.0\n",
      "sigma2 must be > 0. Was 0.0\n",
      "sigma2 must be > 0. Was 0.0\n",
      "sigma2 must be > 0. Was 0.0\n",
      "sigma2 must be > 0. Was 0.0\n",
      "sigma2 must be > 0. Was 0.0\n",
      "sigma2 must be > 0. Was 0.0\n",
      "sigma2 must be > 0. Was 0.0\n",
      "sigma2 must be > 0. Was 0.0\n",
      "sigma2 must be > 0. Was 0.0\n",
      "sigma2 must be > 0. Was 0.0\n",
      "sigma2 must be > 0. Was 0.0\n",
      "sigma2 must be > 0. Was 0.0\n",
      "sigma2 must be > 0. Was 0.0\n",
      "sigma2 must be > 0. Was 0.0\n",
      "sigma2 must be > 0. Was 0.0\n",
      "sigma2 must be > 0. Was 0.0\n",
      "sigma2 must be > 0. Was 0.0\n",
      "sigma2 must be > 0. Was 0.0\n",
      "sigma2 must be > 0. Was 0.0\n",
      "sigma2 must be > 0. Was 0.0\n",
      "sigma2 must be > 0. Was 0.0\n",
      "sigma2 must be > 0. Was 0.0\n",
      "sigma2 must be > 0. Was 0.0\n",
      "sigma2 must be > 0. Was 0.0\n",
      "sigma2 must be > 0. Was 0.0\n",
      "sigma2 must be > 0. Was 0.0\n",
      "sigma2 must be > 0. Was 0.0\n",
      "sigma2 must be > 0. Was 0.0\n",
      "sigma2 must be > 0. Was 0.0\n",
      "sigma2 must be > 0. Was 0.0\n",
      "sigma2 must be > 0. Was 0.0\n",
      "sigma2 must be > 0. Was 0.0\n",
      "sigma2 must be > 0. Was 0.0\n",
      "sigma2 must be > 0. Was 0.0\n",
      "sigma2 must be > 0. Was 0.0\n",
      "sigma2 must be > 0. Was 0.0\n",
      "sigma2 must be > 0. Was 0.0\n",
      "sigma2 must be > 0. Was 0.0\n",
      "sigma2 must be > 0. Was 0.0\n",
      "sigma2 must be > 0. Was 0.0\n",
      "sigma2 must be > 0. Was 0.0\n",
      "sigma2 must be > 0. Was 0.0\n",
      "sigma2 must be > 0. Was 0.0\n",
      "sigma2 must be > 0. Was 0.0\n",
      "sigma2 must be > 0. Was 0.0\n",
      "sigma2 must be > 0. Was 0.0\n",
      "sigma2 must be > 0. Was 0.0\n",
      "sigma2 must be > 0. Was 0.0\n",
      "sigma2 must be > 0. Was 0.0\n",
      "sigma2 must be > 0. Was 0.0\n",
      "sigma2 must be > 0. Was 0.0\n",
      "sigma2 must be > 0. Was 0.0\n",
      "sigma2 must be > 0. Was 0.0\n",
      "sigma2 must be > 0. Was 0.0\n",
      "sigma2 must be > 0. Was 0.0\n",
      "sigma2 must be > 0. Was 0.0\n",
      "sigma2 must be > 0. Was 0.0\n",
      "sigma2 must be > 0. Was 0.0\n",
      "sigma2 must be > 0. Was 0.0\n",
      "sigma2 must be > 0. Was 0.0\n",
      "sigma2 must be > 0. Was 0.0\n",
      "sigma2 must be > 0. Was 0.0\n",
      "sigma2 must be > 0. Was 0.0\n",
      "sigma2 must be > 0. Was 0.0\n",
      "sigma2 must be > 0. Was 0.0\n",
      "sigma2 must be > 0. Was 0.0\n",
      "sigma2 must be > 0. Was 0.0\n",
      "sigma2 must be > 0. Was 0.0\n",
      "sigma2 must be > 0. Was 0.0\n",
      "sigma2 must be > 0. Was 0.0\n",
      "sigma2 must be > 0. Was 0.0\n",
      "sigma2 must be > 0. Was 0.0\n",
      "sigma2 must be > 0. Was 0.0\n",
      "sigma2 must be > 0. Was 0.0\n",
      "sigma2 must be > 0. Was 0.0\n",
      "sigma2 must be > 0. Was 0.0\n",
      "sigma2 must be > 0. Was 0.0\n",
      "sigma2 must be > 0. Was 0.0\n",
      "sigma2 must be > 0. Was 0.0\n",
      "sigma2 must be > 0. Was 0.0\n",
      "sigma2 must be > 0. Was 0.0\n",
      "sigma2 must be > 0. Was 0.0\n",
      "sigma2 must be > 0. Was 0.0\n",
      "sigma2 must be > 0. Was 0.0\n",
      "sigma2 must be > 0. Was 0.0\n",
      "sigma2 must be > 0. Was 0.0\n",
      "sigma2 must be > 0. Was 0.0\n",
      "sigma2 must be > 0. Was 0.0\n",
      "sigma2 must be > 0. Was 0.0\n",
      "sigma2 must be > 0. Was 0.0\n",
      "sigma2 must be > 0. Was 0.0\n",
      "sigma2 must be > 0. Was 0.0\n",
      "sigma2 must be > 0. Was 0.0\n",
      "sigma2 must be > 0. Was 0.0\n",
      "sigma2 must be > 0. Was 0.0\n",
      "sigma2 must be > 0. Was 0.0\n",
      "sigma2 must be > 0. Was 0.0\n",
      "sigma2 must be > 0. Was 0.0\n",
      "sigma2 must be > 0. Was 0.0\n",
      "sigma2 must be > 0. Was 0.0\n",
      "sigma2 must be > 0. Was 0.0\n",
      "sigma2 must be > 0. Was 0.0\n",
      "sigma2 must be > 0. Was 0.0\n",
      "sigma2 must be > 0. Was 0.0\n",
      "sigma2 must be > 0. Was 0.0\n",
      "sigma2 must be > 0. Was 0.0\n",
      "sigma2 must be > 0. Was 0.0\n",
      "sigma2 must be > 0. Was 0.0\n",
      "sigma2 must be > 0. Was 0.0\n",
      "sigma2 must be > 0. Was 0.0\n",
      "sigma2 must be > 0. Was 0.0\n",
      "sigma2 must be > 0. Was 0.0\n",
      "sigma2 must be > 0. Was 0.0\n",
      "sigma2 must be > 0. Was 0.0\n",
      "sigma2 must be > 0. Was 0.0\n",
      "sigma2 must be > 0. Was 0.0\n",
      "sigma2 must be > 0. Was 0.0\n",
      "sigma2 must be > 0. Was 0.0\n",
      "sigma2 must be > 0. Was 0.0\n",
      "sigma2 must be > 0. Was 0.0\n",
      "sigma2 must be > 0. Was 0.0\n",
      "sigma2 must be > 0. Was 0.0\n",
      "sigma2 must be > 0. Was 0.0\n",
      "sigma2 must be > 0. Was 0.0\n",
      "sigma2 must be > 0. Was 0.0\n",
      "sigma2 must be > 0. Was 0.0\n",
      "sigma2 must be > 0. Was 0.0\n",
      "sigma2 must be > 0. Was 0.0\n",
      "sigma2 must be > 0. Was 0.0\n",
      "sigma2 must be > 0. Was 0.0\n",
      "sigma2 must be > 0. Was 0.0\n",
      "sigma2 must be > 0. Was 0.0\n",
      "sigma2 must be > 0. Was 0.0\n",
      "sigma2 must be > 0. Was 0.0\n",
      "SBNN\n"
     ]
    },
    {
     "name": "stderr",
     "output_type": "stream",
     "text": [
      "/home/milos/statisticka_klasifikacija/p3/lib/python3.6/site-packages/numpy/lib/function_base.py:2559: RuntimeWarning: invalid value encountered in true_divide\n",
      "  c /= stddev[:, None]\n",
      "/home/milos/statisticka_klasifikacija/p3/lib/python3.6/site-packages/numpy/lib/function_base.py:2560: RuntimeWarning: invalid value encountered in true_divide\n",
      "  c /= stddev[None, :]\n",
      "/home/milos/statisticka_klasifikacija/p3/lib/python3.6/site-packages/scipy/stats/morestats.py:1678: UserWarning: Input data for shapiro has range zero. The results may not be accurate.\n",
      "  warnings.warn(\"Input data for shapiro has range zero. The results \"\n",
      "ipynb.fs.defs.sbnn:167: RuntimeWarning: divide by zero encountered in double_scalars\n",
      "ipynb.fs.defs.sbnn:167: RuntimeWarning: invalid value encountered in double_scalars\n"
     ]
    },
    {
     "data": {
      "text/plain": [
       "<matplotlib.legend.Legend at 0x7fa7d5fd3400>"
      ]
     },
     "execution_count": 31,
     "metadata": {},
     "output_type": "execute_result"
    },
    {
     "data": {
      "image/png": "[encoded data removed]",
      "text/plain": [
       "<Figure size 720x504 with 1 Axes>"
      ]
     },
     "metadata": {
      "needs_background": "light"
     },
     "output_type": "display_data"
    }
   ],
   "source": [
    "samples = datasets['D']['samples']\n",
    "labels = datasets['D']['labels']\n",
    "\n",
    "fig = plt.figure(figsize=(10, 7))\n",
    "styles = ['dotted', 'dashed', 'dashdot', (0, (3, 5, 1, 5, 1, 5))] * 4\n",
    "\n",
    "aurocs = {}\n",
    "\n",
    "print('DBNN')\n",
    "prepared_input = prepare_input(samples, dbnn)\n",
    "probabilities = dbnn['neural_net'].predict_proba(prepared_input)\n",
    "scores = probabilities[:, 1]\n",
    "mask = np.isfinite(np.array(scores))    \n",
    "filtered_labels = np.array(labels)[mask]\n",
    "filtered_scores = np.array(scores)[mask]\n",
    "fpr, tpr, tr = sklearn.metrics.roc_curve(filtered_labels, filtered_scores, pos_label=1)\n",
    "plt.plot(fpr, tpr, label='DBNN', linestyle='-', linewidth=3)\n",
    "aurocs['DBNN'] = sklearn.metrics.roc_auc_score(filtered_labels, filtered_scores)\n",
    "\n",
    "for code in ['LF', 'JB', 'AD', 'SW', 'FSSD']:\n",
    "    alpha = 0.01\n",
    "    print(code)\n",
    "    _, statistic = util.get_test(code)\n",
    "    scores = np.array([statistic(sample) for sample in samples])\n",
    "    \n",
    "    if code in ['LF', 'JB', 'AD', 'FSSD']:\n",
    "        scores = -scores\n",
    "    \n",
    "    mask = np.isfinite(scores)   \n",
    "    filtered_labels = np.array(labels)[mask]\n",
    "    filtered_scores = np.array(scores)[mask]\n",
    "    \n",
    "    fpr, tpr, tr = sklearn.metrics.roc_curve(filtered_labels, filtered_scores, pos_label=1)\n",
    "    \n",
    "    plt.plot(fpr, tpr, label=code, linestyle=styles.pop(0), linewidth=3)\n",
    "    aurocs[code] = sklearn.metrics.roc_auc_score(filtered_labels, filtered_scores)\n",
    "    \n",
    "\n",
    "\n",
    "print('SBNN')\n",
    "data = sbnn['preprocessor'].transform(samples)\n",
    "data = sbnn['scaler'].transform(data)\n",
    "prepared_input = sbnn['imputer'].transform(data)\n",
    "probabilities = sbnn['neural_net'].predict_proba(prepared_input)\n",
    "scores = probabilities[:, 1]\n",
    "mask = np.isfinite(np.array(scores))    \n",
    "filtered_labels = np.array(labels)[mask]\n",
    "filtered_scores = np.array(scores)[mask]\n",
    "fpr, tpr, tr = sklearn.metrics.roc_curve(filtered_labels, filtered_scores, pos_label=1)\n",
    "plt.plot(fpr, tpr, label='SBNN', linestyle=styles.pop(0), linewidth=3)\n",
    "aurocs['SBNN'] = sklearn.metrics.roc_auc_score(filtered_labels, filtered_scores)\n",
    "\n",
    "plt.xlabel('FPR')\n",
    "plt.ylabel('TPR')\n",
    "plt.legend(fontsize=13)"
   ]
  },
  {
   "cell_type": "markdown",
   "metadata": {},
   "source": [
    "Show the values of the AUROC."
   ]
  },
  {
   "cell_type": "code",
   "execution_count": 32,
   "metadata": {
    "ExecuteTime": {
     "end_time": "2020-09-24T07:04:42.342444Z",
     "start_time": "2020-09-24T07:04:42.338643Z"
    },
    "scrolled": true
   },
   "outputs": [
    {
     "data": {
      "text/plain": [
       "{'DBNN': 0.9784889534798373,\n",
       " 'LF': 0.8288502341421882,\n",
       " 'JB': 0.8801876654662654,\n",
       " 'AD': 0.8823062620539311,\n",
       " 'SW': 0.8849667063020215,\n",
       " 'FSSD': 0.5997390460848252,\n",
       " 'SBNN': 0.9198287811394431}"
      ]
     },
     "execution_count": 32,
     "metadata": {},
     "output_type": "execute_result"
    }
   ],
   "source": [
    "aurocs"
   ]
  },
  {
   "cell_type": "markdown",
   "metadata": {},
   "source": [
    "Store the calculated values and the figure."
   ]
  },
  {
   "cell_type": "code",
   "execution_count": 39,
   "metadata": {
    "ExecuteTime": {
     "end_time": "2020-09-24T07:08:28.557005Z",
     "start_time": "2020-09-24T07:08:28.551368Z"
    }
   },
   "outputs": [],
   "source": [
    "dbnn_storage['results']['comparison']['D'] = {}\n",
    "dbnn_storage['results']['comparison']['D']['auroc'] = aurocs\n",
    "dbnn_storage['reports']['comparison']['D']['auroc_fig'] = fig"
   ]
  },
  {
   "cell_type": "markdown",
   "metadata": {},
   "source": [
    "## Save\n",
    "\n",
    "Save the classifier, the results and reports."
   ]
  },
  {
   "cell_type": "code",
   "execution_count": null,
   "metadata": {},
   "outputs": [],
   "source": [
    "classifier = grid.best_estimator_\n",
    "path = os.path.join(classifiers_directory_path, 'dbnn.p')\n",
    "with open(path, 'wb') as f:\n",
    "    pickle.dump(classifier, f)\n",
    "    \n",
    "results_directory_path = configuration['results']['directory_path']\n",
    "path = os.path.join(results_directory_path, 'dbnn_results.p')\n",
    "with open(path, 'wb') as f:\n",
    "    pickle.dump(dbnn_storage['results'], f)\n",
    "\n",
    "reports_directory_path = configuration['reports']['directory_path']\n",
    "path = os.path.join(reports_directory_path, 'dbnn')\n",
    "pathlib.Path(*path.split(os.sep)).mkdir(parents=True, exist_ok=True)\n",
    "\n",
    "reports_directory_path = path\n",
    "path = os.path.join(reports_directory_path, 'dbnn_reports.p')\n",
    "with open(path, 'wb') as f:\n",
    "    pickle.dump(dbnn_storage['reports'], f)"
   ]
  },
  {
   "cell_type": "markdown",
   "metadata": {
    "scrolled": true
   },
   "source": [
    "Save the images as PDF files."
   ]
  },
  {
   "cell_type": "code",
   "execution_count": null,
   "metadata": {
    "ExecuteTime": {
     "end_time": "2020-09-07T12:20:25.617611Z",
     "start_time": "2020-09-07T12:20:25.610972Z"
    }
   },
   "outputs": [],
   "source": [
    "def traverse_and_save(dictionary, img_dir_path):\n",
    "    if type(dictionary) is not dict:\n",
    "        return\n",
    "    for key in dictionary:\n",
    "        if 'fig' in key:\n",
    "            pathlib.Path(*img_dir_path.split(os.sep)).mkdir(parents=True, exist_ok=True)\n",
    "            figure = dictionary[key]\n",
    "            path = os.path.join(img_dir_path, img_dir_path.split(os.sep)[-1] + '_' + key) + '.pdf'\n",
    "            print('Saving', path)\n",
    "            if 'savefig' in dir(figure):\n",
    "                figure.savefig(path, bbox_inches='tight')\n",
    "            else:\n",
    "                figure.figure.savefig(path, bbox_inches='tight')\n",
    "        else:\n",
    "            traverse_and_save(dictionary[key], os.path.join(img_dir_path, key))"
   ]
  },
  {
   "cell_type": "code",
   "execution_count": null,
   "metadata": {},
   "outputs": [],
   "source": [
    "traverse_and_save(dbnn_storage['reports'], reports_directory_path)"
   ]
  },
  {
   "cell_type": "markdown",
   "metadata": {},
   "source": [
    "Save the updated configuration dictionary."
   ]
  },
  {
   "cell_type": "code",
   "execution_count": null,
   "metadata": {},
   "outputs": [],
   "source": [
    "with open(config_path, 'wb') as f:\n",
    "    pickle.dump(configuration, f)"
   ]
  }
 ],
 "metadata": {
  "kernelspec": {
   "display_name": "p3normal",
   "language": "python",
   "name": "p3normal"
  },
  "language_info": {
   "codemirror_mode": {
    "name": "ipython",
    "version": 3
   },
   "file_extension": ".py",
   "mimetype": "text/x-python",
   "name": "python",
   "nbconvert_exporter": "python",
   "pygments_lexer": "ipython3",
   "version": "3.6.9"
  },
  "toc": {
   "base_numbering": 1,
   "nav_menu": {},
   "number_sections": true,
   "sideBar": true,
   "skip_h1_title": false,
   "title_cell": "Table of Contents",
   "title_sidebar": "Contents",
   "toc_cell": true,
   "toc_position": {
    "height": "486.217px",
    "left": "1024px",
    "top": "140.533px",
    "width": "339.9px"
   },
   "toc_section_display": true,
   "toc_window_display": true
  }
 },
 "nbformat": 4,
 "nbformat_minor": 4
}
