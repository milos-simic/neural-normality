{
 "cells": [
  {
   "cell_type": "markdown",
   "metadata": {
    "toc": true
   },
   "source": [
    "<h1>Table of Contents<span class=\"tocSkip\"></span></h1>\n",
    "<div class=\"toc\"><ul class=\"toc-item\"><li><span><a href=\"#Set-up-the-Environment\" data-toc-modified-id=\"Set-up-the-Environment-1\"><span class=\"toc-item-num\">1&nbsp;&nbsp;</span>Set up the Environment</a></span></li><li><span><a href=\"#Find-the-Critical-Values-Corresponding-to-$\\alpha=0.01,-0.05$\" data-toc-modified-id=\"Find-the-Critical-Values-Corresponding-to-$\\alpha=0.01,-0.05$-2\"><span class=\"toc-item-num\">2&nbsp;&nbsp;</span>Find the Critical Values Corresponding to $\\alpha=0.01, 0.05$</a></span><ul class=\"toc-item\"><li><span><a href=\"#Run-Simulations-to-Find-the-Values\" data-toc-modified-id=\"Run-Simulations-to-Find-the-Values-2.1\"><span class=\"toc-item-num\">2.1&nbsp;&nbsp;</span>Run Simulations to Find the Values</a></span></li><li><span><a href=\"#Check-if-the-Tests'-Sizes-Correspond-to-the-Nominal-Values-of-$\\alpha$\" data-toc-modified-id=\"Check-if-the-Tests'-Sizes-Correspond-to-the-Nominal-Values-of-$\\alpha$-2.2\"><span class=\"toc-item-num\">2.2&nbsp;&nbsp;</span>Check if the Tests' Sizes Correspond to the Nominal Values of $\\alpha$</a></span></li></ul></li></ul></div>"
   ]
  },
  {
   "cell_type": "markdown",
   "metadata": {},
   "source": [
    "# Robust Tests of Normality <a class=\"tocSkip\">"
   ]
  },
  {
   "cell_type": "markdown",
   "metadata": {},
   "source": [
    "## Set up the Environment"
   ]
  },
  {
   "cell_type": "code",
   "execution_count": null,
   "metadata": {
    "ExecuteTime": {
     "end_time": "2021-05-03T03:15:21.433414Z",
     "start_time": "2021-05-03T03:15:16.297120Z"
    }
   },
   "outputs": [],
   "source": [
    "import numpy as np\n",
    "import pandas as pd\n",
    "import pickle\n",
    "import robust\n",
    "import util\n",
    "import importlib"
   ]
  },
  {
   "cell_type": "markdown",
   "metadata": {},
   "source": [
    "## Find the Critical Values Corresponding to $\\alpha=0.01, 0.05$"
   ]
  },
  {
   "cell_type": "markdown",
   "metadata": {},
   "source": [
    "### Run Simulations to Find the Values"
   ]
  },
  {
   "cell_type": "code",
   "execution_count": null,
   "metadata": {
    "ExecuteTime": {
     "end_time": "2021-05-03T03:17:17.534261Z",
     "start_time": "2021-05-03T03:17:13.299766Z"
    }
   },
   "outputs": [],
   "source": [
    "# Prepare the normal samples\n",
    "samples = {}\n",
    "\n",
    "ns = list(range(2, 101, 1))\n",
    "\n",
    "for n in ns:\n",
    "    print(n)\n",
    "    samples[n] = [np.random.normal(0, 1, n).tolist() for l in range(10000)]"
   ]
  },
  {
   "cell_type": "code",
   "execution_count": null,
   "metadata": {
    "ExecuteTime": {
     "end_time": "2021-05-03T03:59:43.366632Z",
     "start_time": "2021-05-03T03:59:43.357263Z"
    }
   },
   "outputs": [],
   "source": [
    "#critical_values = {}\n",
    "\n",
    "for test_name in robust.statistics:\n",
    "    for n in samples:\n",
    "        if n not in [5]:\n",
    "            continue\n",
    "        for alpha in [0.01, 0.05,]:\n",
    "            print(n, alpha)\n",
    "            critical_values[test_name][(n, alpha)]  = None"
   ]
  },
  {
   "cell_type": "code",
   "execution_count": null,
   "metadata": {
    "ExecuteTime": {
     "end_time": "2021-05-03T04:00:09.983542Z",
     "start_time": "2021-05-03T03:59:59.291887Z"
    }
   },
   "outputs": [],
   "source": [
    "for name in robust.statistics:\n",
    "    print(name)\n",
    "    statistic = robust.statistics[name]\n",
    "    \n",
    "    for n in samples:\n",
    "        #print(f'{n}{\",\" if n < 100 else \"\"} ', end='')\n",
    "        if n != 5:\n",
    "            continue\n",
    "            \n",
    "        print(f'{n}{\",\" if n < 100 else \"\"} ', end='')\n",
    "\n",
    "        scores = [statistic(sample) for sample in samples[n]]\n",
    "        \n",
    "        if name in ['MMRT1', 'MMRT2', 'TTRT1', 'TTRT2']:\n",
    "            thresholds = np.quantile(scores, [0.99, 0.95]).tolist()\n",
    "        else:\n",
    "            thresholds = np.quantile(scores, [0.01, 0.05]).tolist()\n",
    "\n",
    "        for alpha, critical_value in zip([0.01, 0.05], thresholds):\n",
    "            critical_values[name][(n, alpha)] = critical_value\n",
    "\n",
    "    print('\\n')"
   ]
  },
  {
   "cell_type": "code",
   "execution_count": null,
   "metadata": {
    "ExecuteTime": {
     "end_time": "2021-05-03T04:00:14.926753Z",
     "start_time": "2021-05-03T04:00:14.917100Z"
    }
   },
   "outputs": [],
   "source": [
    "# Save the critical values as a pickle file\n",
    "with open('robust_critical_values.p', 'wb') as f:\n",
    "    pickle.dump(critical_values, f)"
   ]
  },
  {
   "cell_type": "markdown",
   "metadata": {},
   "source": [
    "### Check if the Tests' Sizes Correspond to the Nominal Values of $\\alpha$"
   ]
  },
  {
   "cell_type": "code",
   "execution_count": null,
   "metadata": {
    "ExecuteTime": {
     "end_time": "2021-04-14T22:34:17.211860Z",
     "start_time": "2021-04-14T22:34:16.032349Z"
    }
   },
   "outputs": [],
   "source": [
    "samples = {}\n",
    "\n",
    "for n in range(10, 101, 10):\n",
    "    samples[n] = [np.random.normal(0, 1, n).tolist() for l in range(10000)]"
   ]
  },
  {
   "cell_type": "code",
   "execution_count": null,
   "metadata": {
    "ExecuteTime": {
     "end_time": "2021-04-14T22:52:00.468759Z",
     "start_time": "2021-04-14T22:52:00.456032Z"
    }
   },
   "outputs": [],
   "source": [
    "tests = {}\n",
    "for name in ['MMRT1', 'MMRT2', 'TTRT1', 'TTRT2', 'RSW', 'RLM']:\n",
    "    test, statistic = robust.get_robust_test(name)\n",
    "    for alpha in [0.01, 0.05]:\n",
    "        tests[(name, alpha)] = util.TestClassifier(test, statistic, alpha)"
   ]
  },
  {
   "cell_type": "code",
   "execution_count": null,
   "metadata": {
    "ExecuteTime": {
     "end_time": "2021-04-14T23:04:49.092024Z",
     "start_time": "2021-04-14T22:55:34.154257Z"
    }
   },
   "outputs": [],
   "source": [
    "sizes = {}\n",
    "\n",
    "for n in samples:\n",
    "    print(n)\n",
    "    \n",
    "    sizes[n] = []\n",
    "    \n",
    "    for test_name in sorted(tests.keys()):\n",
    "        rtc = tests[test_name]\n",
    "        decisions = rtc.predict(samples[n])\n",
    "      \n",
    "        size = 1.0 - sum(decisions) / len(decisions)\n",
    "        sizes[n].append(size)"
   ]
  },
  {
   "cell_type": "code",
   "execution_count": null,
   "metadata": {
    "ExecuteTime": {
     "end_time": "2021-04-14T23:05:03.433472Z",
     "start_time": "2021-04-14T23:05:03.399967Z"
    }
   },
   "outputs": [],
   "source": [
    "df = pd.DataFrame(sizes).T\n",
    "df.columns = sorted(tests.keys())\n",
    "df = df.T\n",
    "df"
   ]
  },
  {
   "cell_type": "markdown",
   "metadata": {},
   "source": [
    "In the original experiments, it turned out that the empirical $FNR$ could be controlled by setting $\\alpha$ to the desired value."
   ]
  },
  {
   "cell_type": "code",
   "execution_count": null,
   "metadata": {},
   "outputs": [],
   "source": []
  }
 ],
 "metadata": {
  "kernelspec": {
   "display_name": "p3normal",
   "language": "python",
   "name": "p3normal"
  },
  "language_info": {
   "codemirror_mode": {
    "name": "ipython",
    "version": 3
   },
   "file_extension": ".py",
   "mimetype": "text/x-python",
   "name": "python",
   "nbconvert_exporter": "python",
   "pygments_lexer": "ipython3",
   "version": "3.6.9"
  },
  "toc": {
   "base_numbering": 1,
   "nav_menu": {},
   "number_sections": true,
   "sideBar": true,
   "skip_h1_title": false,
   "title_cell": "Table of Contents",
   "title_sidebar": "Contents",
   "toc_cell": true,
   "toc_position": {
    "height": "calc(100% - 180px)",
    "left": "10px",
    "top": "150px",
    "width": "247.067px"
   },
   "toc_section_display": true,
   "toc_window_display": true
  }
 },
 "nbformat": 4,
 "nbformat_minor": 4
}
